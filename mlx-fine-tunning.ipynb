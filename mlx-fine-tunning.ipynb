{
 "cells": [
  {
   "cell_type": "code",
   "execution_count": 1,
   "id": "49d0b88e",
   "metadata": {},
   "outputs": [],
   "source": [
    "import json\n",
    "import os\n",
    "from typing import Dict, List, Tuple, Union\n",
    "\n",
    "import mlx.optimizers as optim\n",
    "from mlx.utils import tree_flatten\n",
    "from mlx_lm import load\n",
    "from mlx_lm.tuner import TrainingArgs, linear_to_lora_layers, train"
   ]
  },
  {
   "cell_type": "code",
   "execution_count": 2,
   "id": "54fcc795",
   "metadata": {},
   "outputs": [
    {
     "data": {
      "application/vnd.jupyter.widget-view+json": {
       "model_id": "80f37bb7cf084eda8584462917aa9375",
       "version_major": 2,
       "version_minor": 0
      },
      "text/plain": [
       "Fetching 11 files:   0%|          | 0/11 [00:00<?, ?it/s]"
      ]
     },
     "metadata": {},
     "output_type": "display_data"
    }
   ],
   "source": [
    "model_path = \"mlx-community/Phi-3.5-mini-instruct-4bit\"\n",
    "model, tokenizer = load(model_path)"
   ]
  },
  {
   "cell_type": "code",
   "execution_count": 3,
   "id": "ca69edf7",
   "metadata": {},
   "outputs": [],
   "source": [
    "adapter_path = \"adapters\"\n",
    "os.makedirs(adapter_path, exist_ok=True)\n",
    "adapter_config_path = os.path.join(adapter_path, \"adapter_config.json\")\n",
    "adapter_file_path = os.path.join(adapter_path, \"adapters.safetensors\")"
   ]
  },
  {
   "cell_type": "markdown",
   "id": "a73d99b8",
   "metadata": {},
   "source": [
    "# Lora config"
   ]
  },
  {
   "cell_type": "code",
   "execution_count": 4,
   "id": "5f6b1d93",
   "metadata": {},
   "outputs": [],
   "source": [
    "lora_config = {\n",
    "    \"num_layers\": 8,\n",
    "    \"lora_parameters\": {\n",
    "        \"rank\": 4,\n",
    "        \"scale\": 20.0,\n",
    "        \"dropout\": 0.0,\n",
    "    },\n",
    "}"
   ]
  },
  {
   "cell_type": "code",
   "execution_count": 5,
   "id": "167a0f58",
   "metadata": {},
   "outputs": [],
   "source": [
    "with open(adapter_config_path, \"w\") as f:\n",
    "    json.dump(lora_config, f, indent=4)"
   ]
  },
  {
   "cell_type": "code",
   "execution_count": 6,
   "id": "38d27b93",
   "metadata": {},
   "outputs": [],
   "source": [
    "training_args = TrainingArgs(\n",
    "    adapter_file=adapter_file_path,\n",
    "    iters=100,\n",
    "    steps_per_eval=50,\n",
    "    grad_checkpoint=True,\n",
    ")"
   ]
  },
  {
   "cell_type": "code",
   "execution_count": 7,
   "id": "a3b86f5c",
   "metadata": {},
   "outputs": [
    {
     "name": "stdout",
     "output_type": "stream",
     "text": [
      "Number of trainable parameters: 393216\n"
     ]
    },
    {
     "data": {
      "text/plain": [
       "Model(\n",
       "  (model): Phi3Model(\n",
       "    (embed_tokens): QuantizedEmbedding(32064, 3072, group_size=64, bits=4)\n",
       "    (layers.0): TransformerBlock(\n",
       "      (self_attn): Attention(\n",
       "        (qkv_proj): QuantizedLinear(input_dims=3072, output_dims=9216, bias=False, group_size=64, bits=4)\n",
       "        (o_proj): QuantizedLinear(input_dims=3072, output_dims=3072, bias=False, group_size=64, bits=4)\n",
       "        (rope): SuScaledRoPE()\n",
       "      )\n",
       "      (mlp): MLP(\n",
       "        (gate_up_proj): QuantizedLinear(input_dims=3072, output_dims=16384, bias=False, group_size=64, bits=4)\n",
       "        (down_proj): QuantizedLinear(input_dims=8192, output_dims=3072, bias=False, group_size=64, bits=4)\n",
       "      )\n",
       "      (input_layernorm): RMSNorm(3072, eps=1e-05)\n",
       "      (post_attention_layernorm): RMSNorm(3072, eps=1e-05)\n",
       "    )\n",
       "    (layers.1): TransformerBlock(\n",
       "      (self_attn): Attention(\n",
       "        (qkv_proj): QuantizedLinear(input_dims=3072, output_dims=9216, bias=False, group_size=64, bits=4)\n",
       "        (o_proj): QuantizedLinear(input_dims=3072, output_dims=3072, bias=False, group_size=64, bits=4)\n",
       "        (rope): SuScaledRoPE()\n",
       "      )\n",
       "      (mlp): MLP(\n",
       "        (gate_up_proj): QuantizedLinear(input_dims=3072, output_dims=16384, bias=False, group_size=64, bits=4)\n",
       "        (down_proj): QuantizedLinear(input_dims=8192, output_dims=3072, bias=False, group_size=64, bits=4)\n",
       "      )\n",
       "      (input_layernorm): RMSNorm(3072, eps=1e-05)\n",
       "      (post_attention_layernorm): RMSNorm(3072, eps=1e-05)\n",
       "    )\n",
       "    (layers.2): TransformerBlock(\n",
       "      (self_attn): Attention(\n",
       "        (qkv_proj): QuantizedLinear(input_dims=3072, output_dims=9216, bias=False, group_size=64, bits=4)\n",
       "        (o_proj): QuantizedLinear(input_dims=3072, output_dims=3072, bias=False, group_size=64, bits=4)\n",
       "        (rope): SuScaledRoPE()\n",
       "      )\n",
       "      (mlp): MLP(\n",
       "        (gate_up_proj): QuantizedLinear(input_dims=3072, output_dims=16384, bias=False, group_size=64, bits=4)\n",
       "        (down_proj): QuantizedLinear(input_dims=8192, output_dims=3072, bias=False, group_size=64, bits=4)\n",
       "      )\n",
       "      (input_layernorm): RMSNorm(3072, eps=1e-05)\n",
       "      (post_attention_layernorm): RMSNorm(3072, eps=1e-05)\n",
       "    )\n",
       "    (layers.3): TransformerBlock(\n",
       "      (self_attn): Attention(\n",
       "        (qkv_proj): QuantizedLinear(input_dims=3072, output_dims=9216, bias=False, group_size=64, bits=4)\n",
       "        (o_proj): QuantizedLinear(input_dims=3072, output_dims=3072, bias=False, group_size=64, bits=4)\n",
       "        (rope): SuScaledRoPE()\n",
       "      )\n",
       "      (mlp): MLP(\n",
       "        (gate_up_proj): QuantizedLinear(input_dims=3072, output_dims=16384, bias=False, group_size=64, bits=4)\n",
       "        (down_proj): QuantizedLinear(input_dims=8192, output_dims=3072, bias=False, group_size=64, bits=4)\n",
       "      )\n",
       "      (input_layernorm): RMSNorm(3072, eps=1e-05)\n",
       "      (post_attention_layernorm): RMSNorm(3072, eps=1e-05)\n",
       "    )\n",
       "    (layers.4): TransformerBlock(\n",
       "      (self_attn): Attention(\n",
       "        (qkv_proj): QuantizedLinear(input_dims=3072, output_dims=9216, bias=False, group_size=64, bits=4)\n",
       "        (o_proj): QuantizedLinear(input_dims=3072, output_dims=3072, bias=False, group_size=64, bits=4)\n",
       "        (rope): SuScaledRoPE()\n",
       "      )\n",
       "      (mlp): MLP(\n",
       "        (gate_up_proj): QuantizedLinear(input_dims=3072, output_dims=16384, bias=False, group_size=64, bits=4)\n",
       "        (down_proj): QuantizedLinear(input_dims=8192, output_dims=3072, bias=False, group_size=64, bits=4)\n",
       "      )\n",
       "      (input_layernorm): RMSNorm(3072, eps=1e-05)\n",
       "      (post_attention_layernorm): RMSNorm(3072, eps=1e-05)\n",
       "    )\n",
       "    (layers.5): TransformerBlock(\n",
       "      (self_attn): Attention(\n",
       "        (qkv_proj): QuantizedLinear(input_dims=3072, output_dims=9216, bias=False, group_size=64, bits=4)\n",
       "        (o_proj): QuantizedLinear(input_dims=3072, output_dims=3072, bias=False, group_size=64, bits=4)\n",
       "        (rope): SuScaledRoPE()\n",
       "      )\n",
       "      (mlp): MLP(\n",
       "        (gate_up_proj): QuantizedLinear(input_dims=3072, output_dims=16384, bias=False, group_size=64, bits=4)\n",
       "        (down_proj): QuantizedLinear(input_dims=8192, output_dims=3072, bias=False, group_size=64, bits=4)\n",
       "      )\n",
       "      (input_layernorm): RMSNorm(3072, eps=1e-05)\n",
       "      (post_attention_layernorm): RMSNorm(3072, eps=1e-05)\n",
       "    )\n",
       "    (layers.6): TransformerBlock(\n",
       "      (self_attn): Attention(\n",
       "        (qkv_proj): QuantizedLinear(input_dims=3072, output_dims=9216, bias=False, group_size=64, bits=4)\n",
       "        (o_proj): QuantizedLinear(input_dims=3072, output_dims=3072, bias=False, group_size=64, bits=4)\n",
       "        (rope): SuScaledRoPE()\n",
       "      )\n",
       "      (mlp): MLP(\n",
       "        (gate_up_proj): QuantizedLinear(input_dims=3072, output_dims=16384, bias=False, group_size=64, bits=4)\n",
       "        (down_proj): QuantizedLinear(input_dims=8192, output_dims=3072, bias=False, group_size=64, bits=4)\n",
       "      )\n",
       "      (input_layernorm): RMSNorm(3072, eps=1e-05)\n",
       "      (post_attention_layernorm): RMSNorm(3072, eps=1e-05)\n",
       "    )\n",
       "    (layers.7): TransformerBlock(\n",
       "      (self_attn): Attention(\n",
       "        (qkv_proj): QuantizedLinear(input_dims=3072, output_dims=9216, bias=False, group_size=64, bits=4)\n",
       "        (o_proj): QuantizedLinear(input_dims=3072, output_dims=3072, bias=False, group_size=64, bits=4)\n",
       "        (rope): SuScaledRoPE()\n",
       "      )\n",
       "      (mlp): MLP(\n",
       "        (gate_up_proj): QuantizedLinear(input_dims=3072, output_dims=16384, bias=False, group_size=64, bits=4)\n",
       "        (down_proj): QuantizedLinear(input_dims=8192, output_dims=3072, bias=False, group_size=64, bits=4)\n",
       "      )\n",
       "      (input_layernorm): RMSNorm(3072, eps=1e-05)\n",
       "      (post_attention_layernorm): RMSNorm(3072, eps=1e-05)\n",
       "    )\n",
       "    (layers.8): TransformerBlock(\n",
       "      (self_attn): Attention(\n",
       "        (qkv_proj): QuantizedLinear(input_dims=3072, output_dims=9216, bias=False, group_size=64, bits=4)\n",
       "        (o_proj): QuantizedLinear(input_dims=3072, output_dims=3072, bias=False, group_size=64, bits=4)\n",
       "        (rope): SuScaledRoPE()\n",
       "      )\n",
       "      (mlp): MLP(\n",
       "        (gate_up_proj): QuantizedLinear(input_dims=3072, output_dims=16384, bias=False, group_size=64, bits=4)\n",
       "        (down_proj): QuantizedLinear(input_dims=8192, output_dims=3072, bias=False, group_size=64, bits=4)\n",
       "      )\n",
       "      (input_layernorm): RMSNorm(3072, eps=1e-05)\n",
       "      (post_attention_layernorm): RMSNorm(3072, eps=1e-05)\n",
       "    )\n",
       "    (layers.9): TransformerBlock(\n",
       "      (self_attn): Attention(\n",
       "        (qkv_proj): QuantizedLinear(input_dims=3072, output_dims=9216, bias=False, group_size=64, bits=4)\n",
       "        (o_proj): QuantizedLinear(input_dims=3072, output_dims=3072, bias=False, group_size=64, bits=4)\n",
       "        (rope): SuScaledRoPE()\n",
       "      )\n",
       "      (mlp): MLP(\n",
       "        (gate_up_proj): QuantizedLinear(input_dims=3072, output_dims=16384, bias=False, group_size=64, bits=4)\n",
       "        (down_proj): QuantizedLinear(input_dims=8192, output_dims=3072, bias=False, group_size=64, bits=4)\n",
       "      )\n",
       "      (input_layernorm): RMSNorm(3072, eps=1e-05)\n",
       "      (post_attention_layernorm): RMSNorm(3072, eps=1e-05)\n",
       "    )\n",
       "    (layers.10): TransformerBlock(\n",
       "      (self_attn): Attention(\n",
       "        (qkv_proj): QuantizedLinear(input_dims=3072, output_dims=9216, bias=False, group_size=64, bits=4)\n",
       "        (o_proj): QuantizedLinear(input_dims=3072, output_dims=3072, bias=False, group_size=64, bits=4)\n",
       "        (rope): SuScaledRoPE()\n",
       "      )\n",
       "      (mlp): MLP(\n",
       "        (gate_up_proj): QuantizedLinear(input_dims=3072, output_dims=16384, bias=False, group_size=64, bits=4)\n",
       "        (down_proj): QuantizedLinear(input_dims=8192, output_dims=3072, bias=False, group_size=64, bits=4)\n",
       "      )\n",
       "      (input_layernorm): RMSNorm(3072, eps=1e-05)\n",
       "      (post_attention_layernorm): RMSNorm(3072, eps=1e-05)\n",
       "    )\n",
       "    (layers.11): TransformerBlock(\n",
       "      (self_attn): Attention(\n",
       "        (qkv_proj): QuantizedLinear(input_dims=3072, output_dims=9216, bias=False, group_size=64, bits=4)\n",
       "        (o_proj): QuantizedLinear(input_dims=3072, output_dims=3072, bias=False, group_size=64, bits=4)\n",
       "        (rope): SuScaledRoPE()\n",
       "      )\n",
       "      (mlp): MLP(\n",
       "        (gate_up_proj): QuantizedLinear(input_dims=3072, output_dims=16384, bias=False, group_size=64, bits=4)\n",
       "        (down_proj): QuantizedLinear(input_dims=8192, output_dims=3072, bias=False, group_size=64, bits=4)\n",
       "      )\n",
       "      (input_layernorm): RMSNorm(3072, eps=1e-05)\n",
       "      (post_attention_layernorm): RMSNorm(3072, eps=1e-05)\n",
       "    )\n",
       "    (layers.12): TransformerBlock(\n",
       "      (self_attn): Attention(\n",
       "        (qkv_proj): QuantizedLinear(input_dims=3072, output_dims=9216, bias=False, group_size=64, bits=4)\n",
       "        (o_proj): QuantizedLinear(input_dims=3072, output_dims=3072, bias=False, group_size=64, bits=4)\n",
       "        (rope): SuScaledRoPE()\n",
       "      )\n",
       "      (mlp): MLP(\n",
       "        (gate_up_proj): QuantizedLinear(input_dims=3072, output_dims=16384, bias=False, group_size=64, bits=4)\n",
       "        (down_proj): QuantizedLinear(input_dims=8192, output_dims=3072, bias=False, group_size=64, bits=4)\n",
       "      )\n",
       "      (input_layernorm): RMSNorm(3072, eps=1e-05)\n",
       "      (post_attention_layernorm): RMSNorm(3072, eps=1e-05)\n",
       "    )\n",
       "    (layers.13): TransformerBlock(\n",
       "      (self_attn): Attention(\n",
       "        (qkv_proj): QuantizedLinear(input_dims=3072, output_dims=9216, bias=False, group_size=64, bits=4)\n",
       "        (o_proj): QuantizedLinear(input_dims=3072, output_dims=3072, bias=False, group_size=64, bits=4)\n",
       "        (rope): SuScaledRoPE()\n",
       "      )\n",
       "      (mlp): MLP(\n",
       "        (gate_up_proj): QuantizedLinear(input_dims=3072, output_dims=16384, bias=False, group_size=64, bits=4)\n",
       "        (down_proj): QuantizedLinear(input_dims=8192, output_dims=3072, bias=False, group_size=64, bits=4)\n",
       "      )\n",
       "      (input_layernorm): RMSNorm(3072, eps=1e-05)\n",
       "      (post_attention_layernorm): RMSNorm(3072, eps=1e-05)\n",
       "    )\n",
       "    (layers.14): TransformerBlock(\n",
       "      (self_attn): Attention(\n",
       "        (qkv_proj): QuantizedLinear(input_dims=3072, output_dims=9216, bias=False, group_size=64, bits=4)\n",
       "        (o_proj): QuantizedLinear(input_dims=3072, output_dims=3072, bias=False, group_size=64, bits=4)\n",
       "        (rope): SuScaledRoPE()\n",
       "      )\n",
       "      (mlp): MLP(\n",
       "        (gate_up_proj): QuantizedLinear(input_dims=3072, output_dims=16384, bias=False, group_size=64, bits=4)\n",
       "        (down_proj): QuantizedLinear(input_dims=8192, output_dims=3072, bias=False, group_size=64, bits=4)\n",
       "      )\n",
       "      (input_layernorm): RMSNorm(3072, eps=1e-05)\n",
       "      (post_attention_layernorm): RMSNorm(3072, eps=1e-05)\n",
       "    )\n",
       "    (layers.15): TransformerBlock(\n",
       "      (self_attn): Attention(\n",
       "        (qkv_proj): QuantizedLinear(input_dims=3072, output_dims=9216, bias=False, group_size=64, bits=4)\n",
       "        (o_proj): QuantizedLinear(input_dims=3072, output_dims=3072, bias=False, group_size=64, bits=4)\n",
       "        (rope): SuScaledRoPE()\n",
       "      )\n",
       "      (mlp): MLP(\n",
       "        (gate_up_proj): QuantizedLinear(input_dims=3072, output_dims=16384, bias=False, group_size=64, bits=4)\n",
       "        (down_proj): QuantizedLinear(input_dims=8192, output_dims=3072, bias=False, group_size=64, bits=4)\n",
       "      )\n",
       "      (input_layernorm): RMSNorm(3072, eps=1e-05)\n",
       "      (post_attention_layernorm): RMSNorm(3072, eps=1e-05)\n",
       "    )\n",
       "    (layers.16): TransformerBlock(\n",
       "      (self_attn): Attention(\n",
       "        (qkv_proj): QuantizedLinear(input_dims=3072, output_dims=9216, bias=False, group_size=64, bits=4)\n",
       "        (o_proj): QuantizedLinear(input_dims=3072, output_dims=3072, bias=False, group_size=64, bits=4)\n",
       "        (rope): SuScaledRoPE()\n",
       "      )\n",
       "      (mlp): MLP(\n",
       "        (gate_up_proj): QuantizedLinear(input_dims=3072, output_dims=16384, bias=False, group_size=64, bits=4)\n",
       "        (down_proj): QuantizedLinear(input_dims=8192, output_dims=3072, bias=False, group_size=64, bits=4)\n",
       "      )\n",
       "      (input_layernorm): RMSNorm(3072, eps=1e-05)\n",
       "      (post_attention_layernorm): RMSNorm(3072, eps=1e-05)\n",
       "    )\n",
       "    (layers.17): TransformerBlock(\n",
       "      (self_attn): Attention(\n",
       "        (qkv_proj): QuantizedLinear(input_dims=3072, output_dims=9216, bias=False, group_size=64, bits=4)\n",
       "        (o_proj): QuantizedLinear(input_dims=3072, output_dims=3072, bias=False, group_size=64, bits=4)\n",
       "        (rope): SuScaledRoPE()\n",
       "      )\n",
       "      (mlp): MLP(\n",
       "        (gate_up_proj): QuantizedLinear(input_dims=3072, output_dims=16384, bias=False, group_size=64, bits=4)\n",
       "        (down_proj): QuantizedLinear(input_dims=8192, output_dims=3072, bias=False, group_size=64, bits=4)\n",
       "      )\n",
       "      (input_layernorm): RMSNorm(3072, eps=1e-05)\n",
       "      (post_attention_layernorm): RMSNorm(3072, eps=1e-05)\n",
       "    )\n",
       "    (layers.18): TransformerBlock(\n",
       "      (self_attn): Attention(\n",
       "        (qkv_proj): QuantizedLinear(input_dims=3072, output_dims=9216, bias=False, group_size=64, bits=4)\n",
       "        (o_proj): QuantizedLinear(input_dims=3072, output_dims=3072, bias=False, group_size=64, bits=4)\n",
       "        (rope): SuScaledRoPE()\n",
       "      )\n",
       "      (mlp): MLP(\n",
       "        (gate_up_proj): QuantizedLinear(input_dims=3072, output_dims=16384, bias=False, group_size=64, bits=4)\n",
       "        (down_proj): QuantizedLinear(input_dims=8192, output_dims=3072, bias=False, group_size=64, bits=4)\n",
       "      )\n",
       "      (input_layernorm): RMSNorm(3072, eps=1e-05)\n",
       "      (post_attention_layernorm): RMSNorm(3072, eps=1e-05)\n",
       "    )\n",
       "    (layers.19): TransformerBlock(\n",
       "      (self_attn): Attention(\n",
       "        (qkv_proj): QuantizedLinear(input_dims=3072, output_dims=9216, bias=False, group_size=64, bits=4)\n",
       "        (o_proj): QuantizedLinear(input_dims=3072, output_dims=3072, bias=False, group_size=64, bits=4)\n",
       "        (rope): SuScaledRoPE()\n",
       "      )\n",
       "      (mlp): MLP(\n",
       "        (gate_up_proj): QuantizedLinear(input_dims=3072, output_dims=16384, bias=False, group_size=64, bits=4)\n",
       "        (down_proj): QuantizedLinear(input_dims=8192, output_dims=3072, bias=False, group_size=64, bits=4)\n",
       "      )\n",
       "      (input_layernorm): RMSNorm(3072, eps=1e-05)\n",
       "      (post_attention_layernorm): RMSNorm(3072, eps=1e-05)\n",
       "    )\n",
       "    (layers.20): TransformerBlock(\n",
       "      (self_attn): Attention(\n",
       "        (qkv_proj): QuantizedLinear(input_dims=3072, output_dims=9216, bias=False, group_size=64, bits=4)\n",
       "        (o_proj): QuantizedLinear(input_dims=3072, output_dims=3072, bias=False, group_size=64, bits=4)\n",
       "        (rope): SuScaledRoPE()\n",
       "      )\n",
       "      (mlp): MLP(\n",
       "        (gate_up_proj): QuantizedLinear(input_dims=3072, output_dims=16384, bias=False, group_size=64, bits=4)\n",
       "        (down_proj): QuantizedLinear(input_dims=8192, output_dims=3072, bias=False, group_size=64, bits=4)\n",
       "      )\n",
       "      (input_layernorm): RMSNorm(3072, eps=1e-05)\n",
       "      (post_attention_layernorm): RMSNorm(3072, eps=1e-05)\n",
       "    )\n",
       "    (layers.21): TransformerBlock(\n",
       "      (self_attn): Attention(\n",
       "        (qkv_proj): QuantizedLinear(input_dims=3072, output_dims=9216, bias=False, group_size=64, bits=4)\n",
       "        (o_proj): QuantizedLinear(input_dims=3072, output_dims=3072, bias=False, group_size=64, bits=4)\n",
       "        (rope): SuScaledRoPE()\n",
       "      )\n",
       "      (mlp): MLP(\n",
       "        (gate_up_proj): QuantizedLinear(input_dims=3072, output_dims=16384, bias=False, group_size=64, bits=4)\n",
       "        (down_proj): QuantizedLinear(input_dims=8192, output_dims=3072, bias=False, group_size=64, bits=4)\n",
       "      )\n",
       "      (input_layernorm): RMSNorm(3072, eps=1e-05)\n",
       "      (post_attention_layernorm): RMSNorm(3072, eps=1e-05)\n",
       "    )\n",
       "    (layers.22): TransformerBlock(\n",
       "      (self_attn): Attention(\n",
       "        (qkv_proj): QuantizedLinear(input_dims=3072, output_dims=9216, bias=False, group_size=64, bits=4)\n",
       "        (o_proj): QuantizedLinear(input_dims=3072, output_dims=3072, bias=False, group_size=64, bits=4)\n",
       "        (rope): SuScaledRoPE()\n",
       "      )\n",
       "      (mlp): MLP(\n",
       "        (gate_up_proj): QuantizedLinear(input_dims=3072, output_dims=16384, bias=False, group_size=64, bits=4)\n",
       "        (down_proj): QuantizedLinear(input_dims=8192, output_dims=3072, bias=False, group_size=64, bits=4)\n",
       "      )\n",
       "      (input_layernorm): RMSNorm(3072, eps=1e-05)\n",
       "      (post_attention_layernorm): RMSNorm(3072, eps=1e-05)\n",
       "    )\n",
       "    (layers.23): TransformerBlock(\n",
       "      (self_attn): Attention(\n",
       "        (qkv_proj): QuantizedLinear(input_dims=3072, output_dims=9216, bias=False, group_size=64, bits=4)\n",
       "        (o_proj): QuantizedLinear(input_dims=3072, output_dims=3072, bias=False, group_size=64, bits=4)\n",
       "        (rope): SuScaledRoPE()\n",
       "      )\n",
       "      (mlp): MLP(\n",
       "        (gate_up_proj): QuantizedLinear(input_dims=3072, output_dims=16384, bias=False, group_size=64, bits=4)\n",
       "        (down_proj): QuantizedLinear(input_dims=8192, output_dims=3072, bias=False, group_size=64, bits=4)\n",
       "      )\n",
       "      (input_layernorm): RMSNorm(3072, eps=1e-05)\n",
       "      (post_attention_layernorm): RMSNorm(3072, eps=1e-05)\n",
       "    )\n",
       "    (layers.24): TransformerBlock(\n",
       "      (self_attn): Attention(\n",
       "        (qkv_proj): LoRALinear(\n",
       "          (linear): QuantizedLinear(input_dims=3072, output_dims=9216, bias=False, group_size=64, bits=4)\n",
       "          (dropout): Dropout(p=0.0)\n",
       "        )\n",
       "        (o_proj): QuantizedLinear(input_dims=3072, output_dims=3072, bias=False, group_size=64, bits=4)\n",
       "        (rope): SuScaledRoPE()\n",
       "      )\n",
       "      (mlp): MLP(\n",
       "        (gate_up_proj): QuantizedLinear(input_dims=3072, output_dims=16384, bias=False, group_size=64, bits=4)\n",
       "        (down_proj): QuantizedLinear(input_dims=8192, output_dims=3072, bias=False, group_size=64, bits=4)\n",
       "      )\n",
       "      (input_layernorm): RMSNorm(3072, eps=1e-05)\n",
       "      (post_attention_layernorm): RMSNorm(3072, eps=1e-05)\n",
       "    )\n",
       "    (layers.25): TransformerBlock(\n",
       "      (self_attn): Attention(\n",
       "        (qkv_proj): LoRALinear(\n",
       "          (linear): QuantizedLinear(input_dims=3072, output_dims=9216, bias=False, group_size=64, bits=4)\n",
       "          (dropout): Dropout(p=0.0)\n",
       "        )\n",
       "        (o_proj): QuantizedLinear(input_dims=3072, output_dims=3072, bias=False, group_size=64, bits=4)\n",
       "        (rope): SuScaledRoPE()\n",
       "      )\n",
       "      (mlp): MLP(\n",
       "        (gate_up_proj): QuantizedLinear(input_dims=3072, output_dims=16384, bias=False, group_size=64, bits=4)\n",
       "        (down_proj): QuantizedLinear(input_dims=8192, output_dims=3072, bias=False, group_size=64, bits=4)\n",
       "      )\n",
       "      (input_layernorm): RMSNorm(3072, eps=1e-05)\n",
       "      (post_attention_layernorm): RMSNorm(3072, eps=1e-05)\n",
       "    )\n",
       "    (layers.26): TransformerBlock(\n",
       "      (self_attn): Attention(\n",
       "        (qkv_proj): LoRALinear(\n",
       "          (linear): QuantizedLinear(input_dims=3072, output_dims=9216, bias=False, group_size=64, bits=4)\n",
       "          (dropout): Dropout(p=0.0)\n",
       "        )\n",
       "        (o_proj): QuantizedLinear(input_dims=3072, output_dims=3072, bias=False, group_size=64, bits=4)\n",
       "        (rope): SuScaledRoPE()\n",
       "      )\n",
       "      (mlp): MLP(\n",
       "        (gate_up_proj): QuantizedLinear(input_dims=3072, output_dims=16384, bias=False, group_size=64, bits=4)\n",
       "        (down_proj): QuantizedLinear(input_dims=8192, output_dims=3072, bias=False, group_size=64, bits=4)\n",
       "      )\n",
       "      (input_layernorm): RMSNorm(3072, eps=1e-05)\n",
       "      (post_attention_layernorm): RMSNorm(3072, eps=1e-05)\n",
       "    )\n",
       "    (layers.27): TransformerBlock(\n",
       "      (self_attn): Attention(\n",
       "        (qkv_proj): LoRALinear(\n",
       "          (linear): QuantizedLinear(input_dims=3072, output_dims=9216, bias=False, group_size=64, bits=4)\n",
       "          (dropout): Dropout(p=0.0)\n",
       "        )\n",
       "        (o_proj): QuantizedLinear(input_dims=3072, output_dims=3072, bias=False, group_size=64, bits=4)\n",
       "        (rope): SuScaledRoPE()\n",
       "      )\n",
       "      (mlp): MLP(\n",
       "        (gate_up_proj): QuantizedLinear(input_dims=3072, output_dims=16384, bias=False, group_size=64, bits=4)\n",
       "        (down_proj): QuantizedLinear(input_dims=8192, output_dims=3072, bias=False, group_size=64, bits=4)\n",
       "      )\n",
       "      (input_layernorm): RMSNorm(3072, eps=1e-05)\n",
       "      (post_attention_layernorm): RMSNorm(3072, eps=1e-05)\n",
       "    )\n",
       "    (layers.28): TransformerBlock(\n",
       "      (self_attn): Attention(\n",
       "        (qkv_proj): LoRALinear(\n",
       "          (linear): QuantizedLinear(input_dims=3072, output_dims=9216, bias=False, group_size=64, bits=4)\n",
       "          (dropout): Dropout(p=0.0)\n",
       "        )\n",
       "        (o_proj): QuantizedLinear(input_dims=3072, output_dims=3072, bias=False, group_size=64, bits=4)\n",
       "        (rope): SuScaledRoPE()\n",
       "      )\n",
       "      (mlp): MLP(\n",
       "        (gate_up_proj): QuantizedLinear(input_dims=3072, output_dims=16384, bias=False, group_size=64, bits=4)\n",
       "        (down_proj): QuantizedLinear(input_dims=8192, output_dims=3072, bias=False, group_size=64, bits=4)\n",
       "      )\n",
       "      (input_layernorm): RMSNorm(3072, eps=1e-05)\n",
       "      (post_attention_layernorm): RMSNorm(3072, eps=1e-05)\n",
       "    )\n",
       "    (layers.29): TransformerBlock(\n",
       "      (self_attn): Attention(\n",
       "        (qkv_proj): LoRALinear(\n",
       "          (linear): QuantizedLinear(input_dims=3072, output_dims=9216, bias=False, group_size=64, bits=4)\n",
       "          (dropout): Dropout(p=0.0)\n",
       "        )\n",
       "        (o_proj): QuantizedLinear(input_dims=3072, output_dims=3072, bias=False, group_size=64, bits=4)\n",
       "        (rope): SuScaledRoPE()\n",
       "      )\n",
       "      (mlp): MLP(\n",
       "        (gate_up_proj): QuantizedLinear(input_dims=3072, output_dims=16384, bias=False, group_size=64, bits=4)\n",
       "        (down_proj): QuantizedLinear(input_dims=8192, output_dims=3072, bias=False, group_size=64, bits=4)\n",
       "      )\n",
       "      (input_layernorm): RMSNorm(3072, eps=1e-05)\n",
       "      (post_attention_layernorm): RMSNorm(3072, eps=1e-05)\n",
       "    )\n",
       "    (layers.30): TransformerBlock(\n",
       "      (self_attn): Attention(\n",
       "        (qkv_proj): LoRALinear(\n",
       "          (linear): QuantizedLinear(input_dims=3072, output_dims=9216, bias=False, group_size=64, bits=4)\n",
       "          (dropout): Dropout(p=0.0)\n",
       "        )\n",
       "        (o_proj): QuantizedLinear(input_dims=3072, output_dims=3072, bias=False, group_size=64, bits=4)\n",
       "        (rope): SuScaledRoPE()\n",
       "      )\n",
       "      (mlp): MLP(\n",
       "        (gate_up_proj): QuantizedLinear(input_dims=3072, output_dims=16384, bias=False, group_size=64, bits=4)\n",
       "        (down_proj): QuantizedLinear(input_dims=8192, output_dims=3072, bias=False, group_size=64, bits=4)\n",
       "      )\n",
       "      (input_layernorm): RMSNorm(3072, eps=1e-05)\n",
       "      (post_attention_layernorm): RMSNorm(3072, eps=1e-05)\n",
       "    )\n",
       "    (layers.31): TransformerBlock(\n",
       "      (self_attn): Attention(\n",
       "        (qkv_proj): LoRALinear(\n",
       "          (linear): QuantizedLinear(input_dims=3072, output_dims=9216, bias=False, group_size=64, bits=4)\n",
       "          (dropout): Dropout(p=0.0)\n",
       "        )\n",
       "        (o_proj): QuantizedLinear(input_dims=3072, output_dims=3072, bias=False, group_size=64, bits=4)\n",
       "        (rope): SuScaledRoPE()\n",
       "      )\n",
       "      (mlp): MLP(\n",
       "        (gate_up_proj): QuantizedLinear(input_dims=3072, output_dims=16384, bias=False, group_size=64, bits=4)\n",
       "        (down_proj): QuantizedLinear(input_dims=8192, output_dims=3072, bias=False, group_size=64, bits=4)\n",
       "      )\n",
       "      (input_layernorm): RMSNorm(3072, eps=1e-05)\n",
       "      (post_attention_layernorm): RMSNorm(3072, eps=1e-05)\n",
       "    )\n",
       "    (norm): RMSNorm(3072, eps=1e-05)\n",
       "  )\n",
       "  (lm_head): QuantizedLinear(input_dims=3072, output_dims=32064, bias=False, group_size=64, bits=4)\n",
       ")"
      ]
     },
     "execution_count": 7,
     "metadata": {},
     "output_type": "execute_result"
    }
   ],
   "source": [
    "model.freeze()\n",
    "linear_to_lora_layers(model, lora_config[\"num_layers\"], lora_config[\"lora_parameters\"])\n",
    "num_train_params = sum(v.size for _, v in tree_flatten(model.trainable_parameters()))\n",
    "print(f\"Number of trainable parameters: {num_train_params}\")\n",
    "model.train()"
   ]
  },
  {
   "cell_type": "code",
   "execution_count": 8,
   "id": "4b300e9c",
   "metadata": {},
   "outputs": [],
   "source": [
    "class Metrics:\n",
    "    def __init__(self) -> None:\n",
    "        self.train_losses: List[Tuple[int, float]] = []\n",
    "        self.val_losses: List[Tuple[int, float]] = []\n",
    "\n",
    "    def on_train_loss_report(self, info: Dict[str, Union[float, int]]) -> None:\n",
    "        self.train_losses.append((info[\"iteration\"], info[\"train_loss\"]))\n",
    "\n",
    "    def on_val_loss_report(self, info: Dict[str, Union[float, int]]) -> None:\n",
    "        self.val_losses.append((info[\"iteration\"], info[\"val_loss\"]))"
   ]
  },
  {
   "cell_type": "code",
   "execution_count": 12,
   "id": "945ce611",
   "metadata": {},
   "outputs": [],
   "source": [
    "metrics = Metrics()"
   ]
  },
  {
   "cell_type": "markdown",
   "id": "4d6e2b43",
   "metadata": {},
   "source": [
    "# load data"
   ]
  },
  {
   "cell_type": "code",
   "execution_count": 9,
   "id": "0c9949aa",
   "metadata": {},
   "outputs": [],
   "source": [
    "from mlx_lm.tuner.datasets import load_hf_dataset\n",
    "config = { }\n",
    "train_set, val_set, test_set = load_hf_dataset(\n",
    "    data_id=\"mlx-community/wikisql\",\n",
    "    tokenizer=tokenizer,\n",
    "    config=config,\n",
    ")"
   ]
  },
  {
   "cell_type": "code",
   "execution_count": 10,
   "id": "8bd0152a",
   "metadata": {},
   "outputs": [
    {
     "name": "stdout",
     "output_type": "stream",
     "text": [
      "Test set size: 100\n",
      "Validation set size: 100\n",
      "Training set size: 1000\n",
      "test set: {'text': [\"table: 1-10015132-16\\ncolumns: Player, No., Nationality, Position, Years in Toronto, School/Club Team\\nQ: What is terrence ross' nationality\\nA: SELECT Nationality FROM 1-10015132-16 WHERE Player = 'Terrence Ross'\", \"table: 1-10015132-16\\ncolumns: Player, No., Nationality, Position, Years in Toronto, School/Club Team\\nQ: What clu was in toronto 1995-96\\nA: SELECT School/Club Team FROM 1-10015132-16 WHERE Years in Toronto = '1995-96'\"]}\n"
     ]
    }
   ],
   "source": [
    "print(f\"Test set size: {len(test_set)}\")\n",
    "print(f\"Validation set size: {len(val_set)}\")\n",
    "print(f\"Training set size: {len(train_set)}\")\n",
    "print(f\"test set: {test_set[:2]}\")"
   ]
  },
  {
   "cell_type": "code",
   "execution_count": 13,
   "id": "93609708",
   "metadata": {},
   "outputs": [
    {
     "name": "stdout",
     "output_type": "stream",
     "text": [
      "Starting training..., iters: 100\n"
     ]
    },
    {
     "name": "stderr",
     "output_type": "stream",
     "text": [
      "Calculating loss...: 100%|██████████| 25/25 [00:40<00:00,  1.60s/it]"
     ]
    },
    {
     "name": "stdout",
     "output_type": "stream",
     "text": [
      "Iter 1: Val loss 3.253, Val took 40.017s\n"
     ]
    },
    {
     "name": "stderr",
     "output_type": "stream",
     "text": [
      "\n"
     ]
    },
    {
     "name": "stdout",
     "output_type": "stream",
     "text": [
      "Iter 10: Train loss 3.307, Learning Rate 1.000e-05, It/sec 0.459, Tokens/sec 179.449, Trained Tokens 3909, Peak mem 3.126 GB\n",
      "Iter 20: Train loss 2.921, Learning Rate 1.000e-05, It/sec 0.437, Tokens/sec 178.133, Trained Tokens 7988, Peak mem 3.126 GB\n",
      "Iter 30: Train loss 2.336, Learning Rate 1.000e-05, It/sec 0.423, Tokens/sec 172.896, Trained Tokens 12071, Peak mem 3.126 GB\n",
      "Iter 40: Train loss 2.251, Learning Rate 1.000e-05, It/sec 0.449, Tokens/sec 170.352, Trained Tokens 15864, Peak mem 3.126 GB\n"
     ]
    },
    {
     "name": "stderr",
     "output_type": "stream",
     "text": [
      "Calculating loss...: 100%|██████████| 25/25 [00:43<00:00,  1.74s/it]"
     ]
    },
    {
     "name": "stdout",
     "output_type": "stream",
     "text": [
      "Iter 50: Val loss 1.907, Val took 43.516s\n"
     ]
    },
    {
     "name": "stderr",
     "output_type": "stream",
     "text": [
      "\n"
     ]
    },
    {
     "name": "stdout",
     "output_type": "stream",
     "text": [
      "Iter 50: Train loss 2.027, Learning Rate 1.000e-05, It/sec 0.451, Tokens/sec 171.264, Trained Tokens 19664, Peak mem 3.126 GB\n",
      "Iter 60: Train loss 1.967, Learning Rate 1.000e-05, It/sec 0.369, Tokens/sec 161.988, Trained Tokens 24058, Peak mem 3.291 GB\n",
      "Iter 70: Train loss 1.639, Learning Rate 1.000e-05, It/sec 0.380, Tokens/sec 150.717, Trained Tokens 28026, Peak mem 3.291 GB\n",
      "Iter 80: Train loss 1.563, Learning Rate 1.000e-05, It/sec 0.406, Tokens/sec 156.848, Trained Tokens 31889, Peak mem 3.291 GB\n",
      "Iter 90: Train loss 1.549, Learning Rate 1.000e-05, It/sec 0.368, Tokens/sec 143.172, Trained Tokens 35775, Peak mem 3.291 GB\n"
     ]
    },
    {
     "name": "stderr",
     "output_type": "stream",
     "text": [
      "Calculating loss...: 100%|██████████| 25/25 [00:46<00:00,  1.88s/it]"
     ]
    },
    {
     "name": "stdout",
     "output_type": "stream",
     "text": [
      "Iter 100: Val loss 1.540, Val took 46.953s\n"
     ]
    },
    {
     "name": "stderr",
     "output_type": "stream",
     "text": [
      "\n"
     ]
    },
    {
     "name": "stdout",
     "output_type": "stream",
     "text": [
      "Iter 100: Train loss 1.418, Learning Rate 1.000e-05, It/sec 0.351, Tokens/sec 143.131, Trained Tokens 39849, Peak mem 3.291 GB\n",
      "Iter 100: Saved adapter weights to adapters/adapters.safetensors and adapters/0000100_adapters.safetensors.\n",
      "Saved final weights to adapters/adapters.safetensors.\n"
     ]
    }
   ],
   "source": [
    "from mlx_lm.tuner.datasets import CacheDataset\n",
    "\n",
    "train_dataset = CacheDataset(train_set)\n",
    "val_dataset = CacheDataset(val_set)\n",
    "\n",
    "train(\n",
    "    model,\n",
    "    optim.Adam(learning_rate=1e-5),\n",
    "    train_dataset,\n",
    "    val_dataset,\n",
    "    args=training_args,\n",
    "    training_callback=metrics\n",
    ")\n"
   ]
  },
  {
   "cell_type": "markdown",
   "id": "0f932b34",
   "metadata": {},
   "source": [
    "## Fusionar modelo base con adaptador"
   ]
  },
  {
   "cell_type": "code",
   "execution_count": 1,
   "id": "255d5151",
   "metadata": {},
   "outputs": [
    {
     "name": "stdout",
     "output_type": "stream",
     "text": [
      "Loading pretrained model\n"
     ]
    }
   ],
   "source": [
    "! python -m mlx_lm fuse  --model ./phi3-mlx --adapter-path ./adapters --save-path ./new_phi3-mlx"
   ]
  },
  {
   "cell_type": "code",
   "execution_count": null,
   "id": "838e4911",
   "metadata": {},
   "outputs": [],
   "source": [
    "! pip install huggingface_hub\n",
    "! pip install ipywidgets"
   ]
  },
  {
   "cell_type": "markdown",
   "id": "b9616483",
   "metadata": {},
   "source": [
    "# Subir modelo a HF\n",
    "Utilizando el API de HF se sube el modelo a deimagjas/Phi-3.5-mini-instruct-4bit-sft"
   ]
  },
  {
   "cell_type": "code",
   "execution_count": null,
   "id": "a9a7a27b",
   "metadata": {},
   "outputs": [],
   "source": [
    "from huggingface_hub import login\n",
    "\n",
    "login()"
   ]
  },
  {
   "cell_type": "code",
   "execution_count": null,
   "id": "b6ef97ac",
   "metadata": {},
   "outputs": [],
   "source": [
    "from huggingface_hub import create_repo, upload_folder\n",
    "\n",
    "repo_id = \"deimagjas/Phi-3.5-mini-instruct-4bit-sft\"\n",
    "\n",
    "upload_folder(\n",
    "    folder_path=\"./new_phi3-mlx\",\n",
    "    repo_id=repo_id\n",
    ")\n"
   ]
  }
 ],
 "metadata": {
  "kernelspec": {
   "display_name": ".venv",
   "language": "python",
   "name": "python3"
  },
  "language_info": {
   "codemirror_mode": {
    "name": "ipython",
    "version": 3
   },
   "file_extension": ".py",
   "mimetype": "text/x-python",
   "name": "python",
   "nbconvert_exporter": "python",
   "pygments_lexer": "ipython3",
   "version": "3.12.5"
  }
 },
 "nbformat": 4,
 "nbformat_minor": 5
}
