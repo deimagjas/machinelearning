{
 "cells": [
  {
   "cell_type": "code",
   "execution_count": 1,
   "id": "40ce18bb",
   "metadata": {},
   "outputs": [
    {
     "name": "stdout",
     "output_type": "stream",
     "text": [
      "La variable de entorno HF_HOME se ha establecido en: /Users/deimagjas/machinelearning/models_cache\n"
     ]
    }
   ],
   "source": [
    "import os\n",
    "import pathlib\n",
    "\n",
    "project_root = pathlib.Path.cwd()\n",
    "\n",
    "cache_dir = project_root / \"models_cache\"\n",
    "cache_dir.mkdir(exist_ok=True)\n",
    "os.environ['HF_HOME'] = str(cache_dir)\n",
    "print(f\"La variable de entorno HF_HOME se ha establecido en: {os.environ['HF_HOME']}\")\n"
   ]
  },
  {
   "cell_type": "code",
   "execution_count": 9,
   "id": "49d0b88e",
   "metadata": {},
   "outputs": [],
   "source": [
    "import json\n",
    "from typing import Dict, List, Tuple, Union\n",
    "\n",
    "import mlx.optimizers as optim\n",
    "from mlx.utils import tree_flatten\n",
    "from mlx_lm import load, generate\n",
    "from mlx_lm.tuner import TrainingArgs, linear_to_lora_layers, train"
   ]
  },
  {
   "cell_type": "code",
   "execution_count": 3,
   "id": "a9a7a27b",
   "metadata": {},
   "outputs": [
    {
     "data": {
      "application/vnd.jupyter.widget-view+json": {
       "model_id": "619d1d4b85d24dfba4f78337d32912b4",
       "version_major": 2,
       "version_minor": 0
      },
      "text/plain": [
       "VBox(children=(HTML(value='<center> <img\\nsrc=https://huggingface.co/front/assets/huggingface_logo-noborder.sv…"
      ]
     },
     "metadata": {},
     "output_type": "display_data"
    }
   ],
   "source": [
    "from huggingface_hub import login\n",
    "\n",
    "login()"
   ]
  },
  {
   "cell_type": "markdown",
   "id": "208e1a5a",
   "metadata": {},
   "source": [
    "## Carga de modelo desde HF\n",
    "\n",
    "La razón por la que el código funciona con google/gemma-3-270m-it pero no con google/gemma-3-270m se debe a la diferencia entre los\n",
    "  dos tipos de modelos:\n",
    "\n",
    "   1. `google/gemma-3-270m-it`: El sufijo \"-it\" significa \"Instruction Tuned\" (ajustado para instrucciones). Este modelo ha sido\n",
    "      específicamente entrenado para entender y seguir instrucciones en un formato de chat o de pregunta-respuesta. Su tokenizador\n",
    "      incluye una \"plantilla de chat\" (chat template) que formatea la entrada de manera que el modelo la entienda.\n",
    "\n",
    "   2. `google/gemma-3-270m`: Este es el modelo base. Es un modelo de lenguaje pre-entrenado que es bueno para predecir la siguiente\n",
    "      palabra en un texto, pero no ha sido ajustado para seguir instrucciones o para conversar. Su tokenizador no tiene una plantilla de\n",
    "      chat predeterminada."
   ]
  },
  {
   "cell_type": "code",
   "execution_count": 4,
   "id": "54fcc795",
   "metadata": {},
   "outputs": [
    {
     "data": {
      "application/vnd.jupyter.widget-view+json": {
       "model_id": "4a5b0e421c4f46b1af26d816e790b079",
       "version_major": 2,
       "version_minor": 0
      },
      "text/plain": [
       "Fetching 9 files:   0%|          | 0/9 [00:00<?, ?it/s]"
      ]
     },
     "metadata": {},
     "output_type": "display_data"
    }
   ],
   "source": [
    "model_path = \"google/gemma-3-270m-it\"\n",
    "model, tokenizer = load(model_path)"
   ]
  },
  {
   "cell_type": "code",
   "execution_count": 5,
   "id": "14bd441a",
   "metadata": {},
   "outputs": [
    {
     "name": "stdout",
     "output_type": "stream",
     "text": [
      "==========\n",
      "```sql\n",
      "SELECT *\n",
      "FROM Users\n",
      "WHERE Date('now') >= DATE('now', 30);\n",
      "```\n",
      "\n",
      "**Explanation:**\n",
      "\n",
      "* **`SELECT *`**: This selects all columns from the `Users` table.\n",
      "* **`FROM Users`**: This specifies the table to query from.\n",
      "* **`WHERE Date('now') >= DATE('now', 30)`**: This is the filtering condition.\n",
      "    * **`Date('now')`**: This function returns the current date and time.\n",
      "    * **`DATE('now', 30)`**: This function returns the date 30 days ago.\n",
      "    * **`>=`**: This operator checks if the date is greater than or equal to the current date.\n",
      "    * **`DATE('now', 30)`**: This function returns the date 30 days ago.\n",
      "\n",
      "This query will return a table with the following columns:\n",
      "\n",
      "* **`SELECT *`**:  All columns from the `Users` table.\n",
      "* **`FROM Users`**:  Specifies the table to retrieve data from.\n",
      "* **`WHERE Date('now') >= DATE('now', 30)`**:  This filters the results to\n",
      "==========\n",
      "Prompt: 26 tokens, 423.377 tokens-per-sec\n",
      "Generation: 256 tokens, 118.615 tokens-per-sec\n",
      "Peak memory: 0.566 GB\n"
     ]
    }
   ],
   "source": [
    "prompt = \"generate an SQL query to find all users who registered in the last 30 days\"\n",
    "messages = [{\"role\": \"user\", \"content\": prompt}]\n",
    "prompt = tokenizer.apply_chat_template(\n",
    "    messages, tokenize=False, add_generation_prompt=True\n",
    ")\n",
    "response = generate(model, tokenizer, prompt=prompt, verbose=True)"
   ]
  },
  {
   "cell_type": "markdown",
   "id": "0b450341",
   "metadata": {},
   "source": [
    "# Creando Adaptador"
   ]
  },
  {
   "cell_type": "code",
   "execution_count": 6,
   "id": "ca69edf7",
   "metadata": {},
   "outputs": [],
   "source": [
    "adapter_path = \"adapters_gemma3\"\n",
    "os.makedirs(adapter_path, exist_ok=True)\n",
    "adapter_config_path = os.path.join(adapter_path, \"adapter_config.json\")\n",
    "adapter_file_path = os.path.join(adapter_path, \"adapters.safetensors\")"
   ]
  },
  {
   "cell_type": "markdown",
   "id": "a73d99b8",
   "metadata": {},
   "source": [
    "# Lora config"
   ]
  },
  {
   "cell_type": "code",
   "execution_count": 7,
   "id": "5f6b1d93",
   "metadata": {},
   "outputs": [],
   "source": [
    "lora_config = {\n",
    "    \"num_layers\": 8,\n",
    "    \"lora_parameters\": {\n",
    "        \"rank\": 8,\n",
    "        \"scale\": 20.0,\n",
    "        \"dropout\": 0.0,\n",
    "    },\n",
    "}"
   ]
  },
  {
   "cell_type": "code",
   "execution_count": 8,
   "id": "167a0f58",
   "metadata": {},
   "outputs": [],
   "source": [
    "with open(adapter_config_path, \"w\") as f:\n",
    "    json.dump(lora_config, f, indent=4)"
   ]
  },
  {
   "cell_type": "code",
   "execution_count": 9,
   "id": "38d27b93",
   "metadata": {},
   "outputs": [],
   "source": [
    "training_args = TrainingArgs(\n",
    "    adapter_file=adapter_file_path,\n",
    "    iters=200,\n",
    "    steps_per_eval=50,\n",
    "    grad_checkpoint=True,\n",
    ")"
   ]
  },
  {
   "cell_type": "markdown",
   "id": "e66b2991",
   "metadata": {},
   "source": [
    "# Parameters and adapter\n",
    "La razón por la que ves 163,840 parámetros entrenables en lugar de los 270 millones del modelo completo es porque no estás\n",
    "  re-entrenando el modelo entero. Estás utilizando una técnica de ajuste fino de alta eficiencia de parámetros (PEFT) llamada LoRA \n",
    "  (Low-Rank Adaptation).\n",
    "\n",
    "  Así es como funciona en tu notebook:\n",
    "\n",
    "   1. Congelar el modelo base: En la celda con el id: a3b86f5c, la primera línea es model.freeze(). Esto \"congela\" todos los 270 millones\n",
    "      de parámetros del modelo Gemma, haciendo que no sean entrenables.\n",
    "\n",
    "   2. Inyectar adaptadores LoRA: La siguiente línea, linear_to_lora_layers(...), añade pequeños \"adaptadores\" o capas de bajo rango a\n",
    "      ciertas partes del modelo (en tu caso, a 8 capas, según se define en lora_config).\n",
    "\n",
    "   3. Entrenar solo los adaptadores: Solo se entrenan los parámetros de estos nuevos y pequeños adaptadores. El número 163,840 es la suma\n",
    "      de todos los parámetros de estas nuevas capas LoRA que se han añadido.\n",
    "\n",
    "  En resumen:\n",
    "\n",
    "   * 270 Millones: Es el tamaño total del modelo base, que permanece sin cambios.\n",
    "   * 163,840: Es el número de parámetros nuevos y adicionales que estás entrenando. Estos parámetros son los que \"aprenden\" la nueva\n",
    "     tarea (en este caso, generar consultas SQL) y adaptan el conocimiento del modelo original.\n",
    "\n",
    "  Esta es la gran ventaja de LoRA: te permite especializar un modelo enorme en una tarea específica de forma muy rápida y con muchos\n",
    "  menos recursos computacionales, ya que solo necesitas entrenar una fracción minúscula (<0.1%) de los parámetros totales."
   ]
  },
  {
   "cell_type": "code",
   "execution_count": 10,
   "id": "a3b86f5c",
   "metadata": {},
   "outputs": [
    {
     "name": "stdout",
     "output_type": "stream",
     "text": [
      "Number of trainable parameters: 163840\n"
     ]
    },
    {
     "data": {
      "text/plain": [
       "Model(\n",
       "  (model): Gemma3Model(\n",
       "    (embed_tokens): Embedding(262144, 640)\n",
       "    (layers.0): TransformerBlock(\n",
       "      (self_attn): Attention(\n",
       "        (q_proj): Linear(input_dims=640, output_dims=1024, bias=False)\n",
       "        (k_proj): Linear(input_dims=640, output_dims=256, bias=False)\n",
       "        (v_proj): Linear(input_dims=640, output_dims=256, bias=False)\n",
       "        (o_proj): Linear(input_dims=1024, output_dims=640, bias=False)\n",
       "        (q_norm): RMSNorm()\n",
       "        (k_norm): RMSNorm()\n",
       "        (rope): RoPE(256, traditional=False)\n",
       "      )\n",
       "      (mlp): MLP(\n",
       "        (gate_proj): Linear(input_dims=640, output_dims=2048, bias=False)\n",
       "        (down_proj): Linear(input_dims=2048, output_dims=640, bias=False)\n",
       "        (up_proj): Linear(input_dims=640, output_dims=2048, bias=False)\n",
       "      )\n",
       "      (input_layernorm): RMSNorm()\n",
       "      (post_attention_layernorm): RMSNorm()\n",
       "      (pre_feedforward_layernorm): RMSNorm()\n",
       "      (post_feedforward_layernorm): RMSNorm()\n",
       "    )\n",
       "    (layers.1): TransformerBlock(\n",
       "      (self_attn): Attention(\n",
       "        (q_proj): Linear(input_dims=640, output_dims=1024, bias=False)\n",
       "        (k_proj): Linear(input_dims=640, output_dims=256, bias=False)\n",
       "        (v_proj): Linear(input_dims=640, output_dims=256, bias=False)\n",
       "        (o_proj): Linear(input_dims=1024, output_dims=640, bias=False)\n",
       "        (q_norm): RMSNorm()\n",
       "        (k_norm): RMSNorm()\n",
       "        (rope): RoPE(256, traditional=False)\n",
       "      )\n",
       "      (mlp): MLP(\n",
       "        (gate_proj): Linear(input_dims=640, output_dims=2048, bias=False)\n",
       "        (down_proj): Linear(input_dims=2048, output_dims=640, bias=False)\n",
       "        (up_proj): Linear(input_dims=640, output_dims=2048, bias=False)\n",
       "      )\n",
       "      (input_layernorm): RMSNorm()\n",
       "      (post_attention_layernorm): RMSNorm()\n",
       "      (pre_feedforward_layernorm): RMSNorm()\n",
       "      (post_feedforward_layernorm): RMSNorm()\n",
       "    )\n",
       "    (layers.2): TransformerBlock(\n",
       "      (self_attn): Attention(\n",
       "        (q_proj): Linear(input_dims=640, output_dims=1024, bias=False)\n",
       "        (k_proj): Linear(input_dims=640, output_dims=256, bias=False)\n",
       "        (v_proj): Linear(input_dims=640, output_dims=256, bias=False)\n",
       "        (o_proj): Linear(input_dims=1024, output_dims=640, bias=False)\n",
       "        (q_norm): RMSNorm()\n",
       "        (k_norm): RMSNorm()\n",
       "        (rope): RoPE(256, traditional=False)\n",
       "      )\n",
       "      (mlp): MLP(\n",
       "        (gate_proj): Linear(input_dims=640, output_dims=2048, bias=False)\n",
       "        (down_proj): Linear(input_dims=2048, output_dims=640, bias=False)\n",
       "        (up_proj): Linear(input_dims=640, output_dims=2048, bias=False)\n",
       "      )\n",
       "      (input_layernorm): RMSNorm()\n",
       "      (post_attention_layernorm): RMSNorm()\n",
       "      (pre_feedforward_layernorm): RMSNorm()\n",
       "      (post_feedforward_layernorm): RMSNorm()\n",
       "    )\n",
       "    (layers.3): TransformerBlock(\n",
       "      (self_attn): Attention(\n",
       "        (q_proj): Linear(input_dims=640, output_dims=1024, bias=False)\n",
       "        (k_proj): Linear(input_dims=640, output_dims=256, bias=False)\n",
       "        (v_proj): Linear(input_dims=640, output_dims=256, bias=False)\n",
       "        (o_proj): Linear(input_dims=1024, output_dims=640, bias=False)\n",
       "        (q_norm): RMSNorm()\n",
       "        (k_norm): RMSNorm()\n",
       "        (rope): RoPE(256, traditional=False)\n",
       "      )\n",
       "      (mlp): MLP(\n",
       "        (gate_proj): Linear(input_dims=640, output_dims=2048, bias=False)\n",
       "        (down_proj): Linear(input_dims=2048, output_dims=640, bias=False)\n",
       "        (up_proj): Linear(input_dims=640, output_dims=2048, bias=False)\n",
       "      )\n",
       "      (input_layernorm): RMSNorm()\n",
       "      (post_attention_layernorm): RMSNorm()\n",
       "      (pre_feedforward_layernorm): RMSNorm()\n",
       "      (post_feedforward_layernorm): RMSNorm()\n",
       "    )\n",
       "    (layers.4): TransformerBlock(\n",
       "      (self_attn): Attention(\n",
       "        (q_proj): Linear(input_dims=640, output_dims=1024, bias=False)\n",
       "        (k_proj): Linear(input_dims=640, output_dims=256, bias=False)\n",
       "        (v_proj): Linear(input_dims=640, output_dims=256, bias=False)\n",
       "        (o_proj): Linear(input_dims=1024, output_dims=640, bias=False)\n",
       "        (q_norm): RMSNorm()\n",
       "        (k_norm): RMSNorm()\n",
       "        (rope): RoPE(256, traditional=False)\n",
       "      )\n",
       "      (mlp): MLP(\n",
       "        (gate_proj): Linear(input_dims=640, output_dims=2048, bias=False)\n",
       "        (down_proj): Linear(input_dims=2048, output_dims=640, bias=False)\n",
       "        (up_proj): Linear(input_dims=640, output_dims=2048, bias=False)\n",
       "      )\n",
       "      (input_layernorm): RMSNorm()\n",
       "      (post_attention_layernorm): RMSNorm()\n",
       "      (pre_feedforward_layernorm): RMSNorm()\n",
       "      (post_feedforward_layernorm): RMSNorm()\n",
       "    )\n",
       "    (layers.5): TransformerBlock(\n",
       "      (self_attn): Attention(\n",
       "        (q_proj): Linear(input_dims=640, output_dims=1024, bias=False)\n",
       "        (k_proj): Linear(input_dims=640, output_dims=256, bias=False)\n",
       "        (v_proj): Linear(input_dims=640, output_dims=256, bias=False)\n",
       "        (o_proj): Linear(input_dims=1024, output_dims=640, bias=False)\n",
       "        (q_norm): RMSNorm()\n",
       "        (k_norm): RMSNorm()\n",
       "        (rope): RoPE(256, traditional=False)\n",
       "      )\n",
       "      (mlp): MLP(\n",
       "        (gate_proj): Linear(input_dims=640, output_dims=2048, bias=False)\n",
       "        (down_proj): Linear(input_dims=2048, output_dims=640, bias=False)\n",
       "        (up_proj): Linear(input_dims=640, output_dims=2048, bias=False)\n",
       "      )\n",
       "      (input_layernorm): RMSNorm()\n",
       "      (post_attention_layernorm): RMSNorm()\n",
       "      (pre_feedforward_layernorm): RMSNorm()\n",
       "      (post_feedforward_layernorm): RMSNorm()\n",
       "    )\n",
       "    (layers.6): TransformerBlock(\n",
       "      (self_attn): Attention(\n",
       "        (q_proj): Linear(input_dims=640, output_dims=1024, bias=False)\n",
       "        (k_proj): Linear(input_dims=640, output_dims=256, bias=False)\n",
       "        (v_proj): Linear(input_dims=640, output_dims=256, bias=False)\n",
       "        (o_proj): Linear(input_dims=1024, output_dims=640, bias=False)\n",
       "        (q_norm): RMSNorm()\n",
       "        (k_norm): RMSNorm()\n",
       "        (rope): RoPE(256, traditional=False)\n",
       "      )\n",
       "      (mlp): MLP(\n",
       "        (gate_proj): Linear(input_dims=640, output_dims=2048, bias=False)\n",
       "        (down_proj): Linear(input_dims=2048, output_dims=640, bias=False)\n",
       "        (up_proj): Linear(input_dims=640, output_dims=2048, bias=False)\n",
       "      )\n",
       "      (input_layernorm): RMSNorm()\n",
       "      (post_attention_layernorm): RMSNorm()\n",
       "      (pre_feedforward_layernorm): RMSNorm()\n",
       "      (post_feedforward_layernorm): RMSNorm()\n",
       "    )\n",
       "    (layers.7): TransformerBlock(\n",
       "      (self_attn): Attention(\n",
       "        (q_proj): Linear(input_dims=640, output_dims=1024, bias=False)\n",
       "        (k_proj): Linear(input_dims=640, output_dims=256, bias=False)\n",
       "        (v_proj): Linear(input_dims=640, output_dims=256, bias=False)\n",
       "        (o_proj): Linear(input_dims=1024, output_dims=640, bias=False)\n",
       "        (q_norm): RMSNorm()\n",
       "        (k_norm): RMSNorm()\n",
       "        (rope): RoPE(256, traditional=False)\n",
       "      )\n",
       "      (mlp): MLP(\n",
       "        (gate_proj): Linear(input_dims=640, output_dims=2048, bias=False)\n",
       "        (down_proj): Linear(input_dims=2048, output_dims=640, bias=False)\n",
       "        (up_proj): Linear(input_dims=640, output_dims=2048, bias=False)\n",
       "      )\n",
       "      (input_layernorm): RMSNorm()\n",
       "      (post_attention_layernorm): RMSNorm()\n",
       "      (pre_feedforward_layernorm): RMSNorm()\n",
       "      (post_feedforward_layernorm): RMSNorm()\n",
       "    )\n",
       "    (layers.8): TransformerBlock(\n",
       "      (self_attn): Attention(\n",
       "        (q_proj): Linear(input_dims=640, output_dims=1024, bias=False)\n",
       "        (k_proj): Linear(input_dims=640, output_dims=256, bias=False)\n",
       "        (v_proj): Linear(input_dims=640, output_dims=256, bias=False)\n",
       "        (o_proj): Linear(input_dims=1024, output_dims=640, bias=False)\n",
       "        (q_norm): RMSNorm()\n",
       "        (k_norm): RMSNorm()\n",
       "        (rope): RoPE(256, traditional=False)\n",
       "      )\n",
       "      (mlp): MLP(\n",
       "        (gate_proj): Linear(input_dims=640, output_dims=2048, bias=False)\n",
       "        (down_proj): Linear(input_dims=2048, output_dims=640, bias=False)\n",
       "        (up_proj): Linear(input_dims=640, output_dims=2048, bias=False)\n",
       "      )\n",
       "      (input_layernorm): RMSNorm()\n",
       "      (post_attention_layernorm): RMSNorm()\n",
       "      (pre_feedforward_layernorm): RMSNorm()\n",
       "      (post_feedforward_layernorm): RMSNorm()\n",
       "    )\n",
       "    (layers.9): TransformerBlock(\n",
       "      (self_attn): Attention(\n",
       "        (q_proj): Linear(input_dims=640, output_dims=1024, bias=False)\n",
       "        (k_proj): Linear(input_dims=640, output_dims=256, bias=False)\n",
       "        (v_proj): Linear(input_dims=640, output_dims=256, bias=False)\n",
       "        (o_proj): Linear(input_dims=1024, output_dims=640, bias=False)\n",
       "        (q_norm): RMSNorm()\n",
       "        (k_norm): RMSNorm()\n",
       "        (rope): RoPE(256, traditional=False)\n",
       "      )\n",
       "      (mlp): MLP(\n",
       "        (gate_proj): Linear(input_dims=640, output_dims=2048, bias=False)\n",
       "        (down_proj): Linear(input_dims=2048, output_dims=640, bias=False)\n",
       "        (up_proj): Linear(input_dims=640, output_dims=2048, bias=False)\n",
       "      )\n",
       "      (input_layernorm): RMSNorm()\n",
       "      (post_attention_layernorm): RMSNorm()\n",
       "      (pre_feedforward_layernorm): RMSNorm()\n",
       "      (post_feedforward_layernorm): RMSNorm()\n",
       "    )\n",
       "    (layers.10): TransformerBlock(\n",
       "      (self_attn): Attention(\n",
       "        (q_proj): LoRALinear(\n",
       "          (linear): Linear(input_dims=640, output_dims=1024, bias=False)\n",
       "          (dropout): Dropout(p=0.0)\n",
       "        )\n",
       "        (k_proj): Linear(input_dims=640, output_dims=256, bias=False)\n",
       "        (v_proj): LoRALinear(\n",
       "          (linear): Linear(input_dims=640, output_dims=256, bias=False)\n",
       "          (dropout): Dropout(p=0.0)\n",
       "        )\n",
       "        (o_proj): Linear(input_dims=1024, output_dims=640, bias=False)\n",
       "        (q_norm): RMSNorm()\n",
       "        (k_norm): RMSNorm()\n",
       "        (rope): RoPE(256, traditional=False)\n",
       "      )\n",
       "      (mlp): MLP(\n",
       "        (gate_proj): Linear(input_dims=640, output_dims=2048, bias=False)\n",
       "        (down_proj): Linear(input_dims=2048, output_dims=640, bias=False)\n",
       "        (up_proj): Linear(input_dims=640, output_dims=2048, bias=False)\n",
       "      )\n",
       "      (input_layernorm): RMSNorm()\n",
       "      (post_attention_layernorm): RMSNorm()\n",
       "      (pre_feedforward_layernorm): RMSNorm()\n",
       "      (post_feedforward_layernorm): RMSNorm()\n",
       "    )\n",
       "    (layers.11): TransformerBlock(\n",
       "      (self_attn): Attention(\n",
       "        (q_proj): LoRALinear(\n",
       "          (linear): Linear(input_dims=640, output_dims=1024, bias=False)\n",
       "          (dropout): Dropout(p=0.0)\n",
       "        )\n",
       "        (k_proj): Linear(input_dims=640, output_dims=256, bias=False)\n",
       "        (v_proj): LoRALinear(\n",
       "          (linear): Linear(input_dims=640, output_dims=256, bias=False)\n",
       "          (dropout): Dropout(p=0.0)\n",
       "        )\n",
       "        (o_proj): Linear(input_dims=1024, output_dims=640, bias=False)\n",
       "        (q_norm): RMSNorm()\n",
       "        (k_norm): RMSNorm()\n",
       "        (rope): RoPE(256, traditional=False)\n",
       "      )\n",
       "      (mlp): MLP(\n",
       "        (gate_proj): Linear(input_dims=640, output_dims=2048, bias=False)\n",
       "        (down_proj): Linear(input_dims=2048, output_dims=640, bias=False)\n",
       "        (up_proj): Linear(input_dims=640, output_dims=2048, bias=False)\n",
       "      )\n",
       "      (input_layernorm): RMSNorm()\n",
       "      (post_attention_layernorm): RMSNorm()\n",
       "      (pre_feedforward_layernorm): RMSNorm()\n",
       "      (post_feedforward_layernorm): RMSNorm()\n",
       "    )\n",
       "    (layers.12): TransformerBlock(\n",
       "      (self_attn): Attention(\n",
       "        (q_proj): LoRALinear(\n",
       "          (linear): Linear(input_dims=640, output_dims=1024, bias=False)\n",
       "          (dropout): Dropout(p=0.0)\n",
       "        )\n",
       "        (k_proj): Linear(input_dims=640, output_dims=256, bias=False)\n",
       "        (v_proj): LoRALinear(\n",
       "          (linear): Linear(input_dims=640, output_dims=256, bias=False)\n",
       "          (dropout): Dropout(p=0.0)\n",
       "        )\n",
       "        (o_proj): Linear(input_dims=1024, output_dims=640, bias=False)\n",
       "        (q_norm): RMSNorm()\n",
       "        (k_norm): RMSNorm()\n",
       "        (rope): RoPE(256, traditional=False)\n",
       "      )\n",
       "      (mlp): MLP(\n",
       "        (gate_proj): Linear(input_dims=640, output_dims=2048, bias=False)\n",
       "        (down_proj): Linear(input_dims=2048, output_dims=640, bias=False)\n",
       "        (up_proj): Linear(input_dims=640, output_dims=2048, bias=False)\n",
       "      )\n",
       "      (input_layernorm): RMSNorm()\n",
       "      (post_attention_layernorm): RMSNorm()\n",
       "      (pre_feedforward_layernorm): RMSNorm()\n",
       "      (post_feedforward_layernorm): RMSNorm()\n",
       "    )\n",
       "    (layers.13): TransformerBlock(\n",
       "      (self_attn): Attention(\n",
       "        (q_proj): LoRALinear(\n",
       "          (linear): Linear(input_dims=640, output_dims=1024, bias=False)\n",
       "          (dropout): Dropout(p=0.0)\n",
       "        )\n",
       "        (k_proj): Linear(input_dims=640, output_dims=256, bias=False)\n",
       "        (v_proj): LoRALinear(\n",
       "          (linear): Linear(input_dims=640, output_dims=256, bias=False)\n",
       "          (dropout): Dropout(p=0.0)\n",
       "        )\n",
       "        (o_proj): Linear(input_dims=1024, output_dims=640, bias=False)\n",
       "        (q_norm): RMSNorm()\n",
       "        (k_norm): RMSNorm()\n",
       "        (rope): RoPE(256, traditional=False)\n",
       "      )\n",
       "      (mlp): MLP(\n",
       "        (gate_proj): Linear(input_dims=640, output_dims=2048, bias=False)\n",
       "        (down_proj): Linear(input_dims=2048, output_dims=640, bias=False)\n",
       "        (up_proj): Linear(input_dims=640, output_dims=2048, bias=False)\n",
       "      )\n",
       "      (input_layernorm): RMSNorm()\n",
       "      (post_attention_layernorm): RMSNorm()\n",
       "      (pre_feedforward_layernorm): RMSNorm()\n",
       "      (post_feedforward_layernorm): RMSNorm()\n",
       "    )\n",
       "    (layers.14): TransformerBlock(\n",
       "      (self_attn): Attention(\n",
       "        (q_proj): LoRALinear(\n",
       "          (linear): Linear(input_dims=640, output_dims=1024, bias=False)\n",
       "          (dropout): Dropout(p=0.0)\n",
       "        )\n",
       "        (k_proj): Linear(input_dims=640, output_dims=256, bias=False)\n",
       "        (v_proj): LoRALinear(\n",
       "          (linear): Linear(input_dims=640, output_dims=256, bias=False)\n",
       "          (dropout): Dropout(p=0.0)\n",
       "        )\n",
       "        (o_proj): Linear(input_dims=1024, output_dims=640, bias=False)\n",
       "        (q_norm): RMSNorm()\n",
       "        (k_norm): RMSNorm()\n",
       "        (rope): RoPE(256, traditional=False)\n",
       "      )\n",
       "      (mlp): MLP(\n",
       "        (gate_proj): Linear(input_dims=640, output_dims=2048, bias=False)\n",
       "        (down_proj): Linear(input_dims=2048, output_dims=640, bias=False)\n",
       "        (up_proj): Linear(input_dims=640, output_dims=2048, bias=False)\n",
       "      )\n",
       "      (input_layernorm): RMSNorm()\n",
       "      (post_attention_layernorm): RMSNorm()\n",
       "      (pre_feedforward_layernorm): RMSNorm()\n",
       "      (post_feedforward_layernorm): RMSNorm()\n",
       "    )\n",
       "    (layers.15): TransformerBlock(\n",
       "      (self_attn): Attention(\n",
       "        (q_proj): LoRALinear(\n",
       "          (linear): Linear(input_dims=640, output_dims=1024, bias=False)\n",
       "          (dropout): Dropout(p=0.0)\n",
       "        )\n",
       "        (k_proj): Linear(input_dims=640, output_dims=256, bias=False)\n",
       "        (v_proj): LoRALinear(\n",
       "          (linear): Linear(input_dims=640, output_dims=256, bias=False)\n",
       "          (dropout): Dropout(p=0.0)\n",
       "        )\n",
       "        (o_proj): Linear(input_dims=1024, output_dims=640, bias=False)\n",
       "        (q_norm): RMSNorm()\n",
       "        (k_norm): RMSNorm()\n",
       "        (rope): RoPE(256, traditional=False)\n",
       "      )\n",
       "      (mlp): MLP(\n",
       "        (gate_proj): Linear(input_dims=640, output_dims=2048, bias=False)\n",
       "        (down_proj): Linear(input_dims=2048, output_dims=640, bias=False)\n",
       "        (up_proj): Linear(input_dims=640, output_dims=2048, bias=False)\n",
       "      )\n",
       "      (input_layernorm): RMSNorm()\n",
       "      (post_attention_layernorm): RMSNorm()\n",
       "      (pre_feedforward_layernorm): RMSNorm()\n",
       "      (post_feedforward_layernorm): RMSNorm()\n",
       "    )\n",
       "    (layers.16): TransformerBlock(\n",
       "      (self_attn): Attention(\n",
       "        (q_proj): LoRALinear(\n",
       "          (linear): Linear(input_dims=640, output_dims=1024, bias=False)\n",
       "          (dropout): Dropout(p=0.0)\n",
       "        )\n",
       "        (k_proj): Linear(input_dims=640, output_dims=256, bias=False)\n",
       "        (v_proj): LoRALinear(\n",
       "          (linear): Linear(input_dims=640, output_dims=256, bias=False)\n",
       "          (dropout): Dropout(p=0.0)\n",
       "        )\n",
       "        (o_proj): Linear(input_dims=1024, output_dims=640, bias=False)\n",
       "        (q_norm): RMSNorm()\n",
       "        (k_norm): RMSNorm()\n",
       "        (rope): RoPE(256, traditional=False)\n",
       "      )\n",
       "      (mlp): MLP(\n",
       "        (gate_proj): Linear(input_dims=640, output_dims=2048, bias=False)\n",
       "        (down_proj): Linear(input_dims=2048, output_dims=640, bias=False)\n",
       "        (up_proj): Linear(input_dims=640, output_dims=2048, bias=False)\n",
       "      )\n",
       "      (input_layernorm): RMSNorm()\n",
       "      (post_attention_layernorm): RMSNorm()\n",
       "      (pre_feedforward_layernorm): RMSNorm()\n",
       "      (post_feedforward_layernorm): RMSNorm()\n",
       "    )\n",
       "    (layers.17): TransformerBlock(\n",
       "      (self_attn): Attention(\n",
       "        (q_proj): LoRALinear(\n",
       "          (linear): Linear(input_dims=640, output_dims=1024, bias=False)\n",
       "          (dropout): Dropout(p=0.0)\n",
       "        )\n",
       "        (k_proj): Linear(input_dims=640, output_dims=256, bias=False)\n",
       "        (v_proj): LoRALinear(\n",
       "          (linear): Linear(input_dims=640, output_dims=256, bias=False)\n",
       "          (dropout): Dropout(p=0.0)\n",
       "        )\n",
       "        (o_proj): Linear(input_dims=1024, output_dims=640, bias=False)\n",
       "        (q_norm): RMSNorm()\n",
       "        (k_norm): RMSNorm()\n",
       "        (rope): RoPE(256, traditional=False)\n",
       "      )\n",
       "      (mlp): MLP(\n",
       "        (gate_proj): Linear(input_dims=640, output_dims=2048, bias=False)\n",
       "        (down_proj): Linear(input_dims=2048, output_dims=640, bias=False)\n",
       "        (up_proj): Linear(input_dims=640, output_dims=2048, bias=False)\n",
       "      )\n",
       "      (input_layernorm): RMSNorm()\n",
       "      (post_attention_layernorm): RMSNorm()\n",
       "      (pre_feedforward_layernorm): RMSNorm()\n",
       "      (post_feedforward_layernorm): RMSNorm()\n",
       "    )\n",
       "    (norm): RMSNorm()\n",
       "  )\n",
       "  (lm_head): Linear(input_dims=640, output_dims=262144, bias=False)\n",
       ")"
      ]
     },
     "execution_count": 10,
     "metadata": {},
     "output_type": "execute_result"
    }
   ],
   "source": [
    "model.freeze()\n",
    "linear_to_lora_layers(model, lora_config[\"num_layers\"], lora_config[\"lora_parameters\"])\n",
    "num_train_params = sum(v.size for _, v in tree_flatten(model.trainable_parameters()))\n",
    "print(f\"Number of trainable parameters: {num_train_params}\")\n",
    "model.train()"
   ]
  },
  {
   "cell_type": "code",
   "execution_count": 11,
   "id": "4b300e9c",
   "metadata": {},
   "outputs": [],
   "source": [
    "class Metrics:\n",
    "    def __init__(self) -> None:\n",
    "        self.train_losses: List[Tuple[int, float]] = []\n",
    "        self.val_losses: List[Tuple[int, float]] = []\n",
    "\n",
    "    def on_train_loss_report(self, info: Dict[str, Union[float, int]]) -> None:\n",
    "        self.train_losses.append((info[\"iteration\"], info[\"train_loss\"]))\n",
    "\n",
    "    def on_val_loss_report(self, info: Dict[str, Union[float, int]]) -> None:\n",
    "        self.val_losses.append((info[\"iteration\"], info[\"val_loss\"]))"
   ]
  },
  {
   "cell_type": "code",
   "execution_count": 12,
   "id": "945ce611",
   "metadata": {},
   "outputs": [],
   "source": [
    "metrics = Metrics()"
   ]
  },
  {
   "cell_type": "markdown",
   "id": "4d6e2b43",
   "metadata": {},
   "source": [
    "# load data"
   ]
  },
  {
   "cell_type": "code",
   "execution_count": 13,
   "id": "0c9949aa",
   "metadata": {},
   "outputs": [
    {
     "data": {
      "application/vnd.jupyter.widget-view+json": {
       "model_id": "981ccfcd6d3a4fe8bb1ea5ebc2dae6a5",
       "version_major": 2,
       "version_minor": 0
      },
      "text/plain": [
       "README.md:   0%|          | 0.00/841 [00:00<?, ?B/s]"
      ]
     },
     "metadata": {},
     "output_type": "display_data"
    },
    {
     "data": {
      "application/vnd.jupyter.widget-view+json": {
       "model_id": "7e622fb1b61e4aaf89de2b01dc54db30",
       "version_major": 2,
       "version_minor": 0
      },
      "text/plain": [
       "data/train-00000-of-00001.parquet:   0%|          | 0.00/74.0k [00:00<?, ?B/s]"
      ]
     },
     "metadata": {},
     "output_type": "display_data"
    },
    {
     "data": {
      "application/vnd.jupyter.widget-view+json": {
       "model_id": "e8beb2426c634532adb45861e0f24fe6",
       "version_major": 2,
       "version_minor": 0
      },
      "text/plain": [
       "data/valid-00000-of-00001.parquet:   0%|          | 0.00/10.2k [00:00<?, ?B/s]"
      ]
     },
     "metadata": {},
     "output_type": "display_data"
    },
    {
     "data": {
      "application/vnd.jupyter.widget-view+json": {
       "model_id": "cd304305730c49e28540f3bb8fe5f4fc",
       "version_major": 2,
       "version_minor": 0
      },
      "text/plain": [
       "data/test-00000-of-00001.parquet:   0%|          | 0.00/10.3k [00:00<?, ?B/s]"
      ]
     },
     "metadata": {},
     "output_type": "display_data"
    },
    {
     "data": {
      "application/vnd.jupyter.widget-view+json": {
       "model_id": "4676f425225442f6ba74ecc04f288a00",
       "version_major": 2,
       "version_minor": 0
      },
      "text/plain": [
       "Generating train split:   0%|          | 0/1000 [00:00<?, ? examples/s]"
      ]
     },
     "metadata": {},
     "output_type": "display_data"
    },
    {
     "data": {
      "application/vnd.jupyter.widget-view+json": {
       "model_id": "b7561f3c5f73462fb501729d83ef7bf7",
       "version_major": 2,
       "version_minor": 0
      },
      "text/plain": [
       "Generating valid split:   0%|          | 0/100 [00:00<?, ? examples/s]"
      ]
     },
     "metadata": {},
     "output_type": "display_data"
    },
    {
     "data": {
      "application/vnd.jupyter.widget-view+json": {
       "model_id": "626791b2f818406fb038918550eff08c",
       "version_major": 2,
       "version_minor": 0
      },
      "text/plain": [
       "Generating test split:   0%|          | 0/100 [00:00<?, ? examples/s]"
      ]
     },
     "metadata": {},
     "output_type": "display_data"
    }
   ],
   "source": [
    "from mlx_lm.tuner.datasets import load_hf_dataset\n",
    "config = { }\n",
    "train_set, val_set, test_set = load_hf_dataset(\n",
    "    data_id=\"mlx-community/wikisql\",\n",
    "    tokenizer=tokenizer,\n",
    "    config=config,\n",
    ")"
   ]
  },
  {
   "cell_type": "code",
   "execution_count": 14,
   "id": "8bd0152a",
   "metadata": {},
   "outputs": [
    {
     "name": "stdout",
     "output_type": "stream",
     "text": [
      "Test set size: 100\n",
      "Validation set size: 100\n",
      "Training set size: 1000\n",
      "test set: {'text': [\"table: 1-10015132-16\\ncolumns: Player, No., Nationality, Position, Years in Toronto, School/Club Team\\nQ: What is terrence ross' nationality\\nA: SELECT Nationality FROM 1-10015132-16 WHERE Player = 'Terrence Ross'\", \"table: 1-10015132-16\\ncolumns: Player, No., Nationality, Position, Years in Toronto, School/Club Team\\nQ: What clu was in toronto 1995-96\\nA: SELECT School/Club Team FROM 1-10015132-16 WHERE Years in Toronto = '1995-96'\"]}\n"
     ]
    }
   ],
   "source": [
    "print(f\"Test set size: {len(test_set)}\")\n",
    "print(f\"Validation set size: {len(val_set)}\")\n",
    "print(f\"Training set size: {len(train_set)}\")\n",
    "print(f\"test set: {test_set[:2]}\")"
   ]
  },
  {
   "cell_type": "code",
   "execution_count": 15,
   "id": "93609708",
   "metadata": {},
   "outputs": [
    {
     "name": "stdout",
     "output_type": "stream",
     "text": [
      "Starting training..., iters: 200\n"
     ]
    },
    {
     "name": "stderr",
     "output_type": "stream",
     "text": [
      "Calculating loss...: 100%|██████████| 25/25 [00:03<00:00,  7.12it/s]"
     ]
    },
    {
     "name": "stdout",
     "output_type": "stream",
     "text": [
      "Iter 1: Val loss 4.059, Val took 3.522s\n"
     ]
    },
    {
     "name": "stderr",
     "output_type": "stream",
     "text": [
      "\n"
     ]
    },
    {
     "name": "stdout",
     "output_type": "stream",
     "text": [
      "Iter 10: Train loss 3.729, Learning Rate 1.000e-05, It/sec 1.574, Tokens/sec 656.535, Trained Tokens 4170, Peak mem 2.465 GB\n",
      "Iter 20: Train loss 3.382, Learning Rate 1.000e-05, It/sec 2.909, Tokens/sec 1060.948, Trained Tokens 7817, Peak mem 2.465 GB\n",
      "Iter 30: Train loss 2.931, Learning Rate 1.000e-05, It/sec 3.001, Tokens/sec 1093.235, Trained Tokens 11460, Peak mem 2.465 GB\n",
      "Iter 40: Train loss 2.766, Learning Rate 1.000e-05, It/sec 3.117, Tokens/sec 1122.034, Trained Tokens 15060, Peak mem 2.465 GB\n"
     ]
    },
    {
     "name": "stderr",
     "output_type": "stream",
     "text": [
      "Calculating loss...: 100%|██████████| 25/25 [00:03<00:00,  7.13it/s]"
     ]
    },
    {
     "name": "stdout",
     "output_type": "stream",
     "text": [
      "Iter 50: Val loss 2.486, Val took 3.540s\n"
     ]
    },
    {
     "name": "stderr",
     "output_type": "stream",
     "text": [
      "\n"
     ]
    },
    {
     "name": "stdout",
     "output_type": "stream",
     "text": [
      "Iter 50: Train loss 2.454, Learning Rate 1.000e-05, It/sec 2.922, Tokens/sec 1093.235, Trained Tokens 18802, Peak mem 2.465 GB\n",
      "Iter 60: Train loss 2.366, Learning Rate 1.000e-05, It/sec 3.025, Tokens/sec 1031.691, Trained Tokens 22212, Peak mem 2.465 GB\n",
      "Iter 70: Train loss 2.400, Learning Rate 1.000e-05, It/sec 2.893, Tokens/sec 1088.623, Trained Tokens 25975, Peak mem 2.465 GB\n",
      "Iter 80: Train loss 2.214, Learning Rate 1.000e-05, It/sec 2.911, Tokens/sec 1092.264, Trained Tokens 29727, Peak mem 2.465 GB\n",
      "Iter 90: Train loss 2.294, Learning Rate 1.000e-05, It/sec 2.828, Tokens/sec 1081.774, Trained Tokens 33552, Peak mem 2.465 GB\n"
     ]
    },
    {
     "name": "stderr",
     "output_type": "stream",
     "text": [
      "Calculating loss...: 100%|██████████| 25/25 [00:03<00:00,  6.73it/s]"
     ]
    },
    {
     "name": "stdout",
     "output_type": "stream",
     "text": [
      "Iter 100: Val loss 2.182, Val took 3.742s\n"
     ]
    },
    {
     "name": "stderr",
     "output_type": "stream",
     "text": [
      "\n"
     ]
    },
    {
     "name": "stdout",
     "output_type": "stream",
     "text": [
      "Iter 100: Train loss 2.294, Learning Rate 1.000e-05, It/sec 2.795, Tokens/sec 1016.662, Trained Tokens 37190, Peak mem 2.465 GB\n",
      "Iter 100: Saved adapter weights to adapters_gemma3/adapters.safetensors and adapters_gemma3/0000100_adapters.safetensors.\n",
      "Iter 110: Train loss 2.028, Learning Rate 1.000e-05, It/sec 2.767, Tokens/sec 972.971, Trained Tokens 40706, Peak mem 2.465 GB\n",
      "Iter 120: Train loss 2.070, Learning Rate 1.000e-05, It/sec 2.867, Tokens/sec 1097.694, Trained Tokens 44535, Peak mem 2.465 GB\n",
      "Iter 130: Train loss 2.127, Learning Rate 1.000e-05, It/sec 3.011, Tokens/sec 1089.598, Trained Tokens 48154, Peak mem 2.465 GB\n",
      "Iter 140: Train loss 2.005, Learning Rate 1.000e-05, It/sec 2.847, Tokens/sec 1118.166, Trained Tokens 52082, Peak mem 2.506 GB\n"
     ]
    },
    {
     "name": "stderr",
     "output_type": "stream",
     "text": [
      "Calculating loss...: 100%|██████████| 25/25 [00:03<00:00,  7.12it/s]"
     ]
    },
    {
     "name": "stdout",
     "output_type": "stream",
     "text": [
      "Iter 150: Val loss 2.052, Val took 3.542s\n"
     ]
    },
    {
     "name": "stderr",
     "output_type": "stream",
     "text": [
      "\n"
     ]
    },
    {
     "name": "stdout",
     "output_type": "stream",
     "text": [
      "Iter 150: Train loss 1.921, Learning Rate 1.000e-05, It/sec 3.085, Tokens/sec 1100.768, Trained Tokens 55650, Peak mem 2.506 GB\n",
      "Iter 160: Train loss 1.950, Learning Rate 1.000e-05, It/sec 2.607, Tokens/sec 973.295, Trained Tokens 59384, Peak mem 2.506 GB\n",
      "Iter 170: Train loss 1.910, Learning Rate 1.000e-05, It/sec 3.009, Tokens/sec 1074.775, Trained Tokens 62956, Peak mem 2.506 GB\n",
      "Iter 180: Train loss 1.910, Learning Rate 1.000e-05, It/sec 2.932, Tokens/sec 969.710, Trained Tokens 66263, Peak mem 2.506 GB\n",
      "Iter 190: Train loss 1.930, Learning Rate 1.000e-05, It/sec 2.702, Tokens/sec 1055.704, Trained Tokens 70170, Peak mem 2.506 GB\n"
     ]
    },
    {
     "name": "stderr",
     "output_type": "stream",
     "text": [
      "Calculating loss...: 100%|██████████| 25/25 [00:05<00:00,  4.93it/s]"
     ]
    },
    {
     "name": "stdout",
     "output_type": "stream",
     "text": [
      "Iter 200: Val loss 1.979, Val took 5.112s\n"
     ]
    },
    {
     "name": "stderr",
     "output_type": "stream",
     "text": [
      "\n"
     ]
    },
    {
     "name": "stdout",
     "output_type": "stream",
     "text": [
      "Iter 200: Train loss 1.890, Learning Rate 1.000e-05, It/sec 2.790, Tokens/sec 1038.301, Trained Tokens 73891, Peak mem 2.506 GB\n",
      "Iter 200: Saved adapter weights to adapters_gemma3/adapters.safetensors and adapters_gemma3/0000200_adapters.safetensors.\n",
      "Saved final weights to adapters_gemma3/adapters.safetensors.\n"
     ]
    }
   ],
   "source": [
    "from mlx_lm.tuner.datasets import CacheDataset\n",
    "\n",
    "train_dataset = CacheDataset(train_set)\n",
    "val_dataset = CacheDataset(val_set)\n",
    "\n",
    "train(\n",
    "    model,\n",
    "    optim.Adam(learning_rate=1e-5),\n",
    "    train_dataset,\n",
    "    val_dataset,\n",
    "    args=training_args,\n",
    "    training_callback=metrics\n",
    ")\n"
   ]
  },
  {
   "cell_type": "markdown",
   "id": "0f932b34",
   "metadata": {},
   "source": [
    "## Fusionar modelo base con adaptador"
   ]
  },
  {
   "cell_type": "code",
   "execution_count": 3,
   "id": "255d5151",
   "metadata": {},
   "outputs": [
    {
     "name": "stdout",
     "output_type": "stream",
     "text": [
      "Loading pretrained model\n"
     ]
    }
   ],
   "source": [
    "! python -m mlx_lm fuse  --model ./models_cache/hub/models--google--gemma-3-270m-it/snapshots/ac82b4e820549b854eebf28ce6dedaf9fdfa17b3 --adapter-path ./adapters_gemma3 --save-path ./new_gemma3 "
   ]
  },
  {
   "cell_type": "code",
   "execution_count": 4,
   "id": "838e4911",
   "metadata": {},
   "outputs": [
    {
     "name": "stdout",
     "output_type": "stream",
     "text": [
      "Requirement already satisfied: huggingface_hub in ./.venv/lib/python3.12/site-packages (0.34.3)\n",
      "Requirement already satisfied: filelock in ./.venv/lib/python3.12/site-packages (from huggingface_hub) (3.18.0)\n",
      "Requirement already satisfied: fsspec>=2023.5.0 in ./.venv/lib/python3.12/site-packages (from huggingface_hub) (2025.3.0)\n",
      "Requirement already satisfied: packaging>=20.9 in ./.venv/lib/python3.12/site-packages (from huggingface_hub) (25.0)\n",
      "Requirement already satisfied: pyyaml>=5.1 in ./.venv/lib/python3.12/site-packages (from huggingface_hub) (6.0.2)\n",
      "Requirement already satisfied: requests in ./.venv/lib/python3.12/site-packages (from huggingface_hub) (2.32.4)\n",
      "Requirement already satisfied: tqdm>=4.42.1 in ./.venv/lib/python3.12/site-packages (from huggingface_hub) (4.67.1)\n",
      "Requirement already satisfied: typing-extensions>=3.7.4.3 in ./.venv/lib/python3.12/site-packages (from huggingface_hub) (4.14.1)\n",
      "Requirement already satisfied: hf-xet<2.0.0,>=1.1.3 in ./.venv/lib/python3.12/site-packages (from huggingface_hub) (1.1.7)\n",
      "Requirement already satisfied: charset_normalizer<4,>=2 in ./.venv/lib/python3.12/site-packages (from requests->huggingface_hub) (3.4.2)\n",
      "Requirement already satisfied: idna<4,>=2.5 in ./.venv/lib/python3.12/site-packages (from requests->huggingface_hub) (3.10)\n",
      "Requirement already satisfied: urllib3<3,>=1.21.1 in ./.venv/lib/python3.12/site-packages (from requests->huggingface_hub) (2.5.0)\n",
      "Requirement already satisfied: certifi>=2017.4.17 in ./.venv/lib/python3.12/site-packages (from requests->huggingface_hub) (2025.8.3)\n",
      "Requirement already satisfied: ipywidgets in ./.venv/lib/python3.12/site-packages (8.1.7)\n",
      "Requirement already satisfied: comm>=0.1.3 in ./.venv/lib/python3.12/site-packages (from ipywidgets) (0.2.3)\n",
      "Requirement already satisfied: ipython>=6.1.0 in ./.venv/lib/python3.12/site-packages (from ipywidgets) (9.4.0)\n",
      "Requirement already satisfied: traitlets>=4.3.1 in ./.venv/lib/python3.12/site-packages (from ipywidgets) (5.14.3)\n",
      "Requirement already satisfied: widgetsnbextension~=4.0.14 in ./.venv/lib/python3.12/site-packages (from ipywidgets) (4.0.14)\n",
      "Requirement already satisfied: jupyterlab_widgets~=3.0.15 in ./.venv/lib/python3.12/site-packages (from ipywidgets) (3.0.15)\n",
      "Requirement already satisfied: decorator in ./.venv/lib/python3.12/site-packages (from ipython>=6.1.0->ipywidgets) (5.2.1)\n",
      "Requirement already satisfied: ipython-pygments-lexers in ./.venv/lib/python3.12/site-packages (from ipython>=6.1.0->ipywidgets) (1.1.1)\n",
      "Requirement already satisfied: jedi>=0.16 in ./.venv/lib/python3.12/site-packages (from ipython>=6.1.0->ipywidgets) (0.19.2)\n",
      "Requirement already satisfied: matplotlib-inline in ./.venv/lib/python3.12/site-packages (from ipython>=6.1.0->ipywidgets) (0.1.7)\n",
      "Requirement already satisfied: pexpect>4.3 in ./.venv/lib/python3.12/site-packages (from ipython>=6.1.0->ipywidgets) (4.9.0)\n",
      "Requirement already satisfied: prompt_toolkit<3.1.0,>=3.0.41 in ./.venv/lib/python3.12/site-packages (from ipython>=6.1.0->ipywidgets) (3.0.51)\n",
      "Requirement already satisfied: pygments>=2.4.0 in ./.venv/lib/python3.12/site-packages (from ipython>=6.1.0->ipywidgets) (2.19.2)\n",
      "Requirement already satisfied: stack_data in ./.venv/lib/python3.12/site-packages (from ipython>=6.1.0->ipywidgets) (0.6.3)\n",
      "Requirement already satisfied: wcwidth in ./.venv/lib/python3.12/site-packages (from prompt_toolkit<3.1.0,>=3.0.41->ipython>=6.1.0->ipywidgets) (0.2.13)\n",
      "Requirement already satisfied: parso<0.9.0,>=0.8.4 in ./.venv/lib/python3.12/site-packages (from jedi>=0.16->ipython>=6.1.0->ipywidgets) (0.8.4)\n",
      "Requirement already satisfied: ptyprocess>=0.5 in ./.venv/lib/python3.12/site-packages (from pexpect>4.3->ipython>=6.1.0->ipywidgets) (0.7.0)\n",
      "Requirement already satisfied: executing>=1.2.0 in ./.venv/lib/python3.12/site-packages (from stack_data->ipython>=6.1.0->ipywidgets) (2.2.0)\n",
      "Requirement already satisfied: asttokens>=2.1.0 in ./.venv/lib/python3.12/site-packages (from stack_data->ipython>=6.1.0->ipywidgets) (3.0.0)\n",
      "Requirement already satisfied: pure-eval in ./.venv/lib/python3.12/site-packages (from stack_data->ipython>=6.1.0->ipywidgets) (0.2.3)\n"
     ]
    }
   ],
   "source": [
    "! pip install huggingface_hub\n",
    "! pip install ipywidgets"
   ]
  },
  {
   "cell_type": "markdown",
   "id": "b9616483",
   "metadata": {},
   "source": [
    "# Subir modelo a HF\n",
    "Utilizando el API de HF se sube el modelo a deimagjas/Phi-3.5-mini-instruct-4bit-sft"
   ]
  },
  {
   "cell_type": "code",
   "execution_count": 7,
   "id": "b6ef97ac",
   "metadata": {},
   "outputs": [
    {
     "data": {
      "application/vnd.jupyter.widget-view+json": {
       "model_id": "bde06114c5794d47ad6485ff3882dc7f",
       "version_major": 2,
       "version_minor": 0
      },
      "text/plain": [
       "Processing Files (0 / 0)                : |          |  0.00B /  0.00B            "
      ]
     },
     "metadata": {},
     "output_type": "display_data"
    },
    {
     "data": {
      "application/vnd.jupyter.widget-view+json": {
       "model_id": "0ae56a8c6007409c90ea57db34372c8c",
       "version_major": 2,
       "version_minor": 0
      },
      "text/plain": [
       "New Data Upload                         : |          |  0.00B /  0.00B            "
      ]
     },
     "metadata": {},
     "output_type": "display_data"
    },
    {
     "data": {
      "application/vnd.jupyter.widget-view+json": {
       "model_id": "034c75dbd3f64499b908e9a1a8dcea03",
       "version_major": 2,
       "version_minor": 0
      },
      "text/plain": [
       "  ...arning/new_gemma3/model.safetensors:   3%|3         | 27.9MB /  872MB            "
      ]
     },
     "metadata": {},
     "output_type": "display_data"
    },
    {
     "data": {
      "application/vnd.jupyter.widget-view+json": {
       "model_id": "aa9a4f118ade474a999293f3f2cc648a",
       "version_major": 2,
       "version_minor": 0
      },
      "text/plain": [
       "  ...elearning/new_gemma3/tokenizer.json: 100%|##########| 33.4MB / 33.4MB            "
      ]
     },
     "metadata": {},
     "output_type": "display_data"
    },
    {
     "data": {
      "text/plain": [
       "CommitInfo(commit_url='https://huggingface.co/deimagjas/gemma-3-270m-it-sft/commit/30f8838ef60c3b7f0d0ae40e7aef85ff6aefb1d7', commit_message='Upload folder using huggingface_hub', commit_description='', oid='30f8838ef60c3b7f0d0ae40e7aef85ff6aefb1d7', pr_url=None, repo_url=RepoUrl('https://huggingface.co/deimagjas/gemma-3-270m-it-sft', endpoint='https://huggingface.co', repo_type='model', repo_id='deimagjas/gemma-3-270m-it-sft'), pr_revision=None, pr_num=None)"
      ]
     },
     "execution_count": 7,
     "metadata": {},
     "output_type": "execute_result"
    }
   ],
   "source": [
    "from huggingface_hub import create_repo, upload_folder\n",
    "\n",
    "repo_id = \"deimagjas/gemma-3-270m-it-sft\"\n",
    "\n",
    "upload_folder(\n",
    "    folder_path=\"./new_gemma3\",\n",
    "    repo_id=repo_id\n",
    ")\n"
   ]
  },
  {
   "cell_type": "markdown",
   "id": "402c7625",
   "metadata": {},
   "source": [
    "## Test HF model"
   ]
  },
  {
   "cell_type": "code",
   "execution_count": 10,
   "id": "e405bb57",
   "metadata": {},
   "outputs": [
    {
     "data": {
      "application/vnd.jupyter.widget-view+json": {
       "model_id": "498b4cc273a64b0fb484d997c3980c14",
       "version_major": 2,
       "version_minor": 0
      },
      "text/plain": [
       "Fetching 8 files:   0%|          | 0/8 [00:00<?, ?it/s]"
      ]
     },
     "metadata": {},
     "output_type": "display_data"
    },
    {
     "data": {
      "application/vnd.jupyter.widget-view+json": {
       "model_id": "852516e749764c839921cd1a4ebfadc3",
       "version_major": 2,
       "version_minor": 0
      },
      "text/plain": [
       "model.safetensors:   0%|          | 0.00/872M [00:00<?, ?B/s]"
      ]
     },
     "metadata": {},
     "output_type": "display_data"
    },
    {
     "data": {
      "application/vnd.jupyter.widget-view+json": {
       "model_id": "76576685df0541a7bde9294edd738eba",
       "version_major": 2,
       "version_minor": 0
      },
      "text/plain": [
       "special_tokens_map.json:   0%|          | 0.00/662 [00:00<?, ?B/s]"
      ]
     },
     "metadata": {},
     "output_type": "display_data"
    },
    {
     "data": {
      "application/vnd.jupyter.widget-view+json": {
       "model_id": "334eea6d822a469481a678f3c124ca60",
       "version_major": 2,
       "version_minor": 0
      },
      "text/plain": [
       "chat_template.jinja:   0%|          | 0.00/1.53k [00:00<?, ?B/s]"
      ]
     },
     "metadata": {},
     "output_type": "display_data"
    },
    {
     "data": {
      "application/vnd.jupyter.widget-view+json": {
       "model_id": "0db9f7093bbe4095a6b53336b8500596",
       "version_major": 2,
       "version_minor": 0
      },
      "text/plain": [
       "config.json:   0%|          | 0.00/1.49k [00:00<?, ?B/s]"
      ]
     },
     "metadata": {},
     "output_type": "display_data"
    },
    {
     "data": {
      "application/vnd.jupyter.widget-view+json": {
       "model_id": "4e092bd194be4252a8e9b374a14e2d7e",
       "version_major": 2,
       "version_minor": 0
      },
      "text/plain": [
       "model.safetensors.index.json:   0%|          | 0.00/17.3k [00:00<?, ?B/s]"
      ]
     },
     "metadata": {},
     "output_type": "display_data"
    },
    {
     "data": {
      "application/vnd.jupyter.widget-view+json": {
       "model_id": "dff2f1943f8345509e32e06590fad716",
       "version_major": 2,
       "version_minor": 0
      },
      "text/plain": [
       "tokenizer_config.json:   0%|          | 0.00/1.16M [00:00<?, ?B/s]"
      ]
     },
     "metadata": {},
     "output_type": "display_data"
    },
    {
     "data": {
      "application/vnd.jupyter.widget-view+json": {
       "model_id": "8b791d1e3fd54845a72ee6f0975ea7e6",
       "version_major": 2,
       "version_minor": 0
      },
      "text/plain": [
       "generation_config.json:   0%|          | 0.00/173 [00:00<?, ?B/s]"
      ]
     },
     "metadata": {},
     "output_type": "display_data"
    },
    {
     "data": {
      "application/vnd.jupyter.widget-view+json": {
       "model_id": "332c7902dc3f473f858db2bf5d001f77",
       "version_major": 2,
       "version_minor": 0
      },
      "text/plain": [
       "tokenizer.json:   0%|          | 0.00/33.4M [00:00<?, ?B/s]"
      ]
     },
     "metadata": {},
     "output_type": "display_data"
    }
   ],
   "source": [
    "model_path = \"deimagjas/gemma-3-270m-it-sft\"\n",
    "model_sft, tokenizer_sft = load(model_path)"
   ]
  },
  {
   "cell_type": "code",
   "execution_count": 12,
   "id": "9eeb3b32",
   "metadata": {},
   "outputs": [
    {
     "name": "stdout",
     "output_type": "stream",
     "text": [
      "==========\n",
      "```sql\n",
      "SELECT u.user_id, COUNT(m.registration_date) AS last_30_days_registered\n",
      "FROM users u\n",
      "JOIN registered_users m ON u.user_id = m.user_id\n",
      "WHERE last_30_days_registered >= (SELECT last_30_days_registered FROM registered_users WHERE registered_date = '2023-12-31') ;\n",
      "```\n",
      "<end_of_turn><end_of_turn><end_of_turn><end_of_turn><end_of_turn><end_of_turn><end_of_turn><end_of_turn><end_of_turn><end_of_turn><end_of_turn><end_of_turn><end_of_turn><end_of_turn><end_of_turn><end_of_turn><end_of_turn><end_of_turn><end_of_turn><end_of_turn><end_of_turn><end_of_turn><end_of_turn><end_of_turn><end_of_turn><end_of_turn>शी<end_of_turn><end_of_turn><end_of_turn><end_of_turn><end_of_turn><end_of_turn>शी<end_of_turn><end_of_turn><end_of_turn><end_of_turn>शी<end_of_turn><end_of_turn><end_of_turn>शी<end_of_turn><end_of_turn><end_of_turn>शी<end_of_turn><end_of_turn><end_of_turn>शी<end_of_turn><end_of_turn><end_of_turn>शी<end_of_turn><end_of_turn><end_of_turn>शी<end_of_turn><end_of_turn>शी<end_of_turn><end_of_turn>शी<end_of_turn><end_of_turn>शी<end_of_turn>शी<end_of_turn><end_of_turn>शी<end_of_turn>शी<end_of_turn>शी<end_of_turn>शी<end_of_turn>शी<end_of_turn>शी<end_of_turn>शी<end_of_turn>शी<end_of_turn>शी<end_of_turn>शी<end_of_turn>शी<end_of_turn>शी<end_of_turn>शी<end_of_turn>शी<end_of_turn>शी<end_of_turn><end_of_turn>शी<end_of_turn>शी<end_of_turn>शी<end_of_turn>शी<end_of_turn>शी<end_of_turn>शी<end_of_turn>शी<end_of_turn>शी<end_of_turn>शी<end_of_turn>शी<end_of_turn>शी<end_of_turn>शी<end_of_turn>शी<end_of_turn>शी<end_of_turn>शी<end_of_turn>शी<end_of_turn>शी<end_of_turn>शी<end_of_turn>शी<end_of_turn>शी<end_of_turn>शी<end_of_turn>शी<end_of_turn>शी<end_of_turn>शी<end_of_turn>शी<end_of_turn>शी<end_of_turn>शी<end_of_turn>शी<end_of_turn>शी<end_of_turn>\n",
      "==========\n",
      "Prompt: 26 tokens, 343.485 tokens-per-sec\n",
      "Generation: 256 tokens, 124.841 tokens-per-sec\n",
      "Peak memory: 0.902 GB\n"
     ]
    }
   ],
   "source": [
    "prompt = \"generate an SQL query to find all users who registered in the last 30 days\"\n",
    "messages = [{\"role\": \"user\", \"content\": prompt}]\n",
    "prompt = tokenizer_sft.apply_chat_template(\n",
    "    messages, tokenize=False, add_generation_prompt=True\n",
    ")\n",
    "response = generate(model_sft, tokenizer_sft, prompt=prompt, verbose=True)"
   ]
  },
  {
   "cell_type": "markdown",
   "id": "bb23154d",
   "metadata": {},
   "source": [
    "# Conclusión\n",
    "\n",
    "El fine tunning en este caso fallo, el modelo presenta fallas en la inferencia. ¿por qué?"
   ]
  }
 ],
 "metadata": {
  "kernelspec": {
   "display_name": ".venv",
   "language": "python",
   "name": "python3"
  },
  "language_info": {
   "codemirror_mode": {
    "name": "ipython",
    "version": 3
   },
   "file_extension": ".py",
   "mimetype": "text/x-python",
   "name": "python",
   "nbconvert_exporter": "python",
   "pygments_lexer": "ipython3",
   "version": "3.12.5"
  }
 },
 "nbformat": 4,
 "nbformat_minor": 5
}
