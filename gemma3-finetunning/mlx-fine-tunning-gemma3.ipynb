{
 "cells": [
  {
   "cell_type": "code",
   "execution_count": 1,
   "id": "40ce18bb",
   "metadata": {},
   "outputs": [
    {
     "name": "stdout",
     "output_type": "stream",
     "text": [
      "La variable de entorno HF_HOME se ha establecido en: /Users/deimagjas/machinelearning/gemma3-finetunning/models_cache\n"
     ]
    }
   ],
   "source": [
    "import os\n",
    "import pathlib\n",
    "\n",
    "project_root = pathlib.Path.cwd()\n",
    "\n",
    "cache_dir = project_root / \"models_cache\"\n",
    "cache_dir.mkdir(exist_ok=True)\n",
    "os.environ['HF_HOME'] = str(cache_dir)\n",
    "print(f\"La variable de entorno HF_HOME se ha establecido en: {os.environ['HF_HOME']}\")\n"
   ]
  },
  {
   "cell_type": "code",
   "execution_count": 2,
   "id": "49d0b88e",
   "metadata": {},
   "outputs": [],
   "source": [
    "import json\n",
    "from typing import Dict, List, Tuple, Union\n",
    "\n",
    "import mlx.optimizers as optim\n",
    "from mlx.utils import tree_flatten\n",
    "from mlx_lm import load, generate\n",
    "from mlx_lm.tuner import TrainingArgs, linear_to_lora_layers, train"
   ]
  },
  {
   "cell_type": "code",
   "execution_count": 3,
   "id": "5647f789",
   "metadata": {},
   "outputs": [
    {
     "name": "stdout",
     "output_type": "stream",
     "text": [
      "Name: mlx-lm\n",
      "Version: 0.28.0\n",
      "Location: /Users/deimagjas/machinelearning/gemma3-finetunning/.venv/lib/python3.13/site-packages\n",
      "Requires: jinja2, mlx, numpy, protobuf, pyyaml, transformers\n",
      "Required-by:\n"
     ]
    }
   ],
   "source": [
    "!uv pip show mlx_lm"
   ]
  },
  {
   "cell_type": "code",
   "execution_count": 4,
   "id": "a9a7a27b",
   "metadata": {},
   "outputs": [
    {
     "data": {
      "application/vnd.jupyter.widget-view+json": {
       "model_id": "da7d03d166524f12a40ee088106554bc",
       "version_major": 2,
       "version_minor": 0
      },
      "text/plain": [
       "VBox(children=(HTML(value='<center> <img\\nsrc=https://huggingface.co/front/assets/huggingface_logo-noborder.sv…"
      ]
     },
     "metadata": {},
     "output_type": "display_data"
    }
   ],
   "source": [
    "from huggingface_hub import login\n",
    "\n",
    "login()"
   ]
  },
  {
   "cell_type": "markdown",
   "id": "208e1a5a",
   "metadata": {},
   "source": [
    "## Carga de modelo desde HF\n",
    "\n",
    "La razón por la que el código funciona con google/gemma-3-270m-it pero no con google/gemma-3-270m se debe a la diferencia entre los\n",
    "  dos tipos de modelos:\n",
    "\n",
    "   1. `google/gemma-3-270m-it`: El sufijo \"-it\" significa \"Instruction Tuned\" (ajustado para instrucciones). Este modelo ha sido\n",
    "      específicamente entrenado para entender y seguir instrucciones en un formato de chat o de pregunta-respuesta. Su tokenizador\n",
    "      incluye una \"plantilla de chat\" (chat template) que formatea la entrada de manera que el modelo la entienda.\n",
    "\n",
    "   2. `google/gemma-3-270m`: Este es el modelo base. Es un modelo de lenguaje pre-entrenado que es bueno para predecir la siguiente\n",
    "      palabra en un texto, pero no ha sido ajustado para seguir instrucciones o para conversar. Su tokenizador no tiene una plantilla de\n",
    "      chat predeterminada."
   ]
  },
  {
   "cell_type": "code",
   "execution_count": 6,
   "id": "54fcc795",
   "metadata": {},
   "outputs": [
    {
     "data": {
      "application/vnd.jupyter.widget-view+json": {
       "model_id": "89a00843dc434f2a866152a389f2eda3",
       "version_major": 2,
       "version_minor": 0
      },
      "text/plain": [
       "Fetching 9 files:   0%|          | 0/9 [00:00<?, ?it/s]"
      ]
     },
     "metadata": {},
     "output_type": "display_data"
    },
    {
     "data": {
      "application/vnd.jupyter.widget-view+json": {
       "model_id": "ca401df5153447148a8af816c70fe1ea",
       "version_major": 2,
       "version_minor": 0
      },
      "text/plain": [
       "chat_template.jinja:   0%|          | 0.00/1.53k [00:00<?, ?B/s]"
      ]
     },
     "metadata": {},
     "output_type": "display_data"
    },
    {
     "data": {
      "application/vnd.jupyter.widget-view+json": {
       "model_id": "fdccb06567974b73a3a59475a7398e44",
       "version_major": 2,
       "version_minor": 0
      },
      "text/plain": [
       "config.json:   0%|          | 0.00/1.35k [00:00<?, ?B/s]"
      ]
     },
     "metadata": {},
     "output_type": "display_data"
    },
    {
     "data": {
      "application/vnd.jupyter.widget-view+json": {
       "model_id": "e5ec85e977094aa5837838dcf0da9fa1",
       "version_major": 2,
       "version_minor": 0
      },
      "text/plain": [
       "special_tokens_map.json:   0%|          | 0.00/662 [00:00<?, ?B/s]"
      ]
     },
     "metadata": {},
     "output_type": "display_data"
    },
    {
     "data": {
      "application/vnd.jupyter.widget-view+json": {
       "model_id": "f43fa6629d6a4a8fbaf105bafc06153f",
       "version_major": 2,
       "version_minor": 0
      },
      "text/plain": [
       "generation_config.json:   0%|          | 0.00/173 [00:00<?, ?B/s]"
      ]
     },
     "metadata": {},
     "output_type": "display_data"
    },
    {
     "data": {
      "application/vnd.jupyter.widget-view+json": {
       "model_id": "4a9324398fe6461eaf7aecbe6558a1a0",
       "version_major": 2,
       "version_minor": 0
      },
      "text/plain": [
       "model.safetensors:   0%|          | 0.00/536M [00:00<?, ?B/s]"
      ]
     },
     "metadata": {},
     "output_type": "display_data"
    },
    {
     "data": {
      "application/vnd.jupyter.widget-view+json": {
       "model_id": "e1fd82fe37ad4912991034f14d034bb0",
       "version_major": 2,
       "version_minor": 0
      },
      "text/plain": [
       "tokenizer.model:   0%|          | 0.00/4.69M [00:00<?, ?B/s]"
      ]
     },
     "metadata": {},
     "output_type": "display_data"
    },
    {
     "data": {
      "application/vnd.jupyter.widget-view+json": {
       "model_id": "5c9ce8b868d546a2b862a1642f3b780f",
       "version_major": 2,
       "version_minor": 0
      },
      "text/plain": [
       "tokenizer.json:   0%|          | 0.00/33.4M [00:00<?, ?B/s]"
      ]
     },
     "metadata": {},
     "output_type": "display_data"
    },
    {
     "data": {
      "application/vnd.jupyter.widget-view+json": {
       "model_id": "57ec94adfc794f37bb5cc5935db8dd96",
       "version_major": 2,
       "version_minor": 0
      },
      "text/plain": [
       "added_tokens.json:   0%|          | 0.00/35.0 [00:00<?, ?B/s]"
      ]
     },
     "metadata": {},
     "output_type": "display_data"
    },
    {
     "data": {
      "application/vnd.jupyter.widget-view+json": {
       "model_id": "ef18eb0531494bc19ccfaa3aa24a2809",
       "version_major": 2,
       "version_minor": 0
      },
      "text/plain": [
       "tokenizer_config.json:   0%|          | 0.00/1.16M [00:00<?, ?B/s]"
      ]
     },
     "metadata": {},
     "output_type": "display_data"
    }
   ],
   "source": [
    "model_path = \"google/gemma-3-270m-it\"\n",
    "model, tokenizer = load(model_path)"
   ]
  },
  {
   "cell_type": "code",
   "execution_count": 7,
   "id": "14bd441a",
   "metadata": {},
   "outputs": [
    {
     "name": "stdout",
     "output_type": "stream",
     "text": [
      "==========\n",
      "```sql\n",
      "SELECT *\n",
      "FROM Users\n",
      "WHERE registration_date >= DATE('now', '-30 days');\n",
      "```\n",
      "\n",
      "**Explanation:**\n",
      "\n",
      "* **`SELECT *`**: This selects all columns from the `Users` table.\n",
      "* **`FROM Users`**: This specifies the table from which to retrieve data.\n",
      "* **`WHERE registration_date >= DATE('now', '-30 days')`**: This is the filtering condition.\n",
      "    * `registration_date`:  This is the column name that contains the date of the user's registration.\n",
      "    * `DATE('now', '-30 days')`: This calculates the date 30 days ago from the current date.\n",
      "    * `>=`: This ensures that we only include users whose registration date is greater than or equal to 30 days ago.\n",
      "\n",
      "**Important Considerations:**\n",
      "\n",
      "* **Data Type of `registration_date`:**  The `registration_date` column should be a date or datetime data type.  If it's stored as a string, you might need to convert it to a date type using `STR_TO_DATE('now', '-30 days')` before using it in the `WHERE` clause.\n",
      "* **Database\n",
      "==========\n",
      "Prompt: 26 tokens, 55.325 tokens-per-sec\n",
      "Generation: 256 tokens, 116.212 tokens-per-sec\n",
      "Peak memory: 0.554 GB\n"
     ]
    }
   ],
   "source": [
    "prompt = \"generate an SQL query to find all users who registered in the last 30 days\"\n",
    "messages = [{\"role\": \"user\", \"content\": prompt}]\n",
    "prompt = tokenizer.apply_chat_template(\n",
    "    messages, tokenize=False, add_generation_prompt=True\n",
    ")\n",
    "response = generate(model, tokenizer, prompt=prompt, verbose=True)"
   ]
  },
  {
   "cell_type": "markdown",
   "id": "0b450341",
   "metadata": {},
   "source": [
    "# Creando Adaptador"
   ]
  },
  {
   "cell_type": "code",
   "execution_count": 8,
   "id": "ca69edf7",
   "metadata": {},
   "outputs": [],
   "source": [
    "adapter_path = \"adapters_gemma3\"\n",
    "os.makedirs(adapter_path, exist_ok=True)\n",
    "adapter_config_path = os.path.join(adapter_path, \"adapter_config.json\")\n",
    "adapter_file_path = os.path.join(adapter_path, \"adapters.safetensors\")"
   ]
  },
  {
   "cell_type": "markdown",
   "id": "a73d99b8",
   "metadata": {},
   "source": [
    "# Lora config\n",
    "Aquí se ajustan los hyperparámetros para el entrenamiento"
   ]
  },
  {
   "cell_type": "code",
   "execution_count": 9,
   "id": "5f6b1d93",
   "metadata": {},
   "outputs": [],
   "source": [
    "lora_config = {\n",
    "    \"num_layers\": 8,\n",
    "    \"lora_parameters\": {\n",
    "        \"rank\": 8,\n",
    "        \"scale\": 20.0,\n",
    "        \"dropout\": 0.0,\n",
    "    },\n",
    "}"
   ]
  },
  {
   "cell_type": "code",
   "execution_count": 10,
   "id": "167a0f58",
   "metadata": {},
   "outputs": [],
   "source": [
    "with open(adapter_config_path, \"w\") as f:\n",
    "    json.dump(lora_config, f, indent=4)"
   ]
  },
  {
   "cell_type": "code",
   "execution_count": 11,
   "id": "38d27b93",
   "metadata": {},
   "outputs": [],
   "source": [
    "training_args = TrainingArgs(\n",
    "    adapter_file=adapter_file_path,\n",
    "    iters=200,\n",
    "    steps_per_eval=50,\n",
    "    grad_checkpoint=True,\n",
    ")"
   ]
  },
  {
   "cell_type": "markdown",
   "id": "e66b2991",
   "metadata": {},
   "source": [
    "# Parameters and adapter\n",
    "La razón por la que ves 163,840 parámetros entrenables en lugar de los 270 millones del modelo completo es porque no estás\n",
    "  re-entrenando el modelo entero. Estás utilizando una técnica de ajuste fino de alta eficiencia de parámetros (PEFT) llamada LoRA \n",
    "  (Low-Rank Adaptation).\n",
    "\n",
    "  Así es como funciona en tu notebook:\n",
    "\n",
    "   1. Congelar el modelo base: En la celda con el id: a3b86f5c, la primera línea es model.freeze(). Esto \"congela\" todos los 270 millones\n",
    "      de parámetros del modelo Gemma, haciendo que no sean entrenables.\n",
    "\n",
    "   2. Inyectar adaptadores LoRA: La siguiente línea, linear_to_lora_layers(...), añade pequeños \"adaptadores\" o capas de bajo rango a\n",
    "      ciertas partes del modelo (en tu caso, a 8 capas, según se define en lora_config).\n",
    "\n",
    "   3. Entrenar solo los adaptadores: Solo se entrenan los parámetros de estos nuevos y pequeños adaptadores. El número 163,840 es la suma\n",
    "      de todos los parámetros de estas nuevas capas LoRA que se han añadido.\n",
    "\n",
    "  En resumen:\n",
    "\n",
    "   * 270 Millones: Es el tamaño total del modelo base, que permanece sin cambios.\n",
    "   * 163,840: Es el número de parámetros nuevos y adicionales que estás entrenando. Estos parámetros son los que \"aprenden\" la nueva\n",
    "     tarea (en este caso, generar consultas SQL) y adaptan el conocimiento del modelo original.\n",
    "\n",
    "  Esta es la gran ventaja de LoRA: te permite especializar un modelo enorme en una tarea específica de forma muy rápida y con muchos\n",
    "  menos recursos computacionales, ya que solo necesitas entrenar una fracción minúscula (<0.1%) de los parámetros totales."
   ]
  },
  {
   "cell_type": "code",
   "execution_count": 12,
   "id": "a3b86f5c",
   "metadata": {},
   "outputs": [
    {
     "name": "stdout",
     "output_type": "stream",
     "text": [
      "Number of trainable parameters: 163840\n"
     ]
    },
    {
     "data": {
      "text/plain": [
       "Model(\n",
       "  (model): Gemma3Model(\n",
       "    (embed_tokens): Embedding(262144, 640)\n",
       "    (layers.0): TransformerBlock(\n",
       "      (self_attn): Attention(\n",
       "        (q_proj): Linear(input_dims=640, output_dims=1024, bias=False)\n",
       "        (k_proj): Linear(input_dims=640, output_dims=256, bias=False)\n",
       "        (v_proj): Linear(input_dims=640, output_dims=256, bias=False)\n",
       "        (o_proj): Linear(input_dims=1024, output_dims=640, bias=False)\n",
       "        (q_norm): RMSNorm()\n",
       "        (k_norm): RMSNorm()\n",
       "        (rope): RoPE(256, traditional=False)\n",
       "      )\n",
       "      (mlp): MLP(\n",
       "        (gate_proj): Linear(input_dims=640, output_dims=2048, bias=False)\n",
       "        (down_proj): Linear(input_dims=2048, output_dims=640, bias=False)\n",
       "        (up_proj): Linear(input_dims=640, output_dims=2048, bias=False)\n",
       "      )\n",
       "      (input_layernorm): RMSNorm()\n",
       "      (post_attention_layernorm): RMSNorm()\n",
       "      (pre_feedforward_layernorm): RMSNorm()\n",
       "      (post_feedforward_layernorm): RMSNorm()\n",
       "    )\n",
       "    (layers.1): TransformerBlock(\n",
       "      (self_attn): Attention(\n",
       "        (q_proj): Linear(input_dims=640, output_dims=1024, bias=False)\n",
       "        (k_proj): Linear(input_dims=640, output_dims=256, bias=False)\n",
       "        (v_proj): Linear(input_dims=640, output_dims=256, bias=False)\n",
       "        (o_proj): Linear(input_dims=1024, output_dims=640, bias=False)\n",
       "        (q_norm): RMSNorm()\n",
       "        (k_norm): RMSNorm()\n",
       "        (rope): RoPE(256, traditional=False)\n",
       "      )\n",
       "      (mlp): MLP(\n",
       "        (gate_proj): Linear(input_dims=640, output_dims=2048, bias=False)\n",
       "        (down_proj): Linear(input_dims=2048, output_dims=640, bias=False)\n",
       "        (up_proj): Linear(input_dims=640, output_dims=2048, bias=False)\n",
       "      )\n",
       "      (input_layernorm): RMSNorm()\n",
       "      (post_attention_layernorm): RMSNorm()\n",
       "      (pre_feedforward_layernorm): RMSNorm()\n",
       "      (post_feedforward_layernorm): RMSNorm()\n",
       "    )\n",
       "    (layers.2): TransformerBlock(\n",
       "      (self_attn): Attention(\n",
       "        (q_proj): Linear(input_dims=640, output_dims=1024, bias=False)\n",
       "        (k_proj): Linear(input_dims=640, output_dims=256, bias=False)\n",
       "        (v_proj): Linear(input_dims=640, output_dims=256, bias=False)\n",
       "        (o_proj): Linear(input_dims=1024, output_dims=640, bias=False)\n",
       "        (q_norm): RMSNorm()\n",
       "        (k_norm): RMSNorm()\n",
       "        (rope): RoPE(256, traditional=False)\n",
       "      )\n",
       "      (mlp): MLP(\n",
       "        (gate_proj): Linear(input_dims=640, output_dims=2048, bias=False)\n",
       "        (down_proj): Linear(input_dims=2048, output_dims=640, bias=False)\n",
       "        (up_proj): Linear(input_dims=640, output_dims=2048, bias=False)\n",
       "      )\n",
       "      (input_layernorm): RMSNorm()\n",
       "      (post_attention_layernorm): RMSNorm()\n",
       "      (pre_feedforward_layernorm): RMSNorm()\n",
       "      (post_feedforward_layernorm): RMSNorm()\n",
       "    )\n",
       "    (layers.3): TransformerBlock(\n",
       "      (self_attn): Attention(\n",
       "        (q_proj): Linear(input_dims=640, output_dims=1024, bias=False)\n",
       "        (k_proj): Linear(input_dims=640, output_dims=256, bias=False)\n",
       "        (v_proj): Linear(input_dims=640, output_dims=256, bias=False)\n",
       "        (o_proj): Linear(input_dims=1024, output_dims=640, bias=False)\n",
       "        (q_norm): RMSNorm()\n",
       "        (k_norm): RMSNorm()\n",
       "        (rope): RoPE(256, traditional=False)\n",
       "      )\n",
       "      (mlp): MLP(\n",
       "        (gate_proj): Linear(input_dims=640, output_dims=2048, bias=False)\n",
       "        (down_proj): Linear(input_dims=2048, output_dims=640, bias=False)\n",
       "        (up_proj): Linear(input_dims=640, output_dims=2048, bias=False)\n",
       "      )\n",
       "      (input_layernorm): RMSNorm()\n",
       "      (post_attention_layernorm): RMSNorm()\n",
       "      (pre_feedforward_layernorm): RMSNorm()\n",
       "      (post_feedforward_layernorm): RMSNorm()\n",
       "    )\n",
       "    (layers.4): TransformerBlock(\n",
       "      (self_attn): Attention(\n",
       "        (q_proj): Linear(input_dims=640, output_dims=1024, bias=False)\n",
       "        (k_proj): Linear(input_dims=640, output_dims=256, bias=False)\n",
       "        (v_proj): Linear(input_dims=640, output_dims=256, bias=False)\n",
       "        (o_proj): Linear(input_dims=1024, output_dims=640, bias=False)\n",
       "        (q_norm): RMSNorm()\n",
       "        (k_norm): RMSNorm()\n",
       "        (rope): RoPE(256, traditional=False)\n",
       "      )\n",
       "      (mlp): MLP(\n",
       "        (gate_proj): Linear(input_dims=640, output_dims=2048, bias=False)\n",
       "        (down_proj): Linear(input_dims=2048, output_dims=640, bias=False)\n",
       "        (up_proj): Linear(input_dims=640, output_dims=2048, bias=False)\n",
       "      )\n",
       "      (input_layernorm): RMSNorm()\n",
       "      (post_attention_layernorm): RMSNorm()\n",
       "      (pre_feedforward_layernorm): RMSNorm()\n",
       "      (post_feedforward_layernorm): RMSNorm()\n",
       "    )\n",
       "    (layers.5): TransformerBlock(\n",
       "      (self_attn): Attention(\n",
       "        (q_proj): Linear(input_dims=640, output_dims=1024, bias=False)\n",
       "        (k_proj): Linear(input_dims=640, output_dims=256, bias=False)\n",
       "        (v_proj): Linear(input_dims=640, output_dims=256, bias=False)\n",
       "        (o_proj): Linear(input_dims=1024, output_dims=640, bias=False)\n",
       "        (q_norm): RMSNorm()\n",
       "        (k_norm): RMSNorm()\n",
       "        (rope): RoPE(256, traditional=False)\n",
       "      )\n",
       "      (mlp): MLP(\n",
       "        (gate_proj): Linear(input_dims=640, output_dims=2048, bias=False)\n",
       "        (down_proj): Linear(input_dims=2048, output_dims=640, bias=False)\n",
       "        (up_proj): Linear(input_dims=640, output_dims=2048, bias=False)\n",
       "      )\n",
       "      (input_layernorm): RMSNorm()\n",
       "      (post_attention_layernorm): RMSNorm()\n",
       "      (pre_feedforward_layernorm): RMSNorm()\n",
       "      (post_feedforward_layernorm): RMSNorm()\n",
       "    )\n",
       "    (layers.6): TransformerBlock(\n",
       "      (self_attn): Attention(\n",
       "        (q_proj): Linear(input_dims=640, output_dims=1024, bias=False)\n",
       "        (k_proj): Linear(input_dims=640, output_dims=256, bias=False)\n",
       "        (v_proj): Linear(input_dims=640, output_dims=256, bias=False)\n",
       "        (o_proj): Linear(input_dims=1024, output_dims=640, bias=False)\n",
       "        (q_norm): RMSNorm()\n",
       "        (k_norm): RMSNorm()\n",
       "        (rope): RoPE(256, traditional=False)\n",
       "      )\n",
       "      (mlp): MLP(\n",
       "        (gate_proj): Linear(input_dims=640, output_dims=2048, bias=False)\n",
       "        (down_proj): Linear(input_dims=2048, output_dims=640, bias=False)\n",
       "        (up_proj): Linear(input_dims=640, output_dims=2048, bias=False)\n",
       "      )\n",
       "      (input_layernorm): RMSNorm()\n",
       "      (post_attention_layernorm): RMSNorm()\n",
       "      (pre_feedforward_layernorm): RMSNorm()\n",
       "      (post_feedforward_layernorm): RMSNorm()\n",
       "    )\n",
       "    (layers.7): TransformerBlock(\n",
       "      (self_attn): Attention(\n",
       "        (q_proj): Linear(input_dims=640, output_dims=1024, bias=False)\n",
       "        (k_proj): Linear(input_dims=640, output_dims=256, bias=False)\n",
       "        (v_proj): Linear(input_dims=640, output_dims=256, bias=False)\n",
       "        (o_proj): Linear(input_dims=1024, output_dims=640, bias=False)\n",
       "        (q_norm): RMSNorm()\n",
       "        (k_norm): RMSNorm()\n",
       "        (rope): RoPE(256, traditional=False)\n",
       "      )\n",
       "      (mlp): MLP(\n",
       "        (gate_proj): Linear(input_dims=640, output_dims=2048, bias=False)\n",
       "        (down_proj): Linear(input_dims=2048, output_dims=640, bias=False)\n",
       "        (up_proj): Linear(input_dims=640, output_dims=2048, bias=False)\n",
       "      )\n",
       "      (input_layernorm): RMSNorm()\n",
       "      (post_attention_layernorm): RMSNorm()\n",
       "      (pre_feedforward_layernorm): RMSNorm()\n",
       "      (post_feedforward_layernorm): RMSNorm()\n",
       "    )\n",
       "    (layers.8): TransformerBlock(\n",
       "      (self_attn): Attention(\n",
       "        (q_proj): Linear(input_dims=640, output_dims=1024, bias=False)\n",
       "        (k_proj): Linear(input_dims=640, output_dims=256, bias=False)\n",
       "        (v_proj): Linear(input_dims=640, output_dims=256, bias=False)\n",
       "        (o_proj): Linear(input_dims=1024, output_dims=640, bias=False)\n",
       "        (q_norm): RMSNorm()\n",
       "        (k_norm): RMSNorm()\n",
       "        (rope): RoPE(256, traditional=False)\n",
       "      )\n",
       "      (mlp): MLP(\n",
       "        (gate_proj): Linear(input_dims=640, output_dims=2048, bias=False)\n",
       "        (down_proj): Linear(input_dims=2048, output_dims=640, bias=False)\n",
       "        (up_proj): Linear(input_dims=640, output_dims=2048, bias=False)\n",
       "      )\n",
       "      (input_layernorm): RMSNorm()\n",
       "      (post_attention_layernorm): RMSNorm()\n",
       "      (pre_feedforward_layernorm): RMSNorm()\n",
       "      (post_feedforward_layernorm): RMSNorm()\n",
       "    )\n",
       "    (layers.9): TransformerBlock(\n",
       "      (self_attn): Attention(\n",
       "        (q_proj): Linear(input_dims=640, output_dims=1024, bias=False)\n",
       "        (k_proj): Linear(input_dims=640, output_dims=256, bias=False)\n",
       "        (v_proj): Linear(input_dims=640, output_dims=256, bias=False)\n",
       "        (o_proj): Linear(input_dims=1024, output_dims=640, bias=False)\n",
       "        (q_norm): RMSNorm()\n",
       "        (k_norm): RMSNorm()\n",
       "        (rope): RoPE(256, traditional=False)\n",
       "      )\n",
       "      (mlp): MLP(\n",
       "        (gate_proj): Linear(input_dims=640, output_dims=2048, bias=False)\n",
       "        (down_proj): Linear(input_dims=2048, output_dims=640, bias=False)\n",
       "        (up_proj): Linear(input_dims=640, output_dims=2048, bias=False)\n",
       "      )\n",
       "      (input_layernorm): RMSNorm()\n",
       "      (post_attention_layernorm): RMSNorm()\n",
       "      (pre_feedforward_layernorm): RMSNorm()\n",
       "      (post_feedforward_layernorm): RMSNorm()\n",
       "    )\n",
       "    (layers.10): TransformerBlock(\n",
       "      (self_attn): Attention(\n",
       "        (q_proj): LoRALinear(\n",
       "          (linear): Linear(input_dims=640, output_dims=1024, bias=False)\n",
       "          (dropout): Dropout(p=0.0)\n",
       "        )\n",
       "        (k_proj): Linear(input_dims=640, output_dims=256, bias=False)\n",
       "        (v_proj): LoRALinear(\n",
       "          (linear): Linear(input_dims=640, output_dims=256, bias=False)\n",
       "          (dropout): Dropout(p=0.0)\n",
       "        )\n",
       "        (o_proj): Linear(input_dims=1024, output_dims=640, bias=False)\n",
       "        (q_norm): RMSNorm()\n",
       "        (k_norm): RMSNorm()\n",
       "        (rope): RoPE(256, traditional=False)\n",
       "      )\n",
       "      (mlp): MLP(\n",
       "        (gate_proj): Linear(input_dims=640, output_dims=2048, bias=False)\n",
       "        (down_proj): Linear(input_dims=2048, output_dims=640, bias=False)\n",
       "        (up_proj): Linear(input_dims=640, output_dims=2048, bias=False)\n",
       "      )\n",
       "      (input_layernorm): RMSNorm()\n",
       "      (post_attention_layernorm): RMSNorm()\n",
       "      (pre_feedforward_layernorm): RMSNorm()\n",
       "      (post_feedforward_layernorm): RMSNorm()\n",
       "    )\n",
       "    (layers.11): TransformerBlock(\n",
       "      (self_attn): Attention(\n",
       "        (q_proj): LoRALinear(\n",
       "          (linear): Linear(input_dims=640, output_dims=1024, bias=False)\n",
       "          (dropout): Dropout(p=0.0)\n",
       "        )\n",
       "        (k_proj): Linear(input_dims=640, output_dims=256, bias=False)\n",
       "        (v_proj): LoRALinear(\n",
       "          (linear): Linear(input_dims=640, output_dims=256, bias=False)\n",
       "          (dropout): Dropout(p=0.0)\n",
       "        )\n",
       "        (o_proj): Linear(input_dims=1024, output_dims=640, bias=False)\n",
       "        (q_norm): RMSNorm()\n",
       "        (k_norm): RMSNorm()\n",
       "        (rope): RoPE(256, traditional=False)\n",
       "      )\n",
       "      (mlp): MLP(\n",
       "        (gate_proj): Linear(input_dims=640, output_dims=2048, bias=False)\n",
       "        (down_proj): Linear(input_dims=2048, output_dims=640, bias=False)\n",
       "        (up_proj): Linear(input_dims=640, output_dims=2048, bias=False)\n",
       "      )\n",
       "      (input_layernorm): RMSNorm()\n",
       "      (post_attention_layernorm): RMSNorm()\n",
       "      (pre_feedforward_layernorm): RMSNorm()\n",
       "      (post_feedforward_layernorm): RMSNorm()\n",
       "    )\n",
       "    (layers.12): TransformerBlock(\n",
       "      (self_attn): Attention(\n",
       "        (q_proj): LoRALinear(\n",
       "          (linear): Linear(input_dims=640, output_dims=1024, bias=False)\n",
       "          (dropout): Dropout(p=0.0)\n",
       "        )\n",
       "        (k_proj): Linear(input_dims=640, output_dims=256, bias=False)\n",
       "        (v_proj): LoRALinear(\n",
       "          (linear): Linear(input_dims=640, output_dims=256, bias=False)\n",
       "          (dropout): Dropout(p=0.0)\n",
       "        )\n",
       "        (o_proj): Linear(input_dims=1024, output_dims=640, bias=False)\n",
       "        (q_norm): RMSNorm()\n",
       "        (k_norm): RMSNorm()\n",
       "        (rope): RoPE(256, traditional=False)\n",
       "      )\n",
       "      (mlp): MLP(\n",
       "        (gate_proj): Linear(input_dims=640, output_dims=2048, bias=False)\n",
       "        (down_proj): Linear(input_dims=2048, output_dims=640, bias=False)\n",
       "        (up_proj): Linear(input_dims=640, output_dims=2048, bias=False)\n",
       "      )\n",
       "      (input_layernorm): RMSNorm()\n",
       "      (post_attention_layernorm): RMSNorm()\n",
       "      (pre_feedforward_layernorm): RMSNorm()\n",
       "      (post_feedforward_layernorm): RMSNorm()\n",
       "    )\n",
       "    (layers.13): TransformerBlock(\n",
       "      (self_attn): Attention(\n",
       "        (q_proj): LoRALinear(\n",
       "          (linear): Linear(input_dims=640, output_dims=1024, bias=False)\n",
       "          (dropout): Dropout(p=0.0)\n",
       "        )\n",
       "        (k_proj): Linear(input_dims=640, output_dims=256, bias=False)\n",
       "        (v_proj): LoRALinear(\n",
       "          (linear): Linear(input_dims=640, output_dims=256, bias=False)\n",
       "          (dropout): Dropout(p=0.0)\n",
       "        )\n",
       "        (o_proj): Linear(input_dims=1024, output_dims=640, bias=False)\n",
       "        (q_norm): RMSNorm()\n",
       "        (k_norm): RMSNorm()\n",
       "        (rope): RoPE(256, traditional=False)\n",
       "      )\n",
       "      (mlp): MLP(\n",
       "        (gate_proj): Linear(input_dims=640, output_dims=2048, bias=False)\n",
       "        (down_proj): Linear(input_dims=2048, output_dims=640, bias=False)\n",
       "        (up_proj): Linear(input_dims=640, output_dims=2048, bias=False)\n",
       "      )\n",
       "      (input_layernorm): RMSNorm()\n",
       "      (post_attention_layernorm): RMSNorm()\n",
       "      (pre_feedforward_layernorm): RMSNorm()\n",
       "      (post_feedforward_layernorm): RMSNorm()\n",
       "    )\n",
       "    (layers.14): TransformerBlock(\n",
       "      (self_attn): Attention(\n",
       "        (q_proj): LoRALinear(\n",
       "          (linear): Linear(input_dims=640, output_dims=1024, bias=False)\n",
       "          (dropout): Dropout(p=0.0)\n",
       "        )\n",
       "        (k_proj): Linear(input_dims=640, output_dims=256, bias=False)\n",
       "        (v_proj): LoRALinear(\n",
       "          (linear): Linear(input_dims=640, output_dims=256, bias=False)\n",
       "          (dropout): Dropout(p=0.0)\n",
       "        )\n",
       "        (o_proj): Linear(input_dims=1024, output_dims=640, bias=False)\n",
       "        (q_norm): RMSNorm()\n",
       "        (k_norm): RMSNorm()\n",
       "        (rope): RoPE(256, traditional=False)\n",
       "      )\n",
       "      (mlp): MLP(\n",
       "        (gate_proj): Linear(input_dims=640, output_dims=2048, bias=False)\n",
       "        (down_proj): Linear(input_dims=2048, output_dims=640, bias=False)\n",
       "        (up_proj): Linear(input_dims=640, output_dims=2048, bias=False)\n",
       "      )\n",
       "      (input_layernorm): RMSNorm()\n",
       "      (post_attention_layernorm): RMSNorm()\n",
       "      (pre_feedforward_layernorm): RMSNorm()\n",
       "      (post_feedforward_layernorm): RMSNorm()\n",
       "    )\n",
       "    (layers.15): TransformerBlock(\n",
       "      (self_attn): Attention(\n",
       "        (q_proj): LoRALinear(\n",
       "          (linear): Linear(input_dims=640, output_dims=1024, bias=False)\n",
       "          (dropout): Dropout(p=0.0)\n",
       "        )\n",
       "        (k_proj): Linear(input_dims=640, output_dims=256, bias=False)\n",
       "        (v_proj): LoRALinear(\n",
       "          (linear): Linear(input_dims=640, output_dims=256, bias=False)\n",
       "          (dropout): Dropout(p=0.0)\n",
       "        )\n",
       "        (o_proj): Linear(input_dims=1024, output_dims=640, bias=False)\n",
       "        (q_norm): RMSNorm()\n",
       "        (k_norm): RMSNorm()\n",
       "        (rope): RoPE(256, traditional=False)\n",
       "      )\n",
       "      (mlp): MLP(\n",
       "        (gate_proj): Linear(input_dims=640, output_dims=2048, bias=False)\n",
       "        (down_proj): Linear(input_dims=2048, output_dims=640, bias=False)\n",
       "        (up_proj): Linear(input_dims=640, output_dims=2048, bias=False)\n",
       "      )\n",
       "      (input_layernorm): RMSNorm()\n",
       "      (post_attention_layernorm): RMSNorm()\n",
       "      (pre_feedforward_layernorm): RMSNorm()\n",
       "      (post_feedforward_layernorm): RMSNorm()\n",
       "    )\n",
       "    (layers.16): TransformerBlock(\n",
       "      (self_attn): Attention(\n",
       "        (q_proj): LoRALinear(\n",
       "          (linear): Linear(input_dims=640, output_dims=1024, bias=False)\n",
       "          (dropout): Dropout(p=0.0)\n",
       "        )\n",
       "        (k_proj): Linear(input_dims=640, output_dims=256, bias=False)\n",
       "        (v_proj): LoRALinear(\n",
       "          (linear): Linear(input_dims=640, output_dims=256, bias=False)\n",
       "          (dropout): Dropout(p=0.0)\n",
       "        )\n",
       "        (o_proj): Linear(input_dims=1024, output_dims=640, bias=False)\n",
       "        (q_norm): RMSNorm()\n",
       "        (k_norm): RMSNorm()\n",
       "        (rope): RoPE(256, traditional=False)\n",
       "      )\n",
       "      (mlp): MLP(\n",
       "        (gate_proj): Linear(input_dims=640, output_dims=2048, bias=False)\n",
       "        (down_proj): Linear(input_dims=2048, output_dims=640, bias=False)\n",
       "        (up_proj): Linear(input_dims=640, output_dims=2048, bias=False)\n",
       "      )\n",
       "      (input_layernorm): RMSNorm()\n",
       "      (post_attention_layernorm): RMSNorm()\n",
       "      (pre_feedforward_layernorm): RMSNorm()\n",
       "      (post_feedforward_layernorm): RMSNorm()\n",
       "    )\n",
       "    (layers.17): TransformerBlock(\n",
       "      (self_attn): Attention(\n",
       "        (q_proj): LoRALinear(\n",
       "          (linear): Linear(input_dims=640, output_dims=1024, bias=False)\n",
       "          (dropout): Dropout(p=0.0)\n",
       "        )\n",
       "        (k_proj): Linear(input_dims=640, output_dims=256, bias=False)\n",
       "        (v_proj): LoRALinear(\n",
       "          (linear): Linear(input_dims=640, output_dims=256, bias=False)\n",
       "          (dropout): Dropout(p=0.0)\n",
       "        )\n",
       "        (o_proj): Linear(input_dims=1024, output_dims=640, bias=False)\n",
       "        (q_norm): RMSNorm()\n",
       "        (k_norm): RMSNorm()\n",
       "        (rope): RoPE(256, traditional=False)\n",
       "      )\n",
       "      (mlp): MLP(\n",
       "        (gate_proj): Linear(input_dims=640, output_dims=2048, bias=False)\n",
       "        (down_proj): Linear(input_dims=2048, output_dims=640, bias=False)\n",
       "        (up_proj): Linear(input_dims=640, output_dims=2048, bias=False)\n",
       "      )\n",
       "      (input_layernorm): RMSNorm()\n",
       "      (post_attention_layernorm): RMSNorm()\n",
       "      (pre_feedforward_layernorm): RMSNorm()\n",
       "      (post_feedforward_layernorm): RMSNorm()\n",
       "    )\n",
       "    (norm): RMSNorm()\n",
       "  )\n",
       ")"
      ]
     },
     "execution_count": 12,
     "metadata": {},
     "output_type": "execute_result"
    }
   ],
   "source": [
    "model.freeze()\n",
    "linear_to_lora_layers(model, lora_config[\"num_layers\"], lora_config[\"lora_parameters\"])\n",
    "num_train_params = sum(v.size for _, v in tree_flatten(model.trainable_parameters()))\n",
    "print(f\"Number of trainable parameters: {num_train_params}\")\n",
    "model.train()"
   ]
  },
  {
   "cell_type": "code",
   "execution_count": 13,
   "id": "4b300e9c",
   "metadata": {},
   "outputs": [],
   "source": [
    "class Metrics:\n",
    "    def __init__(self) -> None:\n",
    "        self.train_losses: List[Tuple[int, float]] = []\n",
    "        self.val_losses: List[Tuple[int, float]] = []\n",
    "\n",
    "    def on_train_loss_report(self, info: Dict[str, Union[float, int]]) -> None:\n",
    "        self.train_losses.append((info[\"iteration\"], info[\"train_loss\"]))\n",
    "\n",
    "    def on_val_loss_report(self, info: Dict[str, Union[float, int]]) -> None:\n",
    "        self.val_losses.append((info[\"iteration\"], info[\"val_loss\"]))"
   ]
  },
  {
   "cell_type": "code",
   "execution_count": 14,
   "id": "945ce611",
   "metadata": {},
   "outputs": [],
   "source": [
    "metrics = Metrics()"
   ]
  },
  {
   "cell_type": "markdown",
   "id": "4d6e2b43",
   "metadata": {},
   "source": [
    "# load data"
   ]
  },
  {
   "cell_type": "code",
   "execution_count": 16,
   "id": "0c9949aa",
   "metadata": {},
   "outputs": [
    {
     "data": {
      "application/vnd.jupyter.widget-view+json": {
       "model_id": "c5b28acb666b4bc9adf82db07d651d57",
       "version_major": 2,
       "version_minor": 0
      },
      "text/plain": [
       "README.md:   0%|          | 0.00/841 [00:00<?, ?B/s]"
      ]
     },
     "metadata": {},
     "output_type": "display_data"
    },
    {
     "data": {
      "application/vnd.jupyter.widget-view+json": {
       "model_id": "4f35280864e84d608d90c38f5c396518",
       "version_major": 2,
       "version_minor": 0
      },
      "text/plain": [
       "data/train-00000-of-00001.parquet:   0%|          | 0.00/74.0k [00:00<?, ?B/s]"
      ]
     },
     "metadata": {},
     "output_type": "display_data"
    },
    {
     "data": {
      "application/vnd.jupyter.widget-view+json": {
       "model_id": "b5785bf26d9e41c18c6e2e118dddf89e",
       "version_major": 2,
       "version_minor": 0
      },
      "text/plain": [
       "data/valid-00000-of-00001.parquet:   0%|          | 0.00/10.2k [00:00<?, ?B/s]"
      ]
     },
     "metadata": {},
     "output_type": "display_data"
    },
    {
     "data": {
      "application/vnd.jupyter.widget-view+json": {
       "model_id": "eb1857b0158a4f32b719d7e6c0b529c3",
       "version_major": 2,
       "version_minor": 0
      },
      "text/plain": [
       "data/test-00000-of-00001.parquet:   0%|          | 0.00/10.3k [00:00<?, ?B/s]"
      ]
     },
     "metadata": {},
     "output_type": "display_data"
    },
    {
     "data": {
      "application/vnd.jupyter.widget-view+json": {
       "model_id": "b870e4c4e72c468da901cc5b6b0403e2",
       "version_major": 2,
       "version_minor": 0
      },
      "text/plain": [
       "Generating train split:   0%|          | 0/1000 [00:00<?, ? examples/s]"
      ]
     },
     "metadata": {},
     "output_type": "display_data"
    },
    {
     "data": {
      "application/vnd.jupyter.widget-view+json": {
       "model_id": "47f5fad1e6d84456921be21f53dd159f",
       "version_major": 2,
       "version_minor": 0
      },
      "text/plain": [
       "Generating valid split:   0%|          | 0/100 [00:00<?, ? examples/s]"
      ]
     },
     "metadata": {},
     "output_type": "display_data"
    },
    {
     "data": {
      "application/vnd.jupyter.widget-view+json": {
       "model_id": "1d08f10bb8fa49a483aabf54f8e1e90f",
       "version_major": 2,
       "version_minor": 0
      },
      "text/plain": [
       "Generating test split:   0%|          | 0/100 [00:00<?, ? examples/s]"
      ]
     },
     "metadata": {},
     "output_type": "display_data"
    }
   ],
   "source": [
    "from mlx_lm.tuner.datasets import load_hf_dataset\n",
    "config = { }\n",
    "train_set, val_set, test_set = load_hf_dataset(\n",
    "    data_id=\"mlx-community/wikisql\",\n",
    "    tokenizer=tokenizer,\n",
    "    config=config,\n",
    ")"
   ]
  },
  {
   "cell_type": "code",
   "execution_count": 17,
   "id": "8bd0152a",
   "metadata": {},
   "outputs": [
    {
     "name": "stdout",
     "output_type": "stream",
     "text": [
      "Test set size: 100\n",
      "Validation set size: 100\n",
      "Training set size: 1000\n",
      "test set: {'text': [\"table: 1-10015132-16\\ncolumns: Player, No., Nationality, Position, Years in Toronto, School/Club Team\\nQ: What is terrence ross' nationality\\nA: SELECT Nationality FROM 1-10015132-16 WHERE Player = 'Terrence Ross'\", \"table: 1-10015132-16\\ncolumns: Player, No., Nationality, Position, Years in Toronto, School/Club Team\\nQ: What clu was in toronto 1995-96\\nA: SELECT School/Club Team FROM 1-10015132-16 WHERE Years in Toronto = '1995-96'\"]}\n"
     ]
    }
   ],
   "source": [
    "print(f\"Test set size: {len(test_set)}\")\n",
    "print(f\"Validation set size: {len(val_set)}\")\n",
    "print(f\"Training set size: {len(train_set)}\")\n",
    "print(f\"test set: {test_set[:2]}\")"
   ]
  },
  {
   "cell_type": "code",
   "execution_count": 18,
   "id": "93609708",
   "metadata": {},
   "outputs": [
    {
     "name": "stdout",
     "output_type": "stream",
     "text": [
      "Starting training..., iters: 200\n"
     ]
    },
    {
     "name": "stderr",
     "output_type": "stream",
     "text": [
      "Calculating loss...: 100%|██████████| 25/25 [00:05<00:00,  4.78it/s]"
     ]
    },
    {
     "name": "stdout",
     "output_type": "stream",
     "text": [
      "Iter 1: Val loss 4.059, Val took 5.235s\n"
     ]
    },
    {
     "name": "stderr",
     "output_type": "stream",
     "text": [
      "\n"
     ]
    },
    {
     "name": "stdout",
     "output_type": "stream",
     "text": [
      "Iter 10: Train loss 3.808, Learning Rate 1.000e-05, It/sec 1.891, Tokens/sec 720.052, Trained Tokens 3808, Peak mem 1.847 GB\n",
      "Iter 20: Train loss 3.188, Learning Rate 1.000e-05, It/sec 2.803, Tokens/sec 981.376, Trained Tokens 7309, Peak mem 2.176 GB\n",
      "Iter 30: Train loss 2.860, Learning Rate 1.000e-05, It/sec 3.060, Tokens/sec 1047.298, Trained Tokens 10732, Peak mem 2.176 GB\n",
      "Iter 40: Train loss 2.616, Learning Rate 1.000e-05, It/sec 2.877, Tokens/sec 1073.506, Trained Tokens 14463, Peak mem 2.176 GB\n"
     ]
    },
    {
     "name": "stderr",
     "output_type": "stream",
     "text": [
      "Calculating loss...: 100%|██████████| 25/25 [00:03<00:00,  7.11it/s]"
     ]
    },
    {
     "name": "stdout",
     "output_type": "stream",
     "text": [
      "Iter 50: Val loss 2.467, Val took 3.534s\n"
     ]
    },
    {
     "name": "stderr",
     "output_type": "stream",
     "text": [
      "\n"
     ]
    },
    {
     "name": "stdout",
     "output_type": "stream",
     "text": [
      "Iter 50: Train loss 2.504, Learning Rate 1.000e-05, It/sec 3.093, Tokens/sec 1078.381, Trained Tokens 17949, Peak mem 2.176 GB\n",
      "Iter 60: Train loss 2.397, Learning Rate 1.000e-05, It/sec 2.865, Tokens/sec 1083.910, Trained Tokens 21732, Peak mem 2.176 GB\n",
      "Iter 70: Train loss 2.312, Learning Rate 1.000e-05, It/sec 2.892, Tokens/sec 1058.885, Trained Tokens 25394, Peak mem 2.176 GB\n",
      "Iter 80: Train loss 2.292, Learning Rate 1.000e-05, It/sec 2.591, Tokens/sec 950.634, Trained Tokens 29063, Peak mem 2.506 GB\n",
      "Iter 90: Train loss 2.286, Learning Rate 1.000e-05, It/sec 2.772, Tokens/sec 1032.973, Trained Tokens 32789, Peak mem 2.506 GB\n"
     ]
    },
    {
     "name": "stderr",
     "output_type": "stream",
     "text": [
      "Calculating loss...: 100%|██████████| 25/25 [00:03<00:00,  7.33it/s]"
     ]
    },
    {
     "name": "stdout",
     "output_type": "stream",
     "text": [
      "Iter 100: Val loss 2.166, Val took 3.425s\n"
     ]
    },
    {
     "name": "stderr",
     "output_type": "stream",
     "text": [
      "\n"
     ]
    },
    {
     "name": "stdout",
     "output_type": "stream",
     "text": [
      "Iter 100: Train loss 2.278, Learning Rate 1.000e-05, It/sec 2.597, Tokens/sec 922.803, Trained Tokens 36342, Peak mem 2.506 GB\n",
      "Iter 100: Saved adapter weights to adapters_gemma3/adapters.safetensors and adapters_gemma3/0000100_adapters.safetensors.\n",
      "Iter 110: Train loss 2.150, Learning Rate 1.000e-05, It/sec 2.878, Tokens/sec 974.053, Trained Tokens 39726, Peak mem 2.506 GB\n",
      "Iter 120: Train loss 2.036, Learning Rate 1.000e-05, It/sec 2.695, Tokens/sec 983.549, Trained Tokens 43375, Peak mem 2.506 GB\n",
      "Iter 130: Train loss 2.074, Learning Rate 1.000e-05, It/sec 2.759, Tokens/sec 971.446, Trained Tokens 46896, Peak mem 2.506 GB\n",
      "Iter 140: Train loss 2.079, Learning Rate 1.000e-05, It/sec 2.660, Tokens/sec 988.435, Trained Tokens 50612, Peak mem 2.506 GB\n"
     ]
    },
    {
     "name": "stderr",
     "output_type": "stream",
     "text": [
      "Calculating loss...: 100%|██████████| 25/25 [00:03<00:00,  7.29it/s]"
     ]
    },
    {
     "name": "stdout",
     "output_type": "stream",
     "text": [
      "Iter 150: Val loss 2.031, Val took 3.457s\n"
     ]
    },
    {
     "name": "stderr",
     "output_type": "stream",
     "text": [
      "\n"
     ]
    },
    {
     "name": "stdout",
     "output_type": "stream",
     "text": [
      "Iter 150: Train loss 2.088, Learning Rate 1.000e-05, It/sec 2.568, Tokens/sec 964.229, Trained Tokens 54367, Peak mem 2.506 GB\n",
      "Iter 160: Train loss 2.027, Learning Rate 1.000e-05, It/sec 2.547, Tokens/sec 978.339, Trained Tokens 58208, Peak mem 2.506 GB\n",
      "Iter 170: Train loss 1.952, Learning Rate 1.000e-05, It/sec 2.758, Tokens/sec 1085.310, Trained Tokens 62143, Peak mem 2.837 GB\n",
      "Iter 180: Train loss 1.800, Learning Rate 1.000e-05, It/sec 3.167, Tokens/sec 1086.855, Trained Tokens 65575, Peak mem 2.837 GB\n",
      "Iter 190: Train loss 1.988, Learning Rate 1.000e-05, It/sec 3.102, Tokens/sec 1151.570, Trained Tokens 69287, Peak mem 2.837 GB\n"
     ]
    },
    {
     "name": "stderr",
     "output_type": "stream",
     "text": [
      "Calculating loss...: 100%|██████████| 25/25 [00:03<00:00,  7.31it/s]"
     ]
    },
    {
     "name": "stdout",
     "output_type": "stream",
     "text": [
      "Iter 200: Val loss 1.934, Val took 3.447s\n"
     ]
    },
    {
     "name": "stderr",
     "output_type": "stream",
     "text": [
      "\n"
     ]
    },
    {
     "name": "stdout",
     "output_type": "stream",
     "text": [
      "Iter 200: Train loss 1.831, Learning Rate 1.000e-05, It/sec 2.744, Tokens/sec 1019.964, Trained Tokens 73004, Peak mem 2.837 GB\n",
      "Iter 200: Saved adapter weights to adapters_gemma3/adapters.safetensors and adapters_gemma3/0000200_adapters.safetensors.\n",
      "Saved final weights to adapters_gemma3/adapters.safetensors.\n"
     ]
    }
   ],
   "source": [
    "from mlx_lm.tuner.datasets import CacheDataset\n",
    "\n",
    "train_dataset = CacheDataset(train_set)\n",
    "val_dataset = CacheDataset(val_set)\n",
    "\n",
    "train(\n",
    "    model,\n",
    "    optim.Adam(learning_rate=1e-5),\n",
    "    train_dataset,\n",
    "    val_dataset,\n",
    "    args=training_args,\n",
    "    training_callback=metrics\n",
    ")\n"
   ]
  },
  {
   "cell_type": "markdown",
   "id": "0f932b34",
   "metadata": {},
   "source": [
    "## Fusionar modelo base con adaptador\n",
    "revisar, por que al parecer se está fijando el valor del modelo a fucionar, esto debería ser así?"
   ]
  },
  {
   "cell_type": "code",
   "execution_count": 19,
   "id": "255d5151",
   "metadata": {},
   "outputs": [
    {
     "name": "stderr",
     "output_type": "stream",
     "text": [
      "huggingface/tokenizers: The current process just got forked, after parallelism has already been used. Disabling parallelism to avoid deadlocks...\n",
      "To disable this warning, you can either:\n",
      "\t- Avoid using `tokenizers` before the fork if possible\n",
      "\t- Explicitly set the environment variable TOKENIZERS_PARALLELISM=(true | false)\n"
     ]
    },
    {
     "name": "stdout",
     "output_type": "stream",
     "text": [
      "Loading pretrained model\n"
     ]
    }
   ],
   "source": [
    "! python -m mlx_lm fuse  --model ./models_cache/hub/models--google--gemma-3-270m-it/snapshots/ac82b4e820549b854eebf28ce6dedaf9fdfa17b3 --adapter-path ./adapters_gemma3 --save-path ./new_gemma3 "
   ]
  },
  {
   "cell_type": "markdown",
   "id": "b9616483",
   "metadata": {},
   "source": [
    "# Subir modelo a HF\n",
    "Utilizando el API de HF se sube el modelo a deimagjas/Phi-3.5-mini-instruct-4bit-sft"
   ]
  },
  {
   "cell_type": "code",
   "execution_count": 20,
   "id": "b6ef97ac",
   "metadata": {},
   "outputs": [
    {
     "data": {
      "application/vnd.jupyter.widget-view+json": {
       "model_id": "3902de5cd9fb4d428f83431c8db802d3",
       "version_major": 2,
       "version_minor": 0
      },
      "text/plain": [
       "Processing Files (0 / 0): |          |  0.00B /  0.00B            "
      ]
     },
     "metadata": {},
     "output_type": "display_data"
    },
    {
     "data": {
      "application/vnd.jupyter.widget-view+json": {
       "model_id": "0b09ea0e6cb14fb8ac94c56c41b7b0b6",
       "version_major": 2,
       "version_minor": 0
      },
      "text/plain": [
       "New Data Upload: |          |  0.00B /  0.00B            "
      ]
     },
     "metadata": {},
     "output_type": "display_data"
    },
    {
     "data": {
      "text/plain": [
       "CommitInfo(commit_url='https://huggingface.co/deimagjas/gemma-3-270m-it-sft/commit/323474bc271eb170772ecaddabdfa941c805b7cb', commit_message='Upload folder using huggingface_hub', commit_description='', oid='323474bc271eb170772ecaddabdfa941c805b7cb', pr_url=None, repo_url=RepoUrl('https://huggingface.co/deimagjas/gemma-3-270m-it-sft', endpoint='https://huggingface.co', repo_type='model', repo_id='deimagjas/gemma-3-270m-it-sft'), pr_revision=None, pr_num=None)"
      ]
     },
     "execution_count": 20,
     "metadata": {},
     "output_type": "execute_result"
    }
   ],
   "source": [
    "from huggingface_hub import  upload_folder\n",
    "\n",
    "repo_id = \"deimagjas/gemma-3-270m-it-sft\"\n",
    "\n",
    "upload_folder(\n",
    "    folder_path=\"./new_gemma3\",\n",
    "    repo_id=repo_id\n",
    ")\n"
   ]
  },
  {
   "cell_type": "markdown",
   "id": "402c7625",
   "metadata": {},
   "source": [
    "## Test HF model"
   ]
  },
  {
   "cell_type": "code",
   "execution_count": 21,
   "id": "e405bb57",
   "metadata": {},
   "outputs": [
    {
     "data": {
      "application/vnd.jupyter.widget-view+json": {
       "model_id": "e159d92e774442b2afe4d9402c09d82f",
       "version_major": 2,
       "version_minor": 0
      },
      "text/plain": [
       "Fetching 8 files:   0%|          | 0/8 [00:00<?, ?it/s]"
      ]
     },
     "metadata": {},
     "output_type": "display_data"
    },
    {
     "data": {
      "application/vnd.jupyter.widget-view+json": {
       "model_id": "90e74441680b4be5a7efe05e51ba742c",
       "version_major": 2,
       "version_minor": 0
      },
      "text/plain": [
       "config.json:   0%|          | 0.00/1.49k [00:00<?, ?B/s]"
      ]
     },
     "metadata": {},
     "output_type": "display_data"
    },
    {
     "data": {
      "application/vnd.jupyter.widget-view+json": {
       "model_id": "f486df2a380f4f1c9bf52c476a1e9606",
       "version_major": 2,
       "version_minor": 0
      },
      "text/plain": [
       "model.safetensors.index.json:   0%|          | 0.00/17.2k [00:00<?, ?B/s]"
      ]
     },
     "metadata": {},
     "output_type": "display_data"
    },
    {
     "data": {
      "application/vnd.jupyter.widget-view+json": {
       "model_id": "f7fafb3c16a84031b79dfc77da15a036",
       "version_major": 2,
       "version_minor": 0
      },
      "text/plain": [
       "generation_config.json:   0%|          | 0.00/173 [00:00<?, ?B/s]"
      ]
     },
     "metadata": {},
     "output_type": "display_data"
    },
    {
     "data": {
      "application/vnd.jupyter.widget-view+json": {
       "model_id": "ccb66f1e37aa46f28f5349b09abce150",
       "version_major": 2,
       "version_minor": 0
      },
      "text/plain": [
       "tokenizer_config.json:   0%|          | 0.00/1.16M [00:00<?, ?B/s]"
      ]
     },
     "metadata": {},
     "output_type": "display_data"
    },
    {
     "data": {
      "application/vnd.jupyter.widget-view+json": {
       "model_id": "84b01e5d05cf46fa9471bbb58031e3db",
       "version_major": 2,
       "version_minor": 0
      },
      "text/plain": [
       "special_tokens_map.json:   0%|          | 0.00/662 [00:00<?, ?B/s]"
      ]
     },
     "metadata": {},
     "output_type": "display_data"
    },
    {
     "data": {
      "application/vnd.jupyter.widget-view+json": {
       "model_id": "28c5e71fe56f429697f266735c5de2f7",
       "version_major": 2,
       "version_minor": 0
      },
      "text/plain": [
       "model.safetensors:   0%|          | 0.00/536M [00:00<?, ?B/s]"
      ]
     },
     "metadata": {},
     "output_type": "display_data"
    },
    {
     "data": {
      "application/vnd.jupyter.widget-view+json": {
       "model_id": "765e8844bb1e4f8b908f60be5008568c",
       "version_major": 2,
       "version_minor": 0
      },
      "text/plain": [
       "chat_template.jinja:   0%|          | 0.00/1.53k [00:00<?, ?B/s]"
      ]
     },
     "metadata": {},
     "output_type": "display_data"
    },
    {
     "data": {
      "application/vnd.jupyter.widget-view+json": {
       "model_id": "834bc59708074df4bb560d32894892e0",
       "version_major": 2,
       "version_minor": 0
      },
      "text/plain": [
       "tokenizer.json:   0%|          | 0.00/33.4M [00:00<?, ?B/s]"
      ]
     },
     "metadata": {},
     "output_type": "display_data"
    }
   ],
   "source": [
    "model_path = \"deimagjas/gemma-3-270m-it-sft\"\n",
    "model_sft, tokenizer_sft = load(model_path)"
   ]
  },
  {
   "cell_type": "code",
   "execution_count": 22,
   "id": "9eeb3b32",
   "metadata": {},
   "outputs": [
    {
     "name": "stdout",
     "output_type": "stream",
     "text": [
      "==========\n",
      "```sql\n",
      "SELECT *ี่ยể้นوفيرเซ็นเซอร์เซ็นเซอร์ผู้เซ็นเซอร์ที่เซ็นเซอร์ผู้เซ็นเซอร์เคยเซ็นเซอร์ผู้เซ็นเซอร์เซ็นเซอร์เซ็นเซอร์ผู้เซ็นเซอร์เซ็นเซอร์เซ็นเซอร์เซ็นเซอร์เซ็นเซอร์เซ็นเซอร์เซ็นเซอร์เซ็นเซอร์เซ็นเซอร์เซ็นเซอร์เซ็นเซอร์เซ็นเซอร์เซ็นเซอร์เซ็นเซอร์เซ็นเซอร์เซ็นเซอร์เซ็นเซอร์เซ็นเซอร์เซ็นเซอร์เซ็นเซอร์เซ็นเซอร์เซ็นเซอร์เซ็นเซอร์เซ็นเซอร์เซ็นเซอร์เซ็นเซอร์เซ็นเซอร์เซ็นเซอร์เซ็นเซอร์เซ็นเซอร์เซ็นเซอร์เซ็นเซอร์เซ็นเซอร์เซ็นเซอร์เซ็นเซอร์เซ็นเซอร์เซ็นเซอร์เซ็นเซอร์เซ็นเซอร์เซ็นเซอร์เซ็นเซอร์เซ็นเซอร์เซ็นเซอร์เซ็นเซอร์เซ็นเซอร์เซ็นเซอร์เซ็นเซอร์เซ็นเซอร์เซ็นเซอร์เซ็นเซอร์เซ็นเซอร์เซ็นเซอร์เซ็นเซอร์เซ็นเซอร์เซ็นเซอร์เซ็นเซอร์เซ็นเซอร์เซ็นเซอร์เซ็นเซอร์เซ็นเซอร์เซ็นเซอร์เซ็นเซอร์เซ็นเซอร์เซ็นเซอร์เซ็นเซอร์เซ็นเซอร์เซ็นเซอร์เซ็นเซอร์เซ็นเซอร์เซ็นเซอร์เซ็นเซอร์\n",
      "==========\n",
      "Prompt: 26 tokens, 1.710 tokens-per-sec\n",
      "Generation: 256 tokens, 118.625 tokens-per-sec\n",
      "Peak memory: 2.837 GB\n"
     ]
    }
   ],
   "source": [
    "prompt = \"generate an SQL query to find all users who registered in the last 30 days\"\n",
    "messages = [{\"role\": \"user\", \"content\": prompt}]\n",
    "prompt = tokenizer_sft.apply_chat_template(\n",
    "    messages, tokenize=False, add_generation_prompt=True\n",
    ")\n",
    "response = generate(model_sft, tokenizer_sft, prompt=prompt, verbose=True)"
   ]
  },
  {
   "cell_type": "markdown",
   "id": "bb23154d",
   "metadata": {},
   "source": [
    "# Conclusión\n",
    "\n",
    "El fine tunning en este caso fallo, el modelo presenta fallas en la inferencia. ¿por qué?\n",
    "Ademas consume 5X memoria mas o menos"
   ]
  }
 ],
 "metadata": {
  "kernelspec": {
   "display_name": "gemma3-finetunning",
   "language": "python",
   "name": "python3"
  },
  "language_info": {
   "codemirror_mode": {
    "name": "ipython",
    "version": 3
   },
   "file_extension": ".py",
   "mimetype": "text/x-python",
   "name": "python",
   "nbconvert_exporter": "python",
   "pygments_lexer": "ipython3",
   "version": "3.13.7"
  }
 },
 "nbformat": 4,
 "nbformat_minor": 5
}
