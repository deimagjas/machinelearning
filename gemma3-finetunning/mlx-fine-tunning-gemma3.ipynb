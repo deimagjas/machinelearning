{
 "cells": [
  {
   "cell_type": "code",
   "execution_count": 1,
   "id": "40ce18bb",
   "metadata": {},
   "outputs": [
    {
     "name": "stdout",
     "output_type": "stream",
     "text": [
      "La variable de entorno HF_HOME se ha establecido en: /Users/deimagjas/machinelearning/gemma3-finetunning/models_cache\n"
     ]
    }
   ],
   "source": [
    "import os\n",
    "import pathlib\n",
    "\n",
    "project_root = pathlib.Path.cwd()\n",
    "\n",
    "cache_dir = project_root / \"models_cache\"\n",
    "cache_dir.mkdir(exist_ok=True)\n",
    "os.environ['HF_HOME'] = str(cache_dir)\n",
    "print(f\"La variable de entorno HF_HOME se ha establecido en: {os.environ['HF_HOME']}\")\n"
   ]
  },
  {
   "cell_type": "code",
   "execution_count": 2,
   "id": "49d0b88e",
   "metadata": {},
   "outputs": [],
   "source": [
    "import json\n",
    "from typing import Dict, List, Tuple, Union\n",
    "\n",
    "import mlx.optimizers as optim\n",
    "from mlx.utils import tree_flatten\n",
    "from mlx_lm import load, generate\n",
    "from mlx_lm.tuner import TrainingArgs, linear_to_lora_layers, train"
   ]
  },
  {
   "cell_type": "code",
   "execution_count": 3,
   "id": "5647f789",
   "metadata": {},
   "outputs": [
    {
     "name": "stdout",
     "output_type": "stream",
     "text": [
      "Name: mlx-lm\n",
      "Version: 0.28.0\n",
      "Location: /Users/deimagjas/machinelearning/gemma3-finetunning/.venv/lib/python3.13/site-packages\n",
      "Requires: jinja2, mlx, numpy, protobuf, pyyaml, transformers\n",
      "Required-by:\n"
     ]
    }
   ],
   "source": [
    "!uv pip show mlx_lm"
   ]
  },
  {
   "cell_type": "code",
   "execution_count": 4,
   "id": "a9a7a27b",
   "metadata": {},
   "outputs": [
    {
     "data": {
      "application/vnd.jupyter.widget-view+json": {
       "model_id": "87fba05953584237b7f79e9484d06b68",
       "version_major": 2,
       "version_minor": 0
      },
      "text/plain": [
       "VBox(children=(HTML(value='<center> <img\\nsrc=https://huggingface.co/front/assets/huggingface_logo-noborder.sv…"
      ]
     },
     "metadata": {},
     "output_type": "display_data"
    }
   ],
   "source": [
    "from huggingface_hub import login\n",
    "\n",
    "login()"
   ]
  },
  {
   "cell_type": "markdown",
   "id": "208e1a5a",
   "metadata": {},
   "source": [
    "## Carga de modelo desde HF\n",
    "\n",
    "La razón por la que el código funciona con google/gemma-3-270m-it pero no con google/gemma-3-270m se debe a la diferencia entre los\n",
    "  dos tipos de modelos:\n",
    "\n",
    "   1. `google/gemma-3-270m-it`: El sufijo \"-it\" significa \"Instruction Tuned\" (ajustado para instrucciones). Este modelo ha sido\n",
    "      específicamente entrenado para entender y seguir instrucciones en un formato de chat o de pregunta-respuesta. Su tokenizador\n",
    "      incluye una \"plantilla de chat\" (chat template) que formatea la entrada de manera que el modelo la entienda.\n",
    "\n",
    "   2. `google/gemma-3-270m`: Este es el modelo base. Es un modelo de lenguaje pre-entrenado que es bueno para predecir la siguiente\n",
    "      palabra en un texto, pero no ha sido ajustado para seguir instrucciones o para conversar. Su tokenizador no tiene una plantilla de\n",
    "      chat predeterminada."
   ]
  },
  {
   "cell_type": "code",
   "execution_count": 5,
   "id": "54fcc795",
   "metadata": {},
   "outputs": [
    {
     "data": {
      "application/vnd.jupyter.widget-view+json": {
       "model_id": "e234e01e69254ac5a5dfe19331a6dc82",
       "version_major": 2,
       "version_minor": 0
      },
      "text/plain": [
       "Fetching 9 files:   0%|          | 0/9 [00:00<?, ?it/s]"
      ]
     },
     "metadata": {},
     "output_type": "display_data"
    }
   ],
   "source": [
    "model_path = \"google/gemma-3-270m-it\"\n",
    "model, tokenizer = load(model_path)"
   ]
  },
  {
   "cell_type": "code",
   "execution_count": 6,
   "id": "14bd441a",
   "metadata": {},
   "outputs": [
    {
     "name": "stdout",
     "output_type": "stream",
     "text": [
      "==========\n",
      "```sql\n",
      "SELECT *\n",
      "FROM Users\n",
      "WHERE registration_date >= DATE('now', '-30 days');\n",
      "```\n",
      "\n",
      "**Explanation:**\n",
      "\n",
      "* **`SELECT *`**: This selects all columns from the `Users` table.\n",
      "* **`FROM Users`**: This specifies the table from which to retrieve data.\n",
      "* **`WHERE registration_date >= DATE('now', '-30 days')`**: This is the filtering condition.\n",
      "    * `registration_date`:  This is the column name that contains the date of the user's registration.\n",
      "    * `DATE('now', '-30 days')`: This calculates the date 30 days ago from the current date.\n",
      "    * `>=`: This ensures that we only include users whose registration date is greater than or equal to 30 days ago.\n",
      "\n",
      "**Important Considerations:**\n",
      "\n",
      "* **Data Type of `registration_date`:**  The `registration_date` column should be a date or datetime data type.  If it's stored as a string, you might need to convert it to a date type using `STR_TO_DATE('now', '-30 days')` before using it in the `WHERE` clause.\n",
      "* **Database\n",
      "==========\n",
      "Prompt: 26 tokens, 168.913 tokens-per-sec\n",
      "Generation: 256 tokens, 112.072 tokens-per-sec\n",
      "Peak memory: 0.554 GB\n"
     ]
    }
   ],
   "source": [
    "prompt = \"generate an SQL query to find all users who registered in the last 30 days\"\n",
    "messages = [{\"role\": \"user\", \"content\": prompt}]\n",
    "prompt = tokenizer.apply_chat_template(\n",
    "    messages, tokenize=False, add_generation_prompt=True\n",
    ")\n",
    "response = generate(model, tokenizer, prompt=prompt, verbose=True)"
   ]
  },
  {
   "cell_type": "markdown",
   "id": "0b450341",
   "metadata": {},
   "source": [
    "# Creando Adaptador"
   ]
  },
  {
   "cell_type": "code",
   "execution_count": 7,
   "id": "ca69edf7",
   "metadata": {},
   "outputs": [],
   "source": [
    "adapter_path = \"adapters_gemma3\"\n",
    "os.makedirs(adapter_path, exist_ok=True)\n",
    "adapter_config_path = os.path.join(adapter_path, \"adapter_config.json\")\n",
    "adapter_file_path = os.path.join(adapter_path, \"adapters.safetensors\")"
   ]
  },
  {
   "cell_type": "markdown",
   "id": "a73d99b8",
   "metadata": {},
   "source": [
    "# Lora config\n",
    "Aquí se ajustan los hyperparámetros para el entrenamiento"
   ]
  },
  {
   "cell_type": "code",
   "execution_count": 8,
   "id": "5f6b1d93",
   "metadata": {},
   "outputs": [],
   "source": [
    "lora_config = {\n",
    "    \"num_layers\": 8,\n",
    "    \"lora_parameters\": {\n",
    "        \"rank\": 8,\n",
    "        \"scale\": 20.0,\n",
    "        \"dropout\": 0.0,\n",
    "    },\n",
    "}"
   ]
  },
  {
   "cell_type": "code",
   "execution_count": 9,
   "id": "167a0f58",
   "metadata": {},
   "outputs": [],
   "source": [
    "with open(adapter_config_path, \"w\") as f:\n",
    "    json.dump(lora_config, f, indent=4)"
   ]
  },
  {
   "cell_type": "code",
   "execution_count": 10,
   "id": "38d27b93",
   "metadata": {},
   "outputs": [],
   "source": [
    "training_args = TrainingArgs(\n",
    "    adapter_file=adapter_file_path,\n",
    "    iters=200,\n",
    "    steps_per_eval=50,\n",
    "    grad_checkpoint=True,\n",
    ")"
   ]
  },
  {
   "cell_type": "markdown",
   "id": "e66b2991",
   "metadata": {},
   "source": [
    "# Parameters and adapter\n",
    "La razón por la que ves 163,840 parámetros entrenables en lugar de los 270 millones del modelo completo es porque no estás\n",
    "  re-entrenando el modelo entero. Estás utilizando una técnica de ajuste fino de alta eficiencia de parámetros (PEFT) llamada LoRA \n",
    "  (Low-Rank Adaptation).\n",
    "\n",
    "  Así es como funciona en tu notebook:\n",
    "\n",
    "   1. Congelar el modelo base: En la celda con el id: a3b86f5c, la primera línea es model.freeze(). Esto \"congela\" todos los 270 millones\n",
    "      de parámetros del modelo Gemma, haciendo que no sean entrenables.\n",
    "\n",
    "   2. Inyectar adaptadores LoRA: La siguiente línea, linear_to_lora_layers(...), añade pequeños \"adaptadores\" o capas de bajo rango a\n",
    "      ciertas partes del modelo (en tu caso, a 8 capas, según se define en lora_config).\n",
    "\n",
    "   3. Entrenar solo los adaptadores: Solo se entrenan los parámetros de estos nuevos y pequeños adaptadores. El número 163,840 es la suma\n",
    "      de todos los parámetros de estas nuevas capas LoRA que se han añadido.\n",
    "\n",
    "  En resumen:\n",
    "\n",
    "   * 270 Millones: Es el tamaño total del modelo base, que permanece sin cambios.\n",
    "   * 163,840: Es el número de parámetros nuevos y adicionales que estás entrenando. Estos parámetros son los que \"aprenden\" la nueva\n",
    "     tarea (en este caso, generar consultas SQL) y adaptan el conocimiento del modelo original.\n",
    "\n",
    "  Esta es la gran ventaja de LoRA: te permite especializar un modelo enorme en una tarea específica de forma muy rápida y con muchos\n",
    "  menos recursos computacionales, ya que solo necesitas entrenar una fracción minúscula (<0.1%) de los parámetros totales."
   ]
  },
  {
   "cell_type": "code",
   "execution_count": 11,
   "id": "a3b86f5c",
   "metadata": {},
   "outputs": [
    {
     "name": "stdout",
     "output_type": "stream",
     "text": [
      "Number of trainable parameters: 163840\n"
     ]
    },
    {
     "data": {
      "text/plain": [
       "Model(\n",
       "  (model): Gemma3Model(\n",
       "    (embed_tokens): Embedding(262144, 640)\n",
       "    (layers.0): TransformerBlock(\n",
       "      (self_attn): Attention(\n",
       "        (q_proj): Linear(input_dims=640, output_dims=1024, bias=False)\n",
       "        (k_proj): Linear(input_dims=640, output_dims=256, bias=False)\n",
       "        (v_proj): Linear(input_dims=640, output_dims=256, bias=False)\n",
       "        (o_proj): Linear(input_dims=1024, output_dims=640, bias=False)\n",
       "        (q_norm): RMSNorm()\n",
       "        (k_norm): RMSNorm()\n",
       "        (rope): RoPE(256, traditional=False)\n",
       "      )\n",
       "      (mlp): MLP(\n",
       "        (gate_proj): Linear(input_dims=640, output_dims=2048, bias=False)\n",
       "        (down_proj): Linear(input_dims=2048, output_dims=640, bias=False)\n",
       "        (up_proj): Linear(input_dims=640, output_dims=2048, bias=False)\n",
       "      )\n",
       "      (input_layernorm): RMSNorm()\n",
       "      (post_attention_layernorm): RMSNorm()\n",
       "      (pre_feedforward_layernorm): RMSNorm()\n",
       "      (post_feedforward_layernorm): RMSNorm()\n",
       "    )\n",
       "    (layers.1): TransformerBlock(\n",
       "      (self_attn): Attention(\n",
       "        (q_proj): Linear(input_dims=640, output_dims=1024, bias=False)\n",
       "        (k_proj): Linear(input_dims=640, output_dims=256, bias=False)\n",
       "        (v_proj): Linear(input_dims=640, output_dims=256, bias=False)\n",
       "        (o_proj): Linear(input_dims=1024, output_dims=640, bias=False)\n",
       "        (q_norm): RMSNorm()\n",
       "        (k_norm): RMSNorm()\n",
       "        (rope): RoPE(256, traditional=False)\n",
       "      )\n",
       "      (mlp): MLP(\n",
       "        (gate_proj): Linear(input_dims=640, output_dims=2048, bias=False)\n",
       "        (down_proj): Linear(input_dims=2048, output_dims=640, bias=False)\n",
       "        (up_proj): Linear(input_dims=640, output_dims=2048, bias=False)\n",
       "      )\n",
       "      (input_layernorm): RMSNorm()\n",
       "      (post_attention_layernorm): RMSNorm()\n",
       "      (pre_feedforward_layernorm): RMSNorm()\n",
       "      (post_feedforward_layernorm): RMSNorm()\n",
       "    )\n",
       "    (layers.2): TransformerBlock(\n",
       "      (self_attn): Attention(\n",
       "        (q_proj): Linear(input_dims=640, output_dims=1024, bias=False)\n",
       "        (k_proj): Linear(input_dims=640, output_dims=256, bias=False)\n",
       "        (v_proj): Linear(input_dims=640, output_dims=256, bias=False)\n",
       "        (o_proj): Linear(input_dims=1024, output_dims=640, bias=False)\n",
       "        (q_norm): RMSNorm()\n",
       "        (k_norm): RMSNorm()\n",
       "        (rope): RoPE(256, traditional=False)\n",
       "      )\n",
       "      (mlp): MLP(\n",
       "        (gate_proj): Linear(input_dims=640, output_dims=2048, bias=False)\n",
       "        (down_proj): Linear(input_dims=2048, output_dims=640, bias=False)\n",
       "        (up_proj): Linear(input_dims=640, output_dims=2048, bias=False)\n",
       "      )\n",
       "      (input_layernorm): RMSNorm()\n",
       "      (post_attention_layernorm): RMSNorm()\n",
       "      (pre_feedforward_layernorm): RMSNorm()\n",
       "      (post_feedforward_layernorm): RMSNorm()\n",
       "    )\n",
       "    (layers.3): TransformerBlock(\n",
       "      (self_attn): Attention(\n",
       "        (q_proj): Linear(input_dims=640, output_dims=1024, bias=False)\n",
       "        (k_proj): Linear(input_dims=640, output_dims=256, bias=False)\n",
       "        (v_proj): Linear(input_dims=640, output_dims=256, bias=False)\n",
       "        (o_proj): Linear(input_dims=1024, output_dims=640, bias=False)\n",
       "        (q_norm): RMSNorm()\n",
       "        (k_norm): RMSNorm()\n",
       "        (rope): RoPE(256, traditional=False)\n",
       "      )\n",
       "      (mlp): MLP(\n",
       "        (gate_proj): Linear(input_dims=640, output_dims=2048, bias=False)\n",
       "        (down_proj): Linear(input_dims=2048, output_dims=640, bias=False)\n",
       "        (up_proj): Linear(input_dims=640, output_dims=2048, bias=False)\n",
       "      )\n",
       "      (input_layernorm): RMSNorm()\n",
       "      (post_attention_layernorm): RMSNorm()\n",
       "      (pre_feedforward_layernorm): RMSNorm()\n",
       "      (post_feedforward_layernorm): RMSNorm()\n",
       "    )\n",
       "    (layers.4): TransformerBlock(\n",
       "      (self_attn): Attention(\n",
       "        (q_proj): Linear(input_dims=640, output_dims=1024, bias=False)\n",
       "        (k_proj): Linear(input_dims=640, output_dims=256, bias=False)\n",
       "        (v_proj): Linear(input_dims=640, output_dims=256, bias=False)\n",
       "        (o_proj): Linear(input_dims=1024, output_dims=640, bias=False)\n",
       "        (q_norm): RMSNorm()\n",
       "        (k_norm): RMSNorm()\n",
       "        (rope): RoPE(256, traditional=False)\n",
       "      )\n",
       "      (mlp): MLP(\n",
       "        (gate_proj): Linear(input_dims=640, output_dims=2048, bias=False)\n",
       "        (down_proj): Linear(input_dims=2048, output_dims=640, bias=False)\n",
       "        (up_proj): Linear(input_dims=640, output_dims=2048, bias=False)\n",
       "      )\n",
       "      (input_layernorm): RMSNorm()\n",
       "      (post_attention_layernorm): RMSNorm()\n",
       "      (pre_feedforward_layernorm): RMSNorm()\n",
       "      (post_feedforward_layernorm): RMSNorm()\n",
       "    )\n",
       "    (layers.5): TransformerBlock(\n",
       "      (self_attn): Attention(\n",
       "        (q_proj): Linear(input_dims=640, output_dims=1024, bias=False)\n",
       "        (k_proj): Linear(input_dims=640, output_dims=256, bias=False)\n",
       "        (v_proj): Linear(input_dims=640, output_dims=256, bias=False)\n",
       "        (o_proj): Linear(input_dims=1024, output_dims=640, bias=False)\n",
       "        (q_norm): RMSNorm()\n",
       "        (k_norm): RMSNorm()\n",
       "        (rope): RoPE(256, traditional=False)\n",
       "      )\n",
       "      (mlp): MLP(\n",
       "        (gate_proj): Linear(input_dims=640, output_dims=2048, bias=False)\n",
       "        (down_proj): Linear(input_dims=2048, output_dims=640, bias=False)\n",
       "        (up_proj): Linear(input_dims=640, output_dims=2048, bias=False)\n",
       "      )\n",
       "      (input_layernorm): RMSNorm()\n",
       "      (post_attention_layernorm): RMSNorm()\n",
       "      (pre_feedforward_layernorm): RMSNorm()\n",
       "      (post_feedforward_layernorm): RMSNorm()\n",
       "    )\n",
       "    (layers.6): TransformerBlock(\n",
       "      (self_attn): Attention(\n",
       "        (q_proj): Linear(input_dims=640, output_dims=1024, bias=False)\n",
       "        (k_proj): Linear(input_dims=640, output_dims=256, bias=False)\n",
       "        (v_proj): Linear(input_dims=640, output_dims=256, bias=False)\n",
       "        (o_proj): Linear(input_dims=1024, output_dims=640, bias=False)\n",
       "        (q_norm): RMSNorm()\n",
       "        (k_norm): RMSNorm()\n",
       "        (rope): RoPE(256, traditional=False)\n",
       "      )\n",
       "      (mlp): MLP(\n",
       "        (gate_proj): Linear(input_dims=640, output_dims=2048, bias=False)\n",
       "        (down_proj): Linear(input_dims=2048, output_dims=640, bias=False)\n",
       "        (up_proj): Linear(input_dims=640, output_dims=2048, bias=False)\n",
       "      )\n",
       "      (input_layernorm): RMSNorm()\n",
       "      (post_attention_layernorm): RMSNorm()\n",
       "      (pre_feedforward_layernorm): RMSNorm()\n",
       "      (post_feedforward_layernorm): RMSNorm()\n",
       "    )\n",
       "    (layers.7): TransformerBlock(\n",
       "      (self_attn): Attention(\n",
       "        (q_proj): Linear(input_dims=640, output_dims=1024, bias=False)\n",
       "        (k_proj): Linear(input_dims=640, output_dims=256, bias=False)\n",
       "        (v_proj): Linear(input_dims=640, output_dims=256, bias=False)\n",
       "        (o_proj): Linear(input_dims=1024, output_dims=640, bias=False)\n",
       "        (q_norm): RMSNorm()\n",
       "        (k_norm): RMSNorm()\n",
       "        (rope): RoPE(256, traditional=False)\n",
       "      )\n",
       "      (mlp): MLP(\n",
       "        (gate_proj): Linear(input_dims=640, output_dims=2048, bias=False)\n",
       "        (down_proj): Linear(input_dims=2048, output_dims=640, bias=False)\n",
       "        (up_proj): Linear(input_dims=640, output_dims=2048, bias=False)\n",
       "      )\n",
       "      (input_layernorm): RMSNorm()\n",
       "      (post_attention_layernorm): RMSNorm()\n",
       "      (pre_feedforward_layernorm): RMSNorm()\n",
       "      (post_feedforward_layernorm): RMSNorm()\n",
       "    )\n",
       "    (layers.8): TransformerBlock(\n",
       "      (self_attn): Attention(\n",
       "        (q_proj): Linear(input_dims=640, output_dims=1024, bias=False)\n",
       "        (k_proj): Linear(input_dims=640, output_dims=256, bias=False)\n",
       "        (v_proj): Linear(input_dims=640, output_dims=256, bias=False)\n",
       "        (o_proj): Linear(input_dims=1024, output_dims=640, bias=False)\n",
       "        (q_norm): RMSNorm()\n",
       "        (k_norm): RMSNorm()\n",
       "        (rope): RoPE(256, traditional=False)\n",
       "      )\n",
       "      (mlp): MLP(\n",
       "        (gate_proj): Linear(input_dims=640, output_dims=2048, bias=False)\n",
       "        (down_proj): Linear(input_dims=2048, output_dims=640, bias=False)\n",
       "        (up_proj): Linear(input_dims=640, output_dims=2048, bias=False)\n",
       "      )\n",
       "      (input_layernorm): RMSNorm()\n",
       "      (post_attention_layernorm): RMSNorm()\n",
       "      (pre_feedforward_layernorm): RMSNorm()\n",
       "      (post_feedforward_layernorm): RMSNorm()\n",
       "    )\n",
       "    (layers.9): TransformerBlock(\n",
       "      (self_attn): Attention(\n",
       "        (q_proj): Linear(input_dims=640, output_dims=1024, bias=False)\n",
       "        (k_proj): Linear(input_dims=640, output_dims=256, bias=False)\n",
       "        (v_proj): Linear(input_dims=640, output_dims=256, bias=False)\n",
       "        (o_proj): Linear(input_dims=1024, output_dims=640, bias=False)\n",
       "        (q_norm): RMSNorm()\n",
       "        (k_norm): RMSNorm()\n",
       "        (rope): RoPE(256, traditional=False)\n",
       "      )\n",
       "      (mlp): MLP(\n",
       "        (gate_proj): Linear(input_dims=640, output_dims=2048, bias=False)\n",
       "        (down_proj): Linear(input_dims=2048, output_dims=640, bias=False)\n",
       "        (up_proj): Linear(input_dims=640, output_dims=2048, bias=False)\n",
       "      )\n",
       "      (input_layernorm): RMSNorm()\n",
       "      (post_attention_layernorm): RMSNorm()\n",
       "      (pre_feedforward_layernorm): RMSNorm()\n",
       "      (post_feedforward_layernorm): RMSNorm()\n",
       "    )\n",
       "    (layers.10): TransformerBlock(\n",
       "      (self_attn): Attention(\n",
       "        (q_proj): LoRALinear(\n",
       "          (linear): Linear(input_dims=640, output_dims=1024, bias=False)\n",
       "          (dropout): Dropout(p=0.0)\n",
       "        )\n",
       "        (k_proj): Linear(input_dims=640, output_dims=256, bias=False)\n",
       "        (v_proj): LoRALinear(\n",
       "          (linear): Linear(input_dims=640, output_dims=256, bias=False)\n",
       "          (dropout): Dropout(p=0.0)\n",
       "        )\n",
       "        (o_proj): Linear(input_dims=1024, output_dims=640, bias=False)\n",
       "        (q_norm): RMSNorm()\n",
       "        (k_norm): RMSNorm()\n",
       "        (rope): RoPE(256, traditional=False)\n",
       "      )\n",
       "      (mlp): MLP(\n",
       "        (gate_proj): Linear(input_dims=640, output_dims=2048, bias=False)\n",
       "        (down_proj): Linear(input_dims=2048, output_dims=640, bias=False)\n",
       "        (up_proj): Linear(input_dims=640, output_dims=2048, bias=False)\n",
       "      )\n",
       "      (input_layernorm): RMSNorm()\n",
       "      (post_attention_layernorm): RMSNorm()\n",
       "      (pre_feedforward_layernorm): RMSNorm()\n",
       "      (post_feedforward_layernorm): RMSNorm()\n",
       "    )\n",
       "    (layers.11): TransformerBlock(\n",
       "      (self_attn): Attention(\n",
       "        (q_proj): LoRALinear(\n",
       "          (linear): Linear(input_dims=640, output_dims=1024, bias=False)\n",
       "          (dropout): Dropout(p=0.0)\n",
       "        )\n",
       "        (k_proj): Linear(input_dims=640, output_dims=256, bias=False)\n",
       "        (v_proj): LoRALinear(\n",
       "          (linear): Linear(input_dims=640, output_dims=256, bias=False)\n",
       "          (dropout): Dropout(p=0.0)\n",
       "        )\n",
       "        (o_proj): Linear(input_dims=1024, output_dims=640, bias=False)\n",
       "        (q_norm): RMSNorm()\n",
       "        (k_norm): RMSNorm()\n",
       "        (rope): RoPE(256, traditional=False)\n",
       "      )\n",
       "      (mlp): MLP(\n",
       "        (gate_proj): Linear(input_dims=640, output_dims=2048, bias=False)\n",
       "        (down_proj): Linear(input_dims=2048, output_dims=640, bias=False)\n",
       "        (up_proj): Linear(input_dims=640, output_dims=2048, bias=False)\n",
       "      )\n",
       "      (input_layernorm): RMSNorm()\n",
       "      (post_attention_layernorm): RMSNorm()\n",
       "      (pre_feedforward_layernorm): RMSNorm()\n",
       "      (post_feedforward_layernorm): RMSNorm()\n",
       "    )\n",
       "    (layers.12): TransformerBlock(\n",
       "      (self_attn): Attention(\n",
       "        (q_proj): LoRALinear(\n",
       "          (linear): Linear(input_dims=640, output_dims=1024, bias=False)\n",
       "          (dropout): Dropout(p=0.0)\n",
       "        )\n",
       "        (k_proj): Linear(input_dims=640, output_dims=256, bias=False)\n",
       "        (v_proj): LoRALinear(\n",
       "          (linear): Linear(input_dims=640, output_dims=256, bias=False)\n",
       "          (dropout): Dropout(p=0.0)\n",
       "        )\n",
       "        (o_proj): Linear(input_dims=1024, output_dims=640, bias=False)\n",
       "        (q_norm): RMSNorm()\n",
       "        (k_norm): RMSNorm()\n",
       "        (rope): RoPE(256, traditional=False)\n",
       "      )\n",
       "      (mlp): MLP(\n",
       "        (gate_proj): Linear(input_dims=640, output_dims=2048, bias=False)\n",
       "        (down_proj): Linear(input_dims=2048, output_dims=640, bias=False)\n",
       "        (up_proj): Linear(input_dims=640, output_dims=2048, bias=False)\n",
       "      )\n",
       "      (input_layernorm): RMSNorm()\n",
       "      (post_attention_layernorm): RMSNorm()\n",
       "      (pre_feedforward_layernorm): RMSNorm()\n",
       "      (post_feedforward_layernorm): RMSNorm()\n",
       "    )\n",
       "    (layers.13): TransformerBlock(\n",
       "      (self_attn): Attention(\n",
       "        (q_proj): LoRALinear(\n",
       "          (linear): Linear(input_dims=640, output_dims=1024, bias=False)\n",
       "          (dropout): Dropout(p=0.0)\n",
       "        )\n",
       "        (k_proj): Linear(input_dims=640, output_dims=256, bias=False)\n",
       "        (v_proj): LoRALinear(\n",
       "          (linear): Linear(input_dims=640, output_dims=256, bias=False)\n",
       "          (dropout): Dropout(p=0.0)\n",
       "        )\n",
       "        (o_proj): Linear(input_dims=1024, output_dims=640, bias=False)\n",
       "        (q_norm): RMSNorm()\n",
       "        (k_norm): RMSNorm()\n",
       "        (rope): RoPE(256, traditional=False)\n",
       "      )\n",
       "      (mlp): MLP(\n",
       "        (gate_proj): Linear(input_dims=640, output_dims=2048, bias=False)\n",
       "        (down_proj): Linear(input_dims=2048, output_dims=640, bias=False)\n",
       "        (up_proj): Linear(input_dims=640, output_dims=2048, bias=False)\n",
       "      )\n",
       "      (input_layernorm): RMSNorm()\n",
       "      (post_attention_layernorm): RMSNorm()\n",
       "      (pre_feedforward_layernorm): RMSNorm()\n",
       "      (post_feedforward_layernorm): RMSNorm()\n",
       "    )\n",
       "    (layers.14): TransformerBlock(\n",
       "      (self_attn): Attention(\n",
       "        (q_proj): LoRALinear(\n",
       "          (linear): Linear(input_dims=640, output_dims=1024, bias=False)\n",
       "          (dropout): Dropout(p=0.0)\n",
       "        )\n",
       "        (k_proj): Linear(input_dims=640, output_dims=256, bias=False)\n",
       "        (v_proj): LoRALinear(\n",
       "          (linear): Linear(input_dims=640, output_dims=256, bias=False)\n",
       "          (dropout): Dropout(p=0.0)\n",
       "        )\n",
       "        (o_proj): Linear(input_dims=1024, output_dims=640, bias=False)\n",
       "        (q_norm): RMSNorm()\n",
       "        (k_norm): RMSNorm()\n",
       "        (rope): RoPE(256, traditional=False)\n",
       "      )\n",
       "      (mlp): MLP(\n",
       "        (gate_proj): Linear(input_dims=640, output_dims=2048, bias=False)\n",
       "        (down_proj): Linear(input_dims=2048, output_dims=640, bias=False)\n",
       "        (up_proj): Linear(input_dims=640, output_dims=2048, bias=False)\n",
       "      )\n",
       "      (input_layernorm): RMSNorm()\n",
       "      (post_attention_layernorm): RMSNorm()\n",
       "      (pre_feedforward_layernorm): RMSNorm()\n",
       "      (post_feedforward_layernorm): RMSNorm()\n",
       "    )\n",
       "    (layers.15): TransformerBlock(\n",
       "      (self_attn): Attention(\n",
       "        (q_proj): LoRALinear(\n",
       "          (linear): Linear(input_dims=640, output_dims=1024, bias=False)\n",
       "          (dropout): Dropout(p=0.0)\n",
       "        )\n",
       "        (k_proj): Linear(input_dims=640, output_dims=256, bias=False)\n",
       "        (v_proj): LoRALinear(\n",
       "          (linear): Linear(input_dims=640, output_dims=256, bias=False)\n",
       "          (dropout): Dropout(p=0.0)\n",
       "        )\n",
       "        (o_proj): Linear(input_dims=1024, output_dims=640, bias=False)\n",
       "        (q_norm): RMSNorm()\n",
       "        (k_norm): RMSNorm()\n",
       "        (rope): RoPE(256, traditional=False)\n",
       "      )\n",
       "      (mlp): MLP(\n",
       "        (gate_proj): Linear(input_dims=640, output_dims=2048, bias=False)\n",
       "        (down_proj): Linear(input_dims=2048, output_dims=640, bias=False)\n",
       "        (up_proj): Linear(input_dims=640, output_dims=2048, bias=False)\n",
       "      )\n",
       "      (input_layernorm): RMSNorm()\n",
       "      (post_attention_layernorm): RMSNorm()\n",
       "      (pre_feedforward_layernorm): RMSNorm()\n",
       "      (post_feedforward_layernorm): RMSNorm()\n",
       "    )\n",
       "    (layers.16): TransformerBlock(\n",
       "      (self_attn): Attention(\n",
       "        (q_proj): LoRALinear(\n",
       "          (linear): Linear(input_dims=640, output_dims=1024, bias=False)\n",
       "          (dropout): Dropout(p=0.0)\n",
       "        )\n",
       "        (k_proj): Linear(input_dims=640, output_dims=256, bias=False)\n",
       "        (v_proj): LoRALinear(\n",
       "          (linear): Linear(input_dims=640, output_dims=256, bias=False)\n",
       "          (dropout): Dropout(p=0.0)\n",
       "        )\n",
       "        (o_proj): Linear(input_dims=1024, output_dims=640, bias=False)\n",
       "        (q_norm): RMSNorm()\n",
       "        (k_norm): RMSNorm()\n",
       "        (rope): RoPE(256, traditional=False)\n",
       "      )\n",
       "      (mlp): MLP(\n",
       "        (gate_proj): Linear(input_dims=640, output_dims=2048, bias=False)\n",
       "        (down_proj): Linear(input_dims=2048, output_dims=640, bias=False)\n",
       "        (up_proj): Linear(input_dims=640, output_dims=2048, bias=False)\n",
       "      )\n",
       "      (input_layernorm): RMSNorm()\n",
       "      (post_attention_layernorm): RMSNorm()\n",
       "      (pre_feedforward_layernorm): RMSNorm()\n",
       "      (post_feedforward_layernorm): RMSNorm()\n",
       "    )\n",
       "    (layers.17): TransformerBlock(\n",
       "      (self_attn): Attention(\n",
       "        (q_proj): LoRALinear(\n",
       "          (linear): Linear(input_dims=640, output_dims=1024, bias=False)\n",
       "          (dropout): Dropout(p=0.0)\n",
       "        )\n",
       "        (k_proj): Linear(input_dims=640, output_dims=256, bias=False)\n",
       "        (v_proj): LoRALinear(\n",
       "          (linear): Linear(input_dims=640, output_dims=256, bias=False)\n",
       "          (dropout): Dropout(p=0.0)\n",
       "        )\n",
       "        (o_proj): Linear(input_dims=1024, output_dims=640, bias=False)\n",
       "        (q_norm): RMSNorm()\n",
       "        (k_norm): RMSNorm()\n",
       "        (rope): RoPE(256, traditional=False)\n",
       "      )\n",
       "      (mlp): MLP(\n",
       "        (gate_proj): Linear(input_dims=640, output_dims=2048, bias=False)\n",
       "        (down_proj): Linear(input_dims=2048, output_dims=640, bias=False)\n",
       "        (up_proj): Linear(input_dims=640, output_dims=2048, bias=False)\n",
       "      )\n",
       "      (input_layernorm): RMSNorm()\n",
       "      (post_attention_layernorm): RMSNorm()\n",
       "      (pre_feedforward_layernorm): RMSNorm()\n",
       "      (post_feedforward_layernorm): RMSNorm()\n",
       "    )\n",
       "    (norm): RMSNorm()\n",
       "  )\n",
       ")"
      ]
     },
     "execution_count": 11,
     "metadata": {},
     "output_type": "execute_result"
    }
   ],
   "source": [
    "model.freeze()\n",
    "linear_to_lora_layers(model, lora_config[\"num_layers\"], lora_config[\"lora_parameters\"])\n",
    "num_train_params = sum(v.size for _, v in tree_flatten(model.trainable_parameters()))\n",
    "print(f\"Number of trainable parameters: {num_train_params}\")\n",
    "model.train()"
   ]
  },
  {
   "cell_type": "code",
   "execution_count": 12,
   "id": "4b300e9c",
   "metadata": {},
   "outputs": [],
   "source": [
    "class Metrics:\n",
    "    def __init__(self) -> None:\n",
    "        self.train_losses: List[Tuple[int, float]] = []\n",
    "        self.val_losses: List[Tuple[int, float]] = []\n",
    "\n",
    "    def on_train_loss_report(self, info: Dict[str, Union[float, int]]) -> None:\n",
    "        self.train_losses.append((info[\"iteration\"], info[\"train_loss\"]))\n",
    "\n",
    "    def on_val_loss_report(self, info: Dict[str, Union[float, int]]) -> None:\n",
    "        self.val_losses.append((info[\"iteration\"], info[\"val_loss\"]))"
   ]
  },
  {
   "cell_type": "code",
   "execution_count": 13,
   "id": "945ce611",
   "metadata": {},
   "outputs": [],
   "source": [
    "metrics = Metrics()"
   ]
  },
  {
   "cell_type": "markdown",
   "id": "4d6e2b43",
   "metadata": {},
   "source": [
    "# load data"
   ]
  },
  {
   "cell_type": "code",
   "execution_count": 14,
   "id": "9818a6c6",
   "metadata": {},
   "outputs": [
    {
     "name": "stdout",
     "output_type": "stream",
     "text": [
      "Loading Hugging Face dataset nvidia/HelpSteer.\n"
     ]
    }
   ],
   "source": [
    "import types\n",
    "from mlx_lm.tuner.datasets import load_custom_hf_dataset\n",
    "\n",
    "args = types.SimpleNamespace(\n",
    "    hf_dataset={\n",
    "        \"path\": \"nvidia/HelpSteer\",\n",
    "        \"train_split\": \"train[:90%]\",\n",
    "        \"valid_split\": \"train[-10%:]\",        \n",
    "        \"prompt_feature\": \"prompt\",\n",
    "        \"completion_feature\": \"response\",\n",
    "        \"config\": {},                        \n",
    "    },\n",
    "    mask_prompt=False,                       \n",
    "    train=True,                              \n",
    "    test=False                                \n",
    ")\n",
    "train_set, val_set, test_set = load_custom_hf_dataset(\n",
    "    args=args,\n",
    "    tokenizer=tokenizer\n",
    "    \n",
    ")"
   ]
  },
  {
   "cell_type": "code",
   "execution_count": 15,
   "id": "8bd0152a",
   "metadata": {},
   "outputs": [
    {
     "name": "stdout",
     "output_type": "stream",
     "text": [
      "Test set size: 0\n",
      "Validation set size: 3533\n",
      "Training set size: 31798\n",
      "test set: []\n"
     ]
    }
   ],
   "source": [
    "print(f\"Test set size: {len(test_set)}\")\n",
    "print(f\"Validation set size: {len(val_set)}\")\n",
    "print(f\"Training set size: {len(train_set)}\")\n",
    "print(f\"test set: {test_set[:2]}\")"
   ]
  },
  {
   "cell_type": "code",
   "execution_count": null,
   "id": "93609708",
   "metadata": {},
   "outputs": [
    {
     "name": "stdout",
     "output_type": "stream",
     "text": [
      "Starting training..., iters: 200\n"
     ]
    },
    {
     "name": "stderr",
     "output_type": "stream",
     "text": [
      "Calculating loss...: 100%|██████████| 25/25 [00:32<00:00,  1.30s/it]"
     ]
    },
    {
     "name": "stdout",
     "output_type": "stream",
     "text": [
      "Iter 1: Val loss 3.444, Val took 32.590s\n"
     ]
    },
    {
     "name": "stderr",
     "output_type": "stream",
     "text": [
      "\n"
     ]
    }
   ],
   "source": [
    "from mlx_lm.tuner.datasets import CacheDataset\n",
    "\n",
    "train_dataset = CacheDataset(train_set)\n",
    "val_dataset = CacheDataset(val_set)\n",
    "\n",
    "train(\n",
    "    model,\n",
    "    optim.Adam(learning_rate=1e-5),\n",
    "    train_dataset,\n",
    "    val_dataset,\n",
    "    args=training_args,\n",
    "    training_callback=metrics\n",
    ")\n"
   ]
  },
  {
   "cell_type": "markdown",
   "id": "0f932b34",
   "metadata": {},
   "source": [
    "## Fusionar modelo base con adaptador\n",
    "revisar, por que al parecer se está fijando el valor del modelo a fucionar, esto debería ser así?"
   ]
  },
  {
   "cell_type": "code",
   "execution_count": null,
   "id": "255d5151",
   "metadata": {},
   "outputs": [],
   "source": [
    "! python -m mlx_lm fuse  --model ./models_cache/hub/models--google--gemma-3-270m-it/snapshots/ac82b4e820549b854eebf28ce6dedaf9fdfa17b3 --adapter-path ./adapters_gemma3 --save-path ./new_gemma3 "
   ]
  },
  {
   "cell_type": "markdown",
   "id": "b9616483",
   "metadata": {},
   "source": [
    "# Subir modelo a HF\n",
    "Utilizando el API de HF se sube el modelo a deimagjas/Phi-3.5-mini-instruct-4bit-sft"
   ]
  },
  {
   "cell_type": "code",
   "execution_count": null,
   "id": "b6ef97ac",
   "metadata": {},
   "outputs": [],
   "source": [
    "from huggingface_hub import  upload_folder\n",
    "\n",
    "repo_id = \"deimagjas/gemma-3-270m-it-sft\"\n",
    "\n",
    "upload_folder(\n",
    "    folder_path=\"./new_gemma3\",\n",
    "    repo_id=repo_id\n",
    ")\n"
   ]
  },
  {
   "cell_type": "markdown",
   "id": "402c7625",
   "metadata": {},
   "source": [
    "## Test HF model"
   ]
  },
  {
   "cell_type": "code",
   "execution_count": null,
   "id": "e405bb57",
   "metadata": {},
   "outputs": [],
   "source": [
    "model_path = \"deimagjas/gemma-3-270m-it-sft\"\n",
    "model_sft, tokenizer_sft = load(model_path)"
   ]
  },
  {
   "cell_type": "code",
   "execution_count": null,
   "id": "9eeb3b32",
   "metadata": {},
   "outputs": [],
   "source": [
    "prompt = \"generate an SQL query to find all users who registered in the last 30 days\"\n",
    "messages = [{\"role\": \"user\", \"content\": prompt}]\n",
    "prompt = tokenizer_sft.apply_chat_template(\n",
    "    messages, tokenize=False, add_generation_prompt=True\n",
    ")\n",
    "response = generate(model_sft, tokenizer_sft, prompt=prompt, verbose=True)"
   ]
  },
  {
   "cell_type": "markdown",
   "id": "bb23154d",
   "metadata": {},
   "source": [
    "# Conclusión\n",
    "\n",
    "El fine tunning en este caso fallo, el modelo presenta fallas en la inferencia. ¿por qué?\n",
    "Ademas consume 5X memoria mas o menos"
   ]
  }
 ],
 "metadata": {
  "kernelspec": {
   "display_name": "gemma3-finetunning",
   "language": "python",
   "name": "python3"
  },
  "language_info": {
   "codemirror_mode": {
    "name": "ipython",
    "version": 3
   },
   "file_extension": ".py",
   "mimetype": "text/x-python",
   "name": "python",
   "nbconvert_exporter": "python",
   "pygments_lexer": "ipython3",
   "version": "3.13.7"
  }
 },
 "nbformat": 4,
 "nbformat_minor": 5
}
