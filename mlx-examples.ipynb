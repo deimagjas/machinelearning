{
 "cells": [
  {
   "cell_type": "markdown",
   "metadata": {},
   "source": [
    "# Examples\n"
   ]
  },
  {
   "cell_type": "code",
   "execution_count": null,
   "metadata": {},
   "outputs": [],
   "source": [
    "! pip install --upgrade transformers mlx_lm"
   ]
  },
  {
   "cell_type": "code",
   "execution_count": null,
   "metadata": {},
   "outputs": [],
   "source": [
    "! pip install --force-reinstall mlx"
   ]
  },
  {
   "cell_type": "code",
   "execution_count": 3,
   "metadata": {},
   "outputs": [
    {
     "name": "stdout",
     "output_type": "stream",
     "text": [
      "array(0, dtype=int32)\n"
     ]
    }
   ],
   "source": [
    "import mlx.core as mx\n",
    "\n",
    "\n",
    "covid_1 = mx.array([1,2,3,4,5,6,9])\n",
    "covid_2 = mx.array([1, 0,1,2,4,5,6])\n",
    "\n",
    "weight_2 = mx.array([0,0,0,0,0,0,0])\n",
    "\n",
    "weight_2_t = mx.transpose(weight_2)\n",
    "\n",
    "weight_2_t_dot_covid_1 = mx.sum( weight_2_t * covid_1)\n",
    "\n",
    "print(weight_2_t_dot_covid_1)\n"
   ]
  },
  {
   "cell_type": "code",
   "execution_count": 2,
   "metadata": {},
   "outputs": [
    {
     "name": "stdout",
     "output_type": "stream",
     "text": [
      "0\n"
     ]
    }
   ],
   "source": [
    "import numpy as np\n",
    "\n",
    "covid_1 = np.array([1,2,3,4,5,6,9])\n",
    "covid_2 = np.array([1, 0,1,2,4,5,6])\n",
    "\n",
    "weight_2 = np.array([0,0,0,0,0,0,0])\n",
    "\n",
    "weight_2_t  = np.transpose(weight_2)\n",
    "\n",
    "weight_2_t_dot_covid_1 = np.dot(weight_2_t,covid_1)\n",
    "\n",
    "print(weight_2_t_dot_covid_1)"
   ]
  },
  {
   "cell_type": "code",
   "execution_count": 4,
   "metadata": {},
   "outputs": [
    {
     "name": "stderr",
     "output_type": "stream",
     "text": [
      "/Users/deimagjas/machinelearning/venv/lib/python3.12/site-packages/tqdm/auto.py:21: TqdmWarning: IProgress not found. Please update jupyter and ipywidgets. See https://ipywidgets.readthedocs.io/en/stable/user_install.html\n",
      "  from .autonotebook import tqdm as notebook_tqdm\n",
      "Fetching 7 files: 100%|██████████| 7/7 [00:00<00:00, 137196.86it/s]\n"
     ]
    },
    {
     "name": "stdout",
     "output_type": "stream",
     "text": [
      "==========\n",
      "<think>\n",
      "Okay, I need to generate the fizzbuzz code in Python for a technical interview. Fizzbuzz is a classic programming problem where you print numbers from 1 to 100, but if the number is divisible by 3 or 5, replace it with \"Fizz\" and \"Buzz\". Let me think about how to approach this.\n",
      "\n",
      "First, I should start with the basics. The main loop would run from 1 to 100. For each number, check if it's divisible by 3 or 5. If so, print \"Fizz\" or \"Buzz\". But wait, how to handle the case where both 3 and 5 are divisible? Like 15. The problem says to replace both, so maybe we need to check for both conditions and print both. But maybe the problem expects that if a number is divisible by 3 or 5, it's replaced, but not both. Let me check the problem statement again. The user says \"Asume que es para una entrevista técnica y que el código debe ser claro y fácil de entender. Asume que es para una entrevista técnica y que el código debe ser claro y fácil de entender.\" So maybe the problem expects that if a number is divisible by 3 or 5, it's replaced, but not both. For example, 15 would be replaced as \"FizzBuzz\". So I need to check for either 3 or 5, not both.\n",
      "\n",
      "So the steps are: loop from 1 to 100, for each number, check if it is divisible by 3 or 5. If yes, print \"Fizz\" or \"Buzz\". But how to handle the case where both are true? Like 15. So maybe we can check for either 3 or 5, not both. So for each number, check if (num % 3 == 0) or (num % 5 == 0). If either is true, print the corresponding string. But if both are true, then we need to print both. Wait, but maybe the problem expects that if a number is divisible by 3 or 5, it's replaced, but not both. So for example, 15 would be replaced as \"FizzBuzz\". So perhaps the code should check for either 3 or 5, not both. So for each number, check if (num % 3 == 0) or (num % 5 == 0). If so, print \"Fizz\" or \"Buzz\". But if both are true, then we need to print both. Wait, but maybe the problem expects that if a number is divisible by 3 or 5, it's replaced, but not both. So for example, 15 would be replaced as \"FizzBuzz\". So perhaps the code should check for either 3 or 5, not both. So for each number, check if (num % 3 == 0) or (num % 5 == 0). If so, print \"Fizz\" or \"Buzz\". But if both are true, then we need to print both. Wait, but maybe the problem expects that if a number is divisible by 3 or 5, it's replaced, but not both. So for example, 15 would be replaced as \"FizzBuzz\". So perhaps the code should check for either 3 or 5, not both. So for each number, check if (num % 3 == 0) or (num % 5 == 0). If so, print \"Fizz\" or \"Buzz\". But if both are true, then we need to print both. Wait, but maybe the problem expects that if a number is divisible by 3 or 5, it's replaced, but not both. So for example, 15 would be replaced as \"FizzBuzz\". So perhaps the code should check for either 3 or 5, not both. So for each number, check if (num % 3 == 0) or (num % 5 == 0). If so, print \"Fizz\" or \"Buzz\". But if both are true, then we need to print both. Wait, but maybe the problem expects that if a number is divisible by 3 or 5, it's replaced, but not both. So for example, 15 would be replaced as \"FizzBuzz\". So perhaps the code should check for either 3 or 5, not both. So for each number, check if (num % 3 == 0) or (num % 5 == 0). If so, print \"Fizz\" or \"Buzz\". But if both are true, then we need to print both. Wait, but maybe the problem expects that if a number is divisible by 3 or 5, it's replaced, but not both. So for example, 15 would be replaced as \"FizzBuzz\". So perhaps the code should check for\n",
      "==========\n",
      "Prompt: 40 tokens, 333.273 tokens-per-sec\n",
      "Generation: 1024 tokens, 148.309 tokens-per-sec\n",
      "Peak memory: 0.492 GB\n",
      "<think>\n",
      "Okay, I need to generate the fizzbuzz code in Python for a technical interview. Fizzbuzz is a classic programming problem where you print numbers from 1 to 100, but if the number is divisible by 3 or 5, replace it with \"Fizz\" and \"Buzz\". Let me think about how to approach this.\n",
      "\n",
      "First, I should start with the basics. The main loop would run from 1 to 100. For each number, check if it's divisible by 3 or 5. If so, print \"Fizz\" or \"Buzz\". But wait, how to handle the case where both 3 and 5 are divisible? Like 15. The problem says to replace both, so maybe we need to check for both conditions and print both. But maybe the problem expects that if a number is divisible by 3 or 5, it's replaced, but not both. Let me check the problem statement again. The user says \"Asume que es para una entrevista técnica y que el código debe ser claro y fácil de entender. Asume que es para una entrevista técnica y que el código debe ser claro y fácil de entender.\" So maybe the problem expects that if a number is divisible by 3 or 5, it's replaced, but not both. For example, 15 would be replaced as \"FizzBuzz\". So I need to check for either 3 or 5, not both.\n",
      "\n",
      "So the steps are: loop from 1 to 100, for each number, check if it is divisible by 3 or 5. If yes, print \"Fizz\" or \"Buzz\". But how to handle the case where both are true? Like 15. So maybe we can check for either 3 or 5, not both. So for each number, check if (num % 3 == 0) or (num % 5 == 0). If either is true, print the corresponding string. But if both are true, then we need to print both. Wait, but maybe the problem expects that if a number is divisible by 3 or 5, it's replaced, but not both. So for example, 15 would be replaced as \"FizzBuzz\". So perhaps the code should check for either 3 or 5, not both. So for each number, check if (num % 3 == 0) or (num % 5 == 0). If so, print \"Fizz\" or \"Buzz\". But if both are true, then we need to print both. Wait, but maybe the problem expects that if a number is divisible by 3 or 5, it's replaced, but not both. So for example, 15 would be replaced as \"FizzBuzz\". So perhaps the code should check for either 3 or 5, not both. So for each number, check if (num % 3 == 0) or (num % 5 == 0). If so, print \"Fizz\" or \"Buzz\". But if both are true, then we need to print both. Wait, but maybe the problem expects that if a number is divisible by 3 or 5, it's replaced, but not both. So for example, 15 would be replaced as \"FizzBuzz\". So perhaps the code should check for either 3 or 5, not both. So for each number, check if (num % 3 == 0) or (num % 5 == 0). If so, print \"Fizz\" or \"Buzz\". But if both are true, then we need to print both. Wait, but maybe the problem expects that if a number is divisible by 3 or 5, it's replaced, but not both. So for example, 15 would be replaced as \"FizzBuzz\". So perhaps the code should check for either 3 or 5, not both. So for each number, check if (num % 3 == 0) or (num % 5 == 0). If so, print \"Fizz\" or \"Buzz\". But if both are true, then we need to print both. Wait, but maybe the problem expects that if a number is divisible by 3 or 5, it's replaced, but not both. So for example, 15 would be replaced as \"FizzBuzz\". So perhaps the code should check for either 3 or 5, not both. So for each number, check if (num % 3 == 0) or (num % 5 == 0). If so, print \"Fizz\" or \"Buzz\". But if both are true, then we need to print both. Wait, but maybe the problem expects that if a number is divisible by 3 or 5, it's replaced, but not both. So for example, 15 would be replaced as \"FizzBuzz\". So perhaps the code should check for\n"
     ]
    }
   ],
   "source": [
    "from mlx_lm import load, generate\n",
    "\n",
    "model, tokenizer = load(\"Qwen/Qwen3-0.6B-MLX-4bit\")\n",
    "prompt = \"Genera el código de fizz buzz en Python. Asume que es para una entrevista técnica y que el código debe ser claro y fácil de entender. \"\n",
    "\n",
    "if tokenizer.chat_template is not None:\n",
    "    messages = [{\"role\": \"user\", \"content\": prompt}]\n",
    "    prompt = tokenizer.apply_chat_template(\n",
    "        messages,\n",
    "        add_generation_prompt=True\n",
    "    )\n",
    "\n",
    "response = generate(\n",
    "    model,\n",
    "    tokenizer,\n",
    "    prompt=prompt,\n",
    "    verbose=True,\n",
    "    max_tokens=1024\n",
    ")\n",
    "print(response)\n"
   ]
  }
 ],
 "metadata": {
  "kernelspec": {
   "display_name": "venv",
   "language": "python",
   "name": "python3"
  },
  "language_info": {
   "codemirror_mode": {
    "name": "ipython",
    "version": 3
   },
   "file_extension": ".py",
   "mimetype": "text/x-python",
   "name": "python",
   "nbconvert_exporter": "python",
   "pygments_lexer": "ipython3",
   "version": "3.12.5"
  }
 },
 "nbformat": 4,
 "nbformat_minor": 2
}
