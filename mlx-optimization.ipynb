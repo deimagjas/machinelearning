{
 "cells": [
  {
   "cell_type": "code",
   "execution_count": 5,
   "id": "0c53aa96",
   "metadata": {},
   "outputs": [
    {
     "name": "stderr",
     "output_type": "stream",
     "text": [
      "huggingface/tokenizers: The current process just got forked, after parallelism has already been used. Disabling parallelism to avoid deadlocks...\n",
      "To disable this warning, you can either:\n",
      "\t- Avoid using `tokenizers` before the fork if possible\n",
      "\t- Explicitly set the environment variable TOKENIZERS_PARALLELISM=(true | false)\n"
     ]
    },
    {
     "name": "stdout",
     "output_type": "stream",
     "text": [
      "Requirement already satisfied: mlx-lm in ./.venv/lib/python3.12/site-packages (0.26.2)\n",
      "Collecting mlx-lm\n",
      "  Downloading mlx_lm-0.26.3-py3-none-any.whl.metadata (10 kB)\n",
      "Requirement already satisfied: mlx>=0.26.0 in ./.venv/lib/python3.12/site-packages (from mlx-lm) (0.27.1)\n",
      "Requirement already satisfied: numpy in ./.venv/lib/python3.12/site-packages (from mlx-lm) (2.3.2)\n",
      "Requirement already satisfied: transformers>=4.39.3 in ./.venv/lib/python3.12/site-packages (from mlx-lm) (4.55.0)\n",
      "Requirement already satisfied: protobuf in ./.venv/lib/python3.12/site-packages (from mlx-lm) (6.31.1)\n",
      "Requirement already satisfied: pyyaml in ./.venv/lib/python3.12/site-packages (from mlx-lm) (6.0.2)\n",
      "Requirement already satisfied: jinja2 in ./.venv/lib/python3.12/site-packages (from mlx-lm) (3.1.6)\n",
      "Requirement already satisfied: mlx-metal==0.27.1 in ./.venv/lib/python3.12/site-packages (from mlx>=0.26.0->mlx-lm) (0.27.1)\n",
      "Requirement already satisfied: filelock in ./.venv/lib/python3.12/site-packages (from transformers>=4.39.3->mlx-lm) (3.18.0)\n",
      "Requirement already satisfied: huggingface-hub<1.0,>=0.34.0 in ./.venv/lib/python3.12/site-packages (from transformers>=4.39.3->mlx-lm) (0.34.3)\n",
      "Requirement already satisfied: packaging>=20.0 in ./.venv/lib/python3.12/site-packages (from transformers>=4.39.3->mlx-lm) (25.0)\n",
      "Requirement already satisfied: regex!=2019.12.17 in ./.venv/lib/python3.12/site-packages (from transformers>=4.39.3->mlx-lm) (2025.7.34)\n",
      "Requirement already satisfied: requests in ./.venv/lib/python3.12/site-packages (from transformers>=4.39.3->mlx-lm) (2.32.4)\n",
      "Requirement already satisfied: tokenizers<0.22,>=0.21 in ./.venv/lib/python3.12/site-packages (from transformers>=4.39.3->mlx-lm) (0.21.4)\n",
      "Requirement already satisfied: safetensors>=0.4.3 in ./.venv/lib/python3.12/site-packages (from transformers>=4.39.3->mlx-lm) (0.6.1)\n",
      "Requirement already satisfied: tqdm>=4.27 in ./.venv/lib/python3.12/site-packages (from transformers>=4.39.3->mlx-lm) (4.67.1)\n",
      "Requirement already satisfied: fsspec>=2023.5.0 in ./.venv/lib/python3.12/site-packages (from huggingface-hub<1.0,>=0.34.0->transformers>=4.39.3->mlx-lm) (2025.7.0)\n",
      "Requirement already satisfied: typing-extensions>=3.7.4.3 in ./.venv/lib/python3.12/site-packages (from huggingface-hub<1.0,>=0.34.0->transformers>=4.39.3->mlx-lm) (4.14.1)\n",
      "Requirement already satisfied: hf-xet<2.0.0,>=1.1.3 in ./.venv/lib/python3.12/site-packages (from huggingface-hub<1.0,>=0.34.0->transformers>=4.39.3->mlx-lm) (1.1.7)\n",
      "Requirement already satisfied: MarkupSafe>=2.0 in ./.venv/lib/python3.12/site-packages (from jinja2->mlx-lm) (3.0.2)\n",
      "Requirement already satisfied: charset_normalizer<4,>=2 in ./.venv/lib/python3.12/site-packages (from requests->transformers>=4.39.3->mlx-lm) (3.4.2)\n",
      "Requirement already satisfied: idna<4,>=2.5 in ./.venv/lib/python3.12/site-packages (from requests->transformers>=4.39.3->mlx-lm) (3.10)\n",
      "Requirement already satisfied: urllib3<3,>=1.21.1 in ./.venv/lib/python3.12/site-packages (from requests->transformers>=4.39.3->mlx-lm) (2.5.0)\n",
      "Requirement already satisfied: certifi>=2017.4.17 in ./.venv/lib/python3.12/site-packages (from requests->transformers>=4.39.3->mlx-lm) (2025.8.3)\n",
      "Downloading mlx_lm-0.26.3-py3-none-any.whl (235 kB)\n",
      "Installing collected packages: mlx-lm\n",
      "  Attempting uninstall: mlx-lm\n",
      "    Found existing installation: mlx-lm 0.26.2\n",
      "    Uninstalling mlx-lm-0.26.2:\n",
      "      Successfully uninstalled mlx-lm-0.26.2\n",
      "Successfully installed mlx-lm-0.26.3\n"
     ]
    }
   ],
   "source": [
    "! pip install mlx-lm --upgrade"
   ]
  },
  {
   "cell_type": "markdown",
   "id": "a3792694",
   "metadata": {},
   "source": [
    "# CLI convert Model\n",
    "En este caso se utiliza el siguiente CLI para realizar una conversión a mlx_lm. No obstante, cuando se reliza de esta manera desde un notebook podría generar error."
   ]
  },
  {
   "cell_type": "code",
   "execution_count": 7,
   "id": "ff266112",
   "metadata": {},
   "outputs": [
    {
     "name": "stderr",
     "output_type": "stream",
     "text": [
      "huggingface/tokenizers: The current process just got forked, after parallelism has already been used. Disabling parallelism to avoid deadlocks...\n",
      "To disable this warning, you can either:\n",
      "\t- Avoid using `tokenizers` before the fork if possible\n",
      "\t- Explicitly set the environment variable TOKENIZERS_PARALLELISM=(true | false)\n"
     ]
    },
    {
     "name": "stdout",
     "output_type": "stream",
     "text": [
      "<frozen runpy>:128: RuntimeWarning: 'mlx_lm.convert' found in sys.modules after import of package 'mlx_lm', but prior to execution of 'mlx_lm.convert'; this may result in unpredictable behaviour\n",
      "Calling `python -m mlx_lm.convert ...` directly is deprecated. Use `mlx_lm.convert ...` or `python -m mlx_lm convert ...` instead.\n",
      "[INFO] Loading\n",
      "Fetching 13 files: 100%|████████████████████| 13/13 [00:00<00:00, 117512.83it/s]\n",
      "[INFO] Using dtype: bfloat16\n",
      "libc++abi: terminating due to uncaught exception of type std::runtime_error: [METAL] Command buffer execution failed: Caused GPU Timeout Error (00000002:kIOGPUCommandBufferCallbackErrorTimeout)\n"
     ]
    }
   ],
   "source": [
    "! python -m mlx_lm.convert --hf-path microsoft/Phi-3-mini-128k-instruct --mlx-path ./phi3-mlx"
   ]
  },
  {
   "cell_type": "markdown",
   "id": "50a43ff5",
   "metadata": {},
   "source": [
    "# Python module convert model\n",
    "En este caso se utilizó mlx_lm para convertir y quantizar el modelo Phi-3-mini-128k-instruct. No existieron errores"
   ]
  },
  {
   "cell_type": "code",
   "execution_count": 8,
   "id": "e069cc34",
   "metadata": {},
   "outputs": [
    {
     "name": "stdout",
     "output_type": "stream",
     "text": [
      "[INFO] Loading\n"
     ]
    },
    {
     "name": "stderr",
     "output_type": "stream",
     "text": [
      "Fetching 13 files: 100%|██████████| 13/13 [00:00<00:00, 154903.27it/s]\n"
     ]
    },
    {
     "name": "stdout",
     "output_type": "stream",
     "text": [
      "[INFO] Using dtype: bfloat16\n",
      "[INFO] Quantizing\n",
      "[INFO] Quantized model with 4.501 bits per weight.\n"
     ]
    }
   ],
   "source": [
    "from mlx_lm import convert\n",
    "\n",
    "repo = \"microsoft/Phi-3-mini-128k-instruct\"\n",
    "\n",
    "convert(repo, quantize=True, mlx_path=\"./phi3-mlx\")"
   ]
  },
  {
   "cell_type": "code",
   "execution_count": 9,
   "id": "b348ec65",
   "metadata": {},
   "outputs": [
    {
     "name": "stderr",
     "output_type": "stream",
     "text": [
      "huggingface/tokenizers: The current process just got forked, after parallelism has already been used. Disabling parallelism to avoid deadlocks...\n",
      "To disable this warning, you can either:\n",
      "\t- Avoid using `tokenizers` before the fork if possible\n",
      "\t- Explicitly set the environment variable TOKENIZERS_PARALLELISM=(true | false)\n"
     ]
    },
    {
     "name": "stdout",
     "output_type": "stream",
     "text": [
      "appnope==0.1.4\n",
      "asttokens==3.0.0\n",
      "certifi==2025.8.3\n",
      "charset-normalizer==3.4.2\n",
      "comm==0.2.3\n",
      "debugpy==1.8.15\n",
      "decorator==5.2.1\n",
      "executing==2.2.0\n",
      "filelock==3.18.0\n",
      "fsspec==2025.7.0\n",
      "hf-xet==1.1.7\n",
      "huggingface-hub==0.34.3\n",
      "idna==3.10\n",
      "ipykernel==6.30.1\n",
      "ipython==9.4.0\n",
      "ipython_pygments_lexers==1.1.1\n",
      "jedi==0.19.2\n",
      "Jinja2==3.1.6\n",
      "jupyter_client==8.6.3\n",
      "jupyter_core==5.8.1\n",
      "MarkupSafe==3.0.2\n",
      "matplotlib-inline==0.1.7\n",
      "mlx==0.27.1\n",
      "mlx-lm==0.26.3\n",
      "mlx-metal==0.27.1\n",
      "nest-asyncio==1.6.0\n",
      "numpy==2.3.2\n",
      "packaging==25.0\n",
      "parso==0.8.4\n",
      "pexpect==4.9.0\n",
      "platformdirs==4.3.8\n",
      "prompt_toolkit==3.0.51\n",
      "protobuf==6.31.1\n",
      "psutil==7.0.0\n",
      "ptyprocess==0.7.0\n",
      "pure_eval==0.2.3\n",
      "Pygments==2.19.2\n",
      "python-dateutil==2.9.0.post0\n",
      "PyYAML==6.0.2\n",
      "pyzmq==27.0.1\n",
      "regex==2025.7.34\n",
      "requests==2.32.4\n",
      "safetensors==0.6.1\n",
      "six==1.17.0\n",
      "stack-data==0.6.3\n",
      "tokenizers==0.21.4\n",
      "tornado==6.5.1\n",
      "tqdm==4.67.1\n",
      "traitlets==5.14.3\n",
      "transformers==4.55.0\n",
      "typing_extensions==4.14.1\n",
      "urllib3==2.5.0\n",
      "wcwidth==0.2.13\n"
     ]
    }
   ],
   "source": [
    "! pip freeze"
   ]
  },
  {
   "cell_type": "code",
   "execution_count": 10,
   "id": "31ea5ed5",
   "metadata": {},
   "outputs": [
    {
     "name": "stdout",
     "output_type": "stream",
     "text": [
      "==========\n",
      "La inferencia en el contexto de aprendizaje automático se refiere al proceso de utilizar un modelo entrenado para hacer predicciones o decisiones basándose en nuevos datos que no han sido vistos durante el entrenamiento. Es decir, es el acto de aplicar el modelo a datos no vistos para obtener resultados o conclusiones. Una vez que un modelo ha sido entrenado utilizando un conjunto de datos, se puede utilizar para hacer predicciones o tomar decisiones sobre nuevos ejemplos, utilizando el conocimiento adquirido durante el proceso de aprendizaje. En el aprendizaje automático, la inferencia se realiza utilizando el modelo para estimar la salida o la clase de un nuevo punto de datos basándose en las características y patrones aprendidos. Por ejemplo, si se ha construido un modelo de clasificación para identificar si una imagen es de un gato o un perro, la inferencia implica pasar una nueva imagen a través del modelo y obtener una predicción de si el objeto en la imagen es un gato o un perro\n",
      "==========\n",
      "Prompt: 20 tokens, 62.025 tokens-per-sec\n",
      "Generation: 256 tokens, 36.352 tokens-per-sec\n",
      "Peak memory: 5.355 GB\n"
     ]
    }
   ],
   "source": [
    "from mlx_lm import load, generate\n",
    "\n",
    "model, tokenizer = load(\"./phi3-mlx\")\n",
    "\n",
    "prompt = \"cDefine inferencia en el contexto de aprendizaje automático.\"\n",
    "\n",
    "messages = [{\"role\": \"user\", \"content\": prompt}]\n",
    "prompt = tokenizer.apply_chat_template(\n",
    "    messages, add_generation_prompt=True\n",
    ")\n",
    "\n",
    "text = generate(model, tokenizer, prompt=prompt, verbose=True)"
   ]
  },
  {
   "cell_type": "code",
   "execution_count": 16,
   "id": "d6d62b8a",
   "metadata": {},
   "outputs": [
    {
     "name": "stdout",
     "output_type": "stream",
     "text": [
      "Help on function linear_to_lora_layers in module mlx_lm.tuner.utils:\n",
      "\n",
      "linear_to_lora_layers(model: mlx.nn.layers.base.Module, num_layers: int, config: Dict, use_dora: bool = False)\n",
      "    Convert some of the models linear layers to lora layers.\n",
      "\n",
      "    Args:\n",
      "        model (nn.Module): The neural network model.\n",
      "        num_layers (int): The number of blocks to convert to lora layers\n",
      "        starting from the last layer.\n",
      "        config (dict): More configuration parameters for LoRA, including the\n",
      "          rank, scale, and optional layer keys.\n",
      "        use_dora (bool): If True, uses DoRA instead of LoRA.\n",
      "          Default: ``False``\n",
      "\n"
     ]
    }
   ],
   "source": [
    "from mlx_lm import generate, load\n",
    "from mlx_lm.tuner import TrainingArgs, datasets, linear_to_lora_layers, train\n",
    "help(linear_to_lora_layers)"
   ]
  }
 ],
 "metadata": {
  "kernelspec": {
   "display_name": ".venv",
   "language": "python",
   "name": "python3"
  },
  "language_info": {
   "codemirror_mode": {
    "name": "ipython",
    "version": 3
   },
   "file_extension": ".py",
   "mimetype": "text/x-python",
   "name": "python",
   "nbconvert_exporter": "python",
   "pygments_lexer": "ipython3",
   "version": "3.12.5"
  }
 },
 "nbformat": 4,
 "nbformat_minor": 5
}
